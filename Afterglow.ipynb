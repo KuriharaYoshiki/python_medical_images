{
 "cells": [
  {
   "cell_type": "markdown",
   "metadata": {},
   "source": [
    "## 第5章　Pythonを使った人工知能の前処理を学ぶ"
   ]
  },
  {
   "cell_type": "markdown",
   "metadata": {},
   "source": [
    "### 5.1　はじめに"
   ]
  },
  {
   "cell_type": "markdown",
   "metadata": {},
   "source": [
    "### 5.2　デーブルデータにおける欠損値の取り扱い"
   ]
  },
  {
   "cell_type": "markdown",
   "metadata": {},
   "source": [
    "5.2.2"
   ]
  },
  {
   "cell_type": "code",
   "execution_count": 7,
   "metadata": {},
   "outputs": [
    {
     "name": "stdout",
     "output_type": "stream",
     "text": [
      "     PassengerId  Survived  Pclass  \\\n",
      "0              1         0       3   \n",
      "1              2         1       1   \n",
      "2              3         1       3   \n",
      "3              4         1       1   \n",
      "4              5         0       3   \n",
      "..           ...       ...     ...   \n",
      "886          887         0       2   \n",
      "887          888         1       1   \n",
      "888          889         0       3   \n",
      "889          890         1       1   \n",
      "890          891         0       3   \n",
      "\n",
      "                                                  Name  Sex   Age  SibSp  \\\n",
      "0                              Braund, Mr. Owen Harris    0  22.0      1   \n",
      "1    Cumings, Mrs. John Bradley (Florence Briggs Th...    1  38.0      1   \n",
      "2                               Heikkinen, Miss. Laina    1  26.0      0   \n",
      "3         Futrelle, Mrs. Jacques Heath (Lily May Peel)    1  35.0      1   \n",
      "4                             Allen, Mr. William Henry    0  35.0      0   \n",
      "..                                                 ...  ...   ...    ...   \n",
      "886                              Montvila, Rev. Juozas    0  27.0      0   \n",
      "887                       Graham, Miss. Margaret Edith    1  19.0      0   \n",
      "888           Johnston, Miss. Catherine Helen \"Carrie\"    1   NaN      1   \n",
      "889                              Behr, Mr. Karl Howell    0  26.0      0   \n",
      "890                                Dooley, Mr. Patrick    0  32.0      0   \n",
      "\n",
      "     Parch            Ticket     Fare Cabin Embarked  \n",
      "0        0         A/5 21171   7.2500   NaN        S  \n",
      "1        0          PC 17599  71.2833   C85        C  \n",
      "2        0  STON/O2. 3101282   7.9250   NaN        S  \n",
      "3        0            113803  53.1000  C123        S  \n",
      "4        0            373450   8.0500   NaN        S  \n",
      "..     ...               ...      ...   ...      ...  \n",
      "886      0            211536  13.0000   NaN        S  \n",
      "887      0            112053  30.0000   B42        S  \n",
      "888      2        W./C. 6607  23.4500   NaN        S  \n",
      "889      0            111369  30.0000  C148        C  \n",
      "890      0            370376   7.7500   NaN        Q  \n",
      "\n",
      "[891 rows x 12 columns]\n"
     ]
    }
   ],
   "source": [
    "import pandas as pd\n",
    "# カンマ区切りでcsvファイルを読み込み、性別を0,1に置き換える\n",
    "df=pd.read_csv('C:\\\\Users\\\\baseb\\\\戸倉勉強会\\\\titanic\\\\train.csv',sep=',').replace(\"male\",0).replace(\"female\",1)\n",
    "\n",
    "print(df)"
   ]
  },
  {
   "cell_type": "markdown",
   "metadata": {},
   "source": [
    "Memo  \n",
    "データの欠損  \n",
    " ①MCAR(missing completely at random):完全にランダムな原因  \n",
    " ②MAR(missing at random):観測データに依存する  \n",
    " ③MNAR(missing not at random):欠損値の発生が欠損値そのものに依存する   \n",
    "対策  \n",
    " ①欠損値を含むサンプルを全て除外して行う完全ケース分析→MARやMNARを多く含むと解析結果に大きな歪が生じる  \n",
    " ②欠損値を補完して行う手法→対策①の問題を解決するために用いられる  \n",
    "   ・平均値代入法  \n",
    "   ・回帰代入法  \n",
    "   　→近年では多重代入法"
   ]
  },
  {
   "cell_type": "markdown",
   "metadata": {},
   "source": [
    "5.2.3"
   ]
  },
  {
   "cell_type": "code",
   "execution_count": 8,
   "metadata": {},
   "outputs": [
    {
     "data": {
      "text/plain": [
       "PassengerId      0\n",
       "Survived         0\n",
       "Pclass           0\n",
       "Name             0\n",
       "Sex              0\n",
       "Age            177\n",
       "SibSp            0\n",
       "Parch            0\n",
       "Ticket           0\n",
       "Fare             0\n",
       "Cabin          687\n",
       "Embarked         2\n",
       "dtype: int64"
      ]
     },
     "execution_count": 8,
     "metadata": {},
     "output_type": "execute_result"
    }
   ],
   "source": [
    "df.isnull().sum()"
   ]
  },
  {
   "cell_type": "markdown",
   "metadata": {},
   "source": [
    "Memo  \n",
    "・dropna()：データ欠損のある行または列を削除する(リストワイズ削除)  \n",
    "・fillna()：データ欠損のある要素を補完する"
   ]
  },
  {
   "cell_type": "markdown",
   "metadata": {},
   "source": [
    "5.2.4"
   ]
  },
  {
   "cell_type": "code",
   "execution_count": 9,
   "metadata": {},
   "outputs": [
    {
     "data": {
      "text/plain": [
       "PassengerId    0\n",
       "Survived       0\n",
       "Pclass         0\n",
       "Name           0\n",
       "Sex            0\n",
       "Age            0\n",
       "SibSp          0\n",
       "Parch          0\n",
       "Ticket         0\n",
       "Fare           0\n",
       "Cabin          0\n",
       "Embarked       0\n",
       "dtype: int64"
      ]
     },
     "execution_count": 9,
     "metadata": {},
     "output_type": "execute_result"
    }
   ],
   "source": [
    "df=df.dropna()\n",
    "df.isnull().sum() #削除した結果を確認"
   ]
  },
  {
   "cell_type": "markdown",
   "metadata": {},
   "source": [
    "5.2.5"
   ]
  },
  {
   "cell_type": "code",
   "execution_count": 10,
   "metadata": {},
   "outputs": [
    {
     "name": "stdout",
     "output_type": "stream",
     "text": [
      "1      38.0\n",
      "3      35.0\n",
      "6      54.0\n",
      "10      4.0\n",
      "11     58.0\n",
      "       ... \n",
      "871    47.0\n",
      "872    33.0\n",
      "879    56.0\n",
      "887    19.0\n",
      "889    26.0\n",
      "Name: Age, Length: 183, dtype: float64\n"
     ]
    }
   ],
   "source": [
    "print(df['Age'])"
   ]
  },
  {
   "cell_type": "markdown",
   "metadata": {},
   "source": [
    "Memo  \n",
    "【重要】リストワイズ削除を行う場合はデータ数の減少に特に注意すべきである"
   ]
  },
  {
   "cell_type": "markdown",
   "metadata": {},
   "source": [
    "5.2.6"
   ]
  },
  {
   "cell_type": "code",
   "execution_count": 8,
   "metadata": {},
   "outputs": [
    {
     "data": {
      "text/plain": [
       "PassengerId      0\n",
       "Survived         0\n",
       "Pclass           0\n",
       "Name             0\n",
       "Sex              0\n",
       "Age              0\n",
       "SibSp            0\n",
       "Parch            0\n",
       "Ticket           0\n",
       "Fare             0\n",
       "Cabin          687\n",
       "Embarked         2\n",
       "dtype: int64"
      ]
     },
     "execution_count": 8,
     "metadata": {},
     "output_type": "execute_result"
    }
   ],
   "source": [
    "df['Age']=df['Age'].fillna(df['Age'].mean())\n",
    "df.isnull().sum()"
   ]
  },
  {
   "cell_type": "markdown",
   "metadata": {},
   "source": [
    "5.2.7"
   ]
  },
  {
   "cell_type": "code",
   "execution_count": 10,
   "metadata": {},
   "outputs": [
    {
     "name": "stdout",
     "output_type": "stream",
     "text": [
      "0      22.000000\n",
      "1      38.000000\n",
      "2      26.000000\n",
      "3      35.000000\n",
      "4      35.000000\n",
      "         ...    \n",
      "886    27.000000\n",
      "887    19.000000\n",
      "888    29.699118\n",
      "889    26.000000\n",
      "890    32.000000\n",
      "Name: Age, Length: 891, dtype: float64\n"
     ]
    }
   ],
   "source": [
    "print(df['Age']) #Ageの列だけ表示"
   ]
  },
  {
   "cell_type": "markdown",
   "metadata": {},
   "source": [
    "5.2.8"
   ]
  },
  {
   "cell_type": "code",
   "execution_count": 11,
   "metadata": {},
   "outputs": [],
   "source": [
    "import numpy as np\n",
    "import matplotlib as mpl\n",
    "import matplotlib.pyplot as plt\n",
    "%matplotlib inline\n",
    "from sklearn import metrics\n",
    "from sklearn.model_selection import train_test_split\n",
    "from sklearn.metrics import accuracy_score\n",
    "from sklearn.metrics import precision_score\n",
    "from sklearn.ensemble import RandomForestClassifier\n",
    "from sklearn.metrics import confusion_matrix\n",
    "from sklearn.metrics import recall_score\n",
    "from pandas.plotting import scatter_matrix"
   ]
  },
  {
   "cell_type": "markdown",
   "metadata": {},
   "source": [
    "5.2.9"
   ]
  },
  {
   "cell_type": "code",
   "execution_count": 12,
   "metadata": {},
   "outputs": [
    {
     "data": {
      "text/plain": [
       "1    123\n",
       "0     60\n",
       "Name: Survived, dtype: int64"
      ]
     },
     "execution_count": 12,
     "metadata": {},
     "output_type": "execute_result"
    }
   ],
   "source": [
    "#分類するクラスの種類と数を確認(ここではSurvivedクラス)\n",
    "df['Survived'].value_counts()"
   ]
  },
  {
   "cell_type": "markdown",
   "metadata": {},
   "source": [
    "5.2.10"
   ]
  },
  {
   "cell_type": "code",
   "execution_count": 13,
   "metadata": {},
   "outputs": [],
   "source": [
    "#不要なクラスを削除\n",
    "df2=df.drop([\"Name\",\"SibSp\",\"Parch\",\"Ticket\",\"Cabin\",\"Embarked\"],axis=1)\n",
    "\n",
    "train_dataset=df2.values\n",
    "train_x=train_dataset[:,2:] #Survived以降の変数\n",
    "train_y=train_dataset[:,1] #正解クラス\n",
    "\n",
    "#訓練用の説明変数と正解クラス、評価用の説明変数と正解クラスに分割\n",
    "(train_x,test_x,train_y,test_y)=train_test_split(train_x,train_y,test_size=0.3,random_state=0)"
   ]
  },
  {
   "cell_type": "code",
   "execution_count": 14,
   "metadata": {},
   "outputs": [
    {
     "data": {
      "text/plain": [
       "array([[  2.    ,   1.    ,   1.    ,   1.    ,  38.    ,  71.2833],\n",
       "       [  4.    ,   1.    ,   1.    ,   1.    ,  35.    ,  53.1   ],\n",
       "       [  7.    ,   0.    ,   1.    ,   0.    ,  54.    ,  51.8625],\n",
       "       ...,\n",
       "       [880.    ,   1.    ,   1.    ,   1.    ,  56.    ,  83.1583],\n",
       "       [888.    ,   1.    ,   1.    ,   1.    ,  19.    ,  30.    ],\n",
       "       [890.    ,   1.    ,   1.    ,   0.    ,  26.    ,  30.    ]])"
      ]
     },
     "execution_count": 14,
     "metadata": {},
     "output_type": "execute_result"
    }
   ],
   "source": [
    "df2.values"
   ]
  },
  {
   "cell_type": "code",
   "execution_count": 15,
   "metadata": {},
   "outputs": [
    {
     "data": {
      "text/plain": [
       "array([[  2.    ,   1.    ,   4.    ,  39.    ],\n",
       "       [  1.    ,   0.    ,  44.    ,  90.    ],\n",
       "       [  1.    ,   0.    ,  45.    ,  26.55  ],\n",
       "       [  1.    ,   1.    ,  19.    ,  26.2833],\n",
       "       [  1.    ,   0.    ,  46.    ,  79.2   ],\n",
       "       [  1.    ,   0.    ,  64.    , 263.    ],\n",
       "       [  1.    ,   1.    ,  24.    ,  69.3   ],\n",
       "       [  1.    ,   1.    ,  24.    ,  49.5042],\n",
       "       [  1.    ,   0.    ,  48.    ,  26.55  ],\n",
       "       [  1.    ,   0.    ,  31.    ,  52.    ],\n",
       "       [  1.    ,   0.    ,  61.    ,  33.5   ],\n",
       "       [  1.    ,   0.    ,  11.    , 120.    ],\n",
       "       [  1.    ,   1.    ,  38.    , 227.525 ],\n",
       "       [  1.    ,   1.    ,  40.    , 153.4625],\n",
       "       [  1.    ,   0.    ,  33.    ,   5.    ],\n",
       "       [  1.    ,   1.    ,  52.    ,  78.2667],\n",
       "       [  1.    ,   1.    ,  36.    , 135.6333],\n",
       "       [  1.    ,   0.    ,  54.    ,  51.8625],\n",
       "       [  1.    ,   1.    ,  18.    , 262.375 ],\n",
       "       [  1.    ,   1.    ,  16.    ,  86.5   ],\n",
       "       [  1.    ,   1.    ,  44.    ,  57.9792],\n",
       "       [  1.    ,   0.    ,  62.    ,  26.55  ],\n",
       "       [  1.    ,   0.    ,  45.    ,  83.475 ],\n",
       "       [  1.    ,   1.    ,  49.    ,  25.9292],\n",
       "       [  1.    ,   1.    ,  22.    ,  55.    ],\n",
       "       [  1.    ,   1.    ,  48.    ,  25.9292],\n",
       "       [  1.    ,   1.    ,  43.    , 211.3375],\n",
       "       [  1.    ,   0.    ,  36.    ,  26.3875],\n",
       "       [  1.    ,   1.    ,  22.    ,  49.5   ],\n",
       "       [  1.    ,   0.    ,  25.    ,  91.0792],\n",
       "       [  1.    ,   0.    ,  35.    ,  26.2875],\n",
       "       [  1.    ,   0.    ,  51.    ,  26.55  ],\n",
       "       [  1.    ,   1.    ,  63.    ,  77.9583],\n",
       "       [  1.    ,   0.    ,  60.    ,  79.2   ],\n",
       "       [  1.    ,   0.    ,  47.    ,  38.5   ],\n",
       "       [  1.    ,   1.    ,  16.    ,  57.9792],\n",
       "       [  1.    ,   1.    ,  29.    , 211.3375],\n",
       "       [  1.    ,   0.    ,  37.    ,  52.5542],\n",
       "       [  1.    ,   0.    ,  45.    ,  35.5   ],\n",
       "       [  1.    ,   0.    ,  37.    ,  29.7   ],\n",
       "       [  1.    ,   1.    ,  35.    , 135.6333],\n",
       "       [  1.    ,   1.    ,  14.    , 120.    ],\n",
       "       [  1.    ,   1.    ,  23.    , 263.    ],\n",
       "       [  1.    ,   0.    ,  36.    , 512.3292],\n",
       "       [  1.    ,   0.    ,  37.    ,  53.1   ],\n",
       "       [  1.    ,   1.    ,  33.    ,  53.1   ],\n",
       "       [  1.    ,   0.    ,  42.    ,  52.5542],\n",
       "       [  2.    ,   1.    ,  32.5   ,  13.    ],\n",
       "       [  1.    ,   0.    ,  71.    ,  34.6542],\n",
       "       [  1.    ,   0.    ,  36.    , 120.    ],\n",
       "       [  1.    ,   0.    ,  47.    ,  34.0208],\n",
       "       [  2.    ,   0.    ,  36.    ,  12.875 ],\n",
       "       [  1.    ,   1.    ,  25.    , 151.55  ],\n",
       "       [  1.    ,   0.    ,  25.    ,  55.4417],\n",
       "       [  3.    ,   1.    ,   4.    ,  16.7   ],\n",
       "       [  1.    ,   1.    ,  19.    ,  30.    ],\n",
       "       [  1.    ,   1.    ,  48.    ,  39.6   ],\n",
       "       [  1.    ,   0.    ,  28.    ,  35.5   ],\n",
       "       [  1.    ,   1.    ,  41.    , 134.5   ],\n",
       "       [  1.    ,   1.    ,  24.    ,  69.3   ],\n",
       "       [  1.    ,   0.    ,  50.    ,  55.9   ],\n",
       "       [  1.    ,   0.    ,  58.    , 113.275 ],\n",
       "       [  3.    ,   0.    ,  25.    ,   7.65  ],\n",
       "       [  1.    ,   0.    ,  49.    , 110.8833],\n",
       "       [  1.    ,   0.    ,  70.    ,  71.    ],\n",
       "       [  1.    ,   0.    ,  46.    ,  61.175 ],\n",
       "       [  1.    ,   1.    ,  38.    ,  71.2833],\n",
       "       [  1.    ,   0.    ,  65.    ,  26.55  ],\n",
       "       [  1.    ,   0.    ,  19.    ,  53.1   ],\n",
       "       [  1.    ,   0.    ,  40.    ,   0.    ],\n",
       "       [  2.    ,   1.    ,  29.    ,  10.5   ],\n",
       "       [  1.    ,   0.    ,  36.    ,  40.125 ],\n",
       "       [  1.    ,   0.    ,  18.    , 108.9   ],\n",
       "       [  1.    ,   0.    ,  40.    ,  31.    ],\n",
       "       [  1.    ,   1.    ,  30.    ,  56.9292],\n",
       "       [  1.    ,   0.    ,  45.5   ,  28.5   ],\n",
       "       [  1.    ,   1.    ,  35.    ,  53.1   ],\n",
       "       [  1.    ,   1.    ,  18.    ,  79.65  ],\n",
       "       [  1.    ,   0.    ,  35.    , 512.3292],\n",
       "       [  3.    ,   1.    ,  29.    ,  10.4625],\n",
       "       [  2.    ,   1.    ,  34.    ,  10.5   ],\n",
       "       [  1.    ,   0.    ,  48.    ,  76.7292],\n",
       "       [  3.    ,   0.    ,   6.    ,  12.475 ],\n",
       "       [  1.    ,   0.    ,  21.    ,  77.2875],\n",
       "       [  1.    ,   0.    ,  38.    ,  90.    ],\n",
       "       [  1.    ,   0.    ,  56.    ,  35.5   ],\n",
       "       [  1.    ,   1.    ,   2.    , 151.55  ],\n",
       "       [  1.    ,   1.    ,  18.    , 227.525 ],\n",
       "       [  1.    ,   1.    ,  21.    ,  77.9583],\n",
       "       [  3.    ,   1.    ,   2.    ,  10.4625],\n",
       "       [  1.    ,   0.    ,  56.    ,  30.6958],\n",
       "       [  1.    ,   1.    ,  39.    ,  79.65  ],\n",
       "       [  2.    ,   0.    ,   3.    ,  26.    ],\n",
       "       [  1.    ,   0.    ,  27.    ,  53.1   ],\n",
       "       [  1.    ,   0.    ,  61.    ,  32.3208],\n",
       "       [  1.    ,   1.    ,  51.    ,  77.9583],\n",
       "       [  1.    ,   1.    ,  44.    ,  27.7208],\n",
       "       [  3.    ,   0.    ,  42.    ,   7.65  ],\n",
       "       [  1.    ,   0.    ,  36.    ,  78.85  ],\n",
       "       [  1.    ,   0.    ,  48.    ,  52.    ],\n",
       "       [  1.    ,   1.    ,  50.    ,  28.7125],\n",
       "       [  1.    ,   1.    ,  54.    ,  78.2667],\n",
       "       [  3.    ,   0.    ,  32.    ,   8.05  ],\n",
       "       [  1.    ,   1.    ,  23.    , 113.275 ],\n",
       "       [  1.    ,   1.    ,  53.    ,  51.4792],\n",
       "       [  3.    ,   0.    ,  19.    ,   7.65  ],\n",
       "       [  1.    ,   0.    ,  31.    ,  50.4958],\n",
       "       [  2.    ,   1.    ,  24.    ,  13.    ],\n",
       "       [  1.    ,   0.    ,  27.    , 211.5   ],\n",
       "       [  2.    ,   0.    ,  36.5   ,  26.    ],\n",
       "       [  1.    ,   0.    ,  29.    ,  30.    ],\n",
       "       [  1.    ,   1.    ,  33.    ,  90.    ],\n",
       "       [  1.    ,   0.    ,  26.    ,  30.    ],\n",
       "       [  1.    ,   1.    ,  16.    ,  39.4   ],\n",
       "       [  1.    ,   1.    ,  35.    ,  83.475 ],\n",
       "       [  1.    ,   1.    ,  24.    ,  83.1583],\n",
       "       [  1.    ,   0.    ,  31.    ,  57.    ],\n",
       "       [  1.    ,   0.    ,  52.    ,  30.5   ],\n",
       "       [  2.    ,   0.    ,   2.    ,  26.    ],\n",
       "       [  1.    ,   0.    ,   4.    ,  81.8583],\n",
       "       [  1.    ,   1.    ,  31.    , 113.275 ],\n",
       "       [  1.    ,   0.    ,  54.    ,  77.2875],\n",
       "       [  1.    ,   0.    ,  65.    ,  61.9792],\n",
       "       [  1.    ,   0.    ,  36.    ,  26.2875],\n",
       "       [  1.    ,   0.    ,  29.    ,  66.6   ],\n",
       "       [  1.    ,   1.    ,  39.    ,  55.9   ],\n",
       "       [  1.    ,   1.    ,  58.    , 153.4625],\n",
       "       [  3.    ,   1.    ,  27.    ,  12.475 ]])"
      ]
     },
     "execution_count": 15,
     "metadata": {},
     "output_type": "execute_result"
    }
   ],
   "source": [
    "train_x"
   ]
  },
  {
   "cell_type": "code",
   "execution_count": 16,
   "metadata": {},
   "outputs": [
    {
     "data": {
      "text/plain": [
       "array([1., 0., 0., 1., 0., 0., 1., 1., 1., 0., 0., 1., 1., 1., 0., 1., 1.,\n",
       "       0., 1., 1., 1., 0., 0., 1., 1., 1., 1., 1., 1., 1., 1., 1., 1., 1.,\n",
       "       0., 1., 1., 1., 0., 0., 1., 1., 1., 1., 0., 1., 1., 1., 0., 1., 0.,\n",
       "       0., 0., 1., 1., 1., 1., 1., 1., 1., 0., 0., 0., 0., 0., 0., 1., 0.,\n",
       "       0., 0., 1., 0., 0., 1., 1., 0., 1., 1., 1., 0., 1., 1., 1., 0., 1.,\n",
       "       1., 0., 1., 1., 0., 0., 1., 1., 1., 0., 1., 1., 0., 0., 1., 0., 1.,\n",
       "       1., 1., 1., 0., 0., 1., 0., 0., 0., 1., 1., 1., 1., 1., 1., 1., 1.,\n",
       "       1., 1., 0., 0., 1., 0., 1., 1., 1.])"
      ]
     },
     "execution_count": 16,
     "metadata": {},
     "output_type": "execute_result"
    }
   ],
   "source": [
    "train_y"
   ]
  },
  {
   "cell_type": "code",
   "execution_count": 17,
   "metadata": {
    "scrolled": true
   },
   "outputs": [
    {
     "data": {
      "text/plain": [
       "(array([[  2.    ,   1.    ,   4.    ,  39.    ],\n",
       "        [  1.    ,   0.    ,  44.    ,  90.    ],\n",
       "        [  1.    ,   0.    ,  45.    ,  26.55  ],\n",
       "        [  1.    ,   1.    ,  19.    ,  26.2833],\n",
       "        [  1.    ,   0.    ,  46.    ,  79.2   ],\n",
       "        [  1.    ,   0.    ,  64.    , 263.    ],\n",
       "        [  1.    ,   1.    ,  24.    ,  69.3   ],\n",
       "        [  1.    ,   1.    ,  24.    ,  49.5042],\n",
       "        [  1.    ,   0.    ,  48.    ,  26.55  ],\n",
       "        [  1.    ,   0.    ,  31.    ,  52.    ],\n",
       "        [  1.    ,   0.    ,  61.    ,  33.5   ],\n",
       "        [  1.    ,   0.    ,  11.    , 120.    ],\n",
       "        [  1.    ,   1.    ,  38.    , 227.525 ],\n",
       "        [  1.    ,   1.    ,  40.    , 153.4625],\n",
       "        [  1.    ,   0.    ,  33.    ,   5.    ],\n",
       "        [  1.    ,   1.    ,  52.    ,  78.2667],\n",
       "        [  1.    ,   1.    ,  36.    , 135.6333],\n",
       "        [  1.    ,   0.    ,  54.    ,  51.8625],\n",
       "        [  1.    ,   1.    ,  18.    , 262.375 ],\n",
       "        [  1.    ,   1.    ,  16.    ,  86.5   ],\n",
       "        [  1.    ,   1.    ,  44.    ,  57.9792],\n",
       "        [  1.    ,   0.    ,  62.    ,  26.55  ],\n",
       "        [  1.    ,   0.    ,  45.    ,  83.475 ],\n",
       "        [  1.    ,   1.    ,  49.    ,  25.9292],\n",
       "        [  1.    ,   1.    ,  22.    ,  55.    ],\n",
       "        [  1.    ,   1.    ,  48.    ,  25.9292],\n",
       "        [  1.    ,   1.    ,  43.    , 211.3375],\n",
       "        [  1.    ,   0.    ,  36.    ,  26.3875],\n",
       "        [  1.    ,   1.    ,  22.    ,  49.5   ],\n",
       "        [  1.    ,   0.    ,  25.    ,  91.0792],\n",
       "        [  1.    ,   0.    ,  35.    ,  26.2875],\n",
       "        [  1.    ,   0.    ,  51.    ,  26.55  ],\n",
       "        [  1.    ,   1.    ,  63.    ,  77.9583],\n",
       "        [  1.    ,   0.    ,  60.    ,  79.2   ],\n",
       "        [  1.    ,   0.    ,  47.    ,  38.5   ],\n",
       "        [  1.    ,   1.    ,  16.    ,  57.9792],\n",
       "        [  1.    ,   1.    ,  29.    , 211.3375],\n",
       "        [  1.    ,   0.    ,  37.    ,  52.5542],\n",
       "        [  1.    ,   0.    ,  45.    ,  35.5   ],\n",
       "        [  1.    ,   0.    ,  37.    ,  29.7   ],\n",
       "        [  1.    ,   1.    ,  35.    , 135.6333],\n",
       "        [  1.    ,   1.    ,  14.    , 120.    ],\n",
       "        [  1.    ,   1.    ,  23.    , 263.    ],\n",
       "        [  1.    ,   0.    ,  36.    , 512.3292],\n",
       "        [  1.    ,   0.    ,  37.    ,  53.1   ],\n",
       "        [  1.    ,   1.    ,  33.    ,  53.1   ],\n",
       "        [  1.    ,   0.    ,  42.    ,  52.5542],\n",
       "        [  2.    ,   1.    ,  32.5   ,  13.    ],\n",
       "        [  1.    ,   0.    ,  71.    ,  34.6542],\n",
       "        [  1.    ,   0.    ,  36.    , 120.    ],\n",
       "        [  1.    ,   0.    ,  47.    ,  34.0208],\n",
       "        [  2.    ,   0.    ,  36.    ,  12.875 ],\n",
       "        [  1.    ,   1.    ,  25.    , 151.55  ],\n",
       "        [  1.    ,   0.    ,  25.    ,  55.4417],\n",
       "        [  3.    ,   1.    ,   4.    ,  16.7   ],\n",
       "        [  1.    ,   1.    ,  19.    ,  30.    ],\n",
       "        [  1.    ,   1.    ,  48.    ,  39.6   ],\n",
       "        [  1.    ,   0.    ,  28.    ,  35.5   ],\n",
       "        [  1.    ,   1.    ,  41.    , 134.5   ],\n",
       "        [  1.    ,   1.    ,  24.    ,  69.3   ],\n",
       "        [  1.    ,   0.    ,  50.    ,  55.9   ],\n",
       "        [  1.    ,   0.    ,  58.    , 113.275 ],\n",
       "        [  3.    ,   0.    ,  25.    ,   7.65  ],\n",
       "        [  1.    ,   0.    ,  49.    , 110.8833],\n",
       "        [  1.    ,   0.    ,  70.    ,  71.    ],\n",
       "        [  1.    ,   0.    ,  46.    ,  61.175 ],\n",
       "        [  1.    ,   1.    ,  38.    ,  71.2833],\n",
       "        [  1.    ,   0.    ,  65.    ,  26.55  ],\n",
       "        [  1.    ,   0.    ,  19.    ,  53.1   ],\n",
       "        [  1.    ,   0.    ,  40.    ,   0.    ],\n",
       "        [  2.    ,   1.    ,  29.    ,  10.5   ],\n",
       "        [  1.    ,   0.    ,  36.    ,  40.125 ],\n",
       "        [  1.    ,   0.    ,  18.    , 108.9   ],\n",
       "        [  1.    ,   0.    ,  40.    ,  31.    ],\n",
       "        [  1.    ,   1.    ,  30.    ,  56.9292],\n",
       "        [  1.    ,   0.    ,  45.5   ,  28.5   ],\n",
       "        [  1.    ,   1.    ,  35.    ,  53.1   ],\n",
       "        [  1.    ,   1.    ,  18.    ,  79.65  ],\n",
       "        [  1.    ,   0.    ,  35.    , 512.3292],\n",
       "        [  3.    ,   1.    ,  29.    ,  10.4625],\n",
       "        [  2.    ,   1.    ,  34.    ,  10.5   ],\n",
       "        [  1.    ,   0.    ,  48.    ,  76.7292],\n",
       "        [  3.    ,   0.    ,   6.    ,  12.475 ],\n",
       "        [  1.    ,   0.    ,  21.    ,  77.2875],\n",
       "        [  1.    ,   0.    ,  38.    ,  90.    ],\n",
       "        [  1.    ,   0.    ,  56.    ,  35.5   ],\n",
       "        [  1.    ,   1.    ,   2.    , 151.55  ],\n",
       "        [  1.    ,   1.    ,  18.    , 227.525 ],\n",
       "        [  1.    ,   1.    ,  21.    ,  77.9583],\n",
       "        [  3.    ,   1.    ,   2.    ,  10.4625],\n",
       "        [  1.    ,   0.    ,  56.    ,  30.6958],\n",
       "        [  1.    ,   1.    ,  39.    ,  79.65  ],\n",
       "        [  2.    ,   0.    ,   3.    ,  26.    ],\n",
       "        [  1.    ,   0.    ,  27.    ,  53.1   ],\n",
       "        [  1.    ,   0.    ,  61.    ,  32.3208],\n",
       "        [  1.    ,   1.    ,  51.    ,  77.9583],\n",
       "        [  1.    ,   1.    ,  44.    ,  27.7208],\n",
       "        [  3.    ,   0.    ,  42.    ,   7.65  ],\n",
       "        [  1.    ,   0.    ,  36.    ,  78.85  ],\n",
       "        [  1.    ,   0.    ,  48.    ,  52.    ],\n",
       "        [  1.    ,   1.    ,  50.    ,  28.7125],\n",
       "        [  1.    ,   1.    ,  54.    ,  78.2667],\n",
       "        [  3.    ,   0.    ,  32.    ,   8.05  ],\n",
       "        [  1.    ,   1.    ,  23.    , 113.275 ],\n",
       "        [  1.    ,   1.    ,  53.    ,  51.4792],\n",
       "        [  3.    ,   0.    ,  19.    ,   7.65  ],\n",
       "        [  1.    ,   0.    ,  31.    ,  50.4958],\n",
       "        [  2.    ,   1.    ,  24.    ,  13.    ],\n",
       "        [  1.    ,   0.    ,  27.    , 211.5   ],\n",
       "        [  2.    ,   0.    ,  36.5   ,  26.    ],\n",
       "        [  1.    ,   0.    ,  29.    ,  30.    ],\n",
       "        [  1.    ,   1.    ,  33.    ,  90.    ],\n",
       "        [  1.    ,   0.    ,  26.    ,  30.    ],\n",
       "        [  1.    ,   1.    ,  16.    ,  39.4   ],\n",
       "        [  1.    ,   1.    ,  35.    ,  83.475 ],\n",
       "        [  1.    ,   1.    ,  24.    ,  83.1583],\n",
       "        [  1.    ,   0.    ,  31.    ,  57.    ],\n",
       "        [  1.    ,   0.    ,  52.    ,  30.5   ],\n",
       "        [  2.    ,   0.    ,   2.    ,  26.    ],\n",
       "        [  1.    ,   0.    ,   4.    ,  81.8583],\n",
       "        [  1.    ,   1.    ,  31.    , 113.275 ],\n",
       "        [  1.    ,   0.    ,  54.    ,  77.2875],\n",
       "        [  1.    ,   0.    ,  65.    ,  61.9792],\n",
       "        [  1.    ,   0.    ,  36.    ,  26.2875],\n",
       "        [  1.    ,   0.    ,  29.    ,  66.6   ],\n",
       "        [  1.    ,   1.    ,  39.    ,  55.9   ],\n",
       "        [  1.    ,   1.    ,  58.    , 153.4625],\n",
       "        [  3.    ,   1.    ,  27.    ,  12.475 ]]),\n",
       " array([[  2.    ,   1.    ,  23.    ,  13.7917],\n",
       "        [  1.    ,   0.    ,  47.    ,  52.    ],\n",
       "        [  1.    ,   1.    ,  58.    , 146.5208],\n",
       "        [  1.    ,   0.    ,  55.    ,  30.5   ],\n",
       "        [  1.    ,   1.    ,  39.    ,  83.1583],\n",
       "        [  1.    ,   0.    ,  39.    ,   0.    ],\n",
       "        [  1.    ,   0.    ,  19.    , 263.    ],\n",
       "        [  1.    ,   0.    ,  27.    ,  76.7292],\n",
       "        [  1.    ,   1.    ,  40.    , 134.5   ],\n",
       "        [  1.    ,   1.    ,  60.    ,  75.25  ],\n",
       "        [  2.    ,   0.    ,  34.    ,  13.    ],\n",
       "        [  1.    ,   0.    ,  17.    , 110.8833],\n",
       "        [  1.    ,   1.    ,  47.    ,  52.5542],\n",
       "        [  1.    ,   0.    ,  32.    ,  30.5   ],\n",
       "        [  1.    ,   1.    ,  17.    ,  57.    ],\n",
       "        [  2.    ,   1.    ,  27.    ,  10.5   ],\n",
       "        [  1.    ,   1.    ,  39.    , 110.8833],\n",
       "        [  1.    ,   1.    ,  30.    ,  93.5   ],\n",
       "        [  3.    ,   1.    ,  24.    ,  16.7   ],\n",
       "        [  1.    ,   1.    ,  21.    , 262.375 ],\n",
       "        [  1.    ,   1.    ,  24.    , 263.    ],\n",
       "        [  1.    ,   0.    ,   0.92  , 151.55  ],\n",
       "        [  1.    ,   1.    ,  32.    ,  76.2917],\n",
       "        [  1.    ,   0.    ,  42.    ,  26.2875],\n",
       "        [  1.    ,   1.    ,  58.    ,  26.55  ],\n",
       "        [  1.    ,   0.    ,  38.    , 153.4625],\n",
       "        [  1.    ,   0.    ,  49.    ,  89.1042],\n",
       "        [  1.    ,   1.    ,  56.    ,  83.1583],\n",
       "        [  1.    ,   0.    ,  52.    ,  79.65  ],\n",
       "        [  1.    ,   0.    ,  30.    ,  27.75  ],\n",
       "        [  1.    ,   1.    ,  36.    ,  71.    ],\n",
       "        [  2.    ,   1.    ,  36.    ,  13.    ],\n",
       "        [  1.    ,   1.    ,  22.    ,  66.6   ],\n",
       "        [  1.    ,   1.    ,  31.    , 164.8667],\n",
       "        [  1.    ,   1.    ,  52.    ,  93.5   ],\n",
       "        [  1.    ,   1.    ,  33.    ,  86.5   ],\n",
       "        [  1.    ,   1.    ,  49.    ,  76.7292],\n",
       "        [  1.    ,   1.    ,  30.    ,  86.5   ],\n",
       "        [  1.    ,   1.    ,  35.    ,  90.    ],\n",
       "        [  1.    ,   0.    ,  80.    ,  30.    ],\n",
       "        [  1.    ,   0.    ,  28.    ,  26.55  ],\n",
       "        [  1.    ,   1.    ,  50.    , 247.5208],\n",
       "        [  1.    ,   0.    ,  24.    ,  79.2   ],\n",
       "        [  2.    ,   0.    ,   1.    ,  39.    ],\n",
       "        [  1.    ,   0.    ,  58.    ,  29.7   ],\n",
       "        [  1.    ,   1.    ,  17.    , 108.9   ],\n",
       "        [  1.    ,   0.    ,  49.    ,  56.9292],\n",
       "        [  1.    ,   0.    ,  50.    , 106.425 ],\n",
       "        [  1.    ,   0.    ,  24.    , 247.5208],\n",
       "        [  1.    ,   1.    ,  15.    , 211.3375],\n",
       "        [  1.    ,   0.    ,  47.    ,  25.5875],\n",
       "        [  1.    ,   1.    ,  36.    , 120.    ],\n",
       "        [  1.    ,   0.    ,  23.    ,  63.3583],\n",
       "        [  1.    ,   1.    ,  19.    ,  91.0792],\n",
       "        [  2.    ,   1.    ,  57.    ,  10.5   ]]),\n",
       " array([1., 0., 0., 1., 0., 0., 1., 1., 1., 0., 0., 1., 1., 1., 0., 1., 1.,\n",
       "        0., 1., 1., 1., 0., 0., 1., 1., 1., 1., 1., 1., 1., 1., 1., 1., 1.,\n",
       "        0., 1., 1., 1., 0., 0., 1., 1., 1., 1., 0., 1., 1., 1., 0., 1., 0.,\n",
       "        0., 0., 1., 1., 1., 1., 1., 1., 1., 0., 0., 0., 0., 0., 0., 1., 0.,\n",
       "        0., 0., 1., 0., 0., 1., 1., 0., 1., 1., 1., 0., 1., 1., 1., 0., 1.,\n",
       "        1., 0., 1., 1., 0., 0., 1., 1., 1., 0., 1., 1., 0., 0., 1., 0., 1.,\n",
       "        1., 1., 1., 0., 0., 1., 0., 0., 0., 1., 1., 1., 1., 1., 1., 1., 1.,\n",
       "        1., 1., 0., 0., 1., 0., 1., 1., 1.]),\n",
       " array([1., 0., 1., 0., 1., 0., 0., 1., 1., 1., 1., 1., 1., 1., 1., 1., 1.,\n",
       "        1., 1., 1., 1., 1., 1., 1., 1., 0., 1., 1., 0., 0., 1., 1., 1., 1.,\n",
       "        1., 1., 1., 1., 1., 1., 1., 1., 0., 1., 0., 1., 1., 0., 0., 1., 0.,\n",
       "        1., 1., 1., 0.]))"
      ]
     },
     "execution_count": 17,
     "metadata": {},
     "output_type": "execute_result"
    }
   ],
   "source": [
    "(train_x,test_x,train_y,test_y)"
   ]
  },
  {
   "cell_type": "markdown",
   "metadata": {},
   "source": [
    "5.2.11"
   ]
  },
  {
   "cell_type": "code",
   "execution_count": 18,
   "metadata": {},
   "outputs": [
    {
     "name": "stdout",
     "output_type": "stream",
     "text": [
      "TrainAccuracy: 0.8046875\n",
      "Accuracy: 0.8181818181818182\n",
      "Recall: 0.9047619047619048\n"
     ]
    }
   ],
   "source": [
    "#識別モデルの構築(ランダムフォレスト)\n",
    "forest=RandomForestClassifier(max_depth=3,n_estimators=100,random_state=0)\n",
    "\n",
    "#学習させます\n",
    "forest=forest.fit(train_x,train_y)\n",
    "\n",
    "#予測値の算出\n",
    "y_pred=forest.predict(test_x)\n",
    "\n",
    "#モデル学習時のモデル識別精度\n",
    "trainaccuracy_random_forest=forest.score(train_x,train_y)\n",
    "print('TrainAccuracy: {}'.format(trainaccuracy_random_forest))\n",
    "\n",
    "#評価用データセットでの識別精度\n",
    "accuracy_random_forest=accuracy_score(test_y,y_pred)\n",
    "print('Accuracy: {}'.format(accuracy_random_forest))\n",
    "\n",
    "#recallの評価\n",
    "recall_random_forest=recall_score(test_y,y_pred)\n",
    "print('Recall: {}'.format(recall_random_forest))"
   ]
  },
  {
   "cell_type": "markdown",
   "metadata": {},
   "source": [
    "5.2.12"
   ]
  },
  {
   "cell_type": "code",
   "execution_count": 19,
   "metadata": {},
   "outputs": [
    {
     "data": {
      "image/png": "[encoded data removed]",
      "text/plain": [
       "<Figure size 432x288 with 1 Axes>"
      ]
     },
     "metadata": {
      "needs_background": "light"
     },
     "output_type": "display_data"
    }
   ],
   "source": [
    "#FPR、TPR、しきい値を算出\n",
    "fpr,tpr,thresholds=metrics.roc_curve(test_y,y_pred)\n",
    "\n",
    "#AUCの計算\n",
    "auc=metrics.auc(fpr,tpr)\n",
    "\n",
    "#ROC曲線をプロット\n",
    "plt.plot(fpr,tpr,label='ROC curve(area=%.2f)'%auc)\n",
    "plt.legend()\n",
    "plt.title('ROC curve')\n",
    "plt.xlabel('False Positive Rate')\n",
    "plt.ylabel('True Positive Rate')\n",
    "plt.grid(True)\n"
   ]
  },
  {
   "cell_type": "markdown",
   "metadata": {},
   "source": [
    "Memo  \n",
    "①MCAR：リストワイズ削除処理  \n",
    "②MAR・MNAR:一意の値を代入する方法、多重代入法"
   ]
  },
  {
   "cell_type": "markdown",
   "metadata": {},
   "source": [
    "### 5.3 スケール変換　"
   ]
  },
  {
   "cell_type": "markdown",
   "metadata": {},
   "source": [
    "Memo  \n",
    "【重要】データのスケール変換時はデータの外れ値の取扱いに注意する  \n",
    "  \n",
    "StandardScaler：個々の特徴量の平均を0、分散を1に変換  \n",
    "MinMaxScaler：データを0から1の間にすべて入るように変換  \n",
    "RobustScaler：中央値と四分位数を用いて変換  \n",
    "Nomalizer：個々の特徴量におけるユークリッド距離が1になるように変換"
   ]
  },
  {
   "cell_type": "markdown",
   "metadata": {},
   "source": [
    "5.3.1"
   ]
  },
  {
   "cell_type": "code",
   "execution_count": 21,
   "metadata": {},
   "outputs": [],
   "source": [
    "import pandas as pd\n",
    "import numpy as np\n",
    "import matplotlib.pyplot as plt\n",
    "import seaborn as sns\n",
    "#%matplotlib inline\n",
    "from sklearn import datasets\n",
    "from sklearn.svm import SVC\n",
    "from sklearn.model_selection import train_test_split\n",
    "from sklearn import metrics\n",
    "from sklearn.preprocessing import StandardScaler,MinMaxScaler\n",
    "\n",
    "iris=datasets.load_iris() #skleanにあるアヤメのデータセットを利用\n",
    "df=pd.DataFrame(iris.data,columns=iris.feature_names)"
   ]
  },
  {
   "cell_type": "markdown",
   "metadata": {},
   "source": [
    "5.3.2"
   ]
  },
  {
   "cell_type": "code",
   "execution_count": 22,
   "metadata": {},
   "outputs": [
    {
     "name": "stdout",
     "output_type": "stream",
     "text": [
      "   sepal length (cm)  sepal width (cm)  petal length (cm)  petal width (cm)  \\\n",
      "0                5.1               3.5                1.4               0.2   \n",
      "1                4.9               3.0                1.4               0.2   \n",
      "2                4.7               3.2                1.3               0.2   \n",
      "3                4.6               3.1                1.5               0.2   \n",
      "4                5.0               3.6                1.4               0.2   \n",
      "\n",
      "   target  \n",
      "0  setosa  \n",
      "1  setosa  \n",
      "2  setosa  \n",
      "3  setosa  \n",
      "4  setosa  \n",
      "105 105 45 45\n"
     ]
    }
   ],
   "source": [
    "df['target']=iris.target_names[iris.target]  #データセットを確認\n",
    "print(df.head())\n",
    "\n",
    "X=iris.data\n",
    "Y=iris.target\n",
    "\n",
    "X_train,X_test,Y_train,Y_test=train_test_split(X,Y,test_size=0.3,random_state=0)\n",
    "#データセットを学習用と評価用に分割\n",
    "print(len(X_train),len(Y_train),len(X_test),len(Y_test))"
   ]
  },
  {
   "cell_type": "markdown",
   "metadata": {},
   "source": [
    "5.3.3"
   ]
  },
  {
   "cell_type": "code",
   "execution_count": null,
   "metadata": {},
   "outputs": [],
   "source": []
  }
 ],
 "metadata": {
  "kernelspec": {
   "display_name": "Python 3",
   "language": "python",
   "name": "python3"
  },
  "language_info": {
   "codemirror_mode": {
    "name": "ipython",
    "version": 3
   },
   "file_extension": ".py",
   "mimetype": "text/x-python",
   "name": "python",
   "nbconvert_exporter": "python",
   "pygments_lexer": "ipython3",
   "version": "3.7.7"
  }
 },
 "nbformat": 4,
 "nbformat_minor": 4
}
