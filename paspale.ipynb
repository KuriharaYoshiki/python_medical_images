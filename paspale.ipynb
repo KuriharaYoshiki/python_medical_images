{
  "nbformat": 4,
  "nbformat_minor": 0,
  "metadata": {
    "colab": {
      "name": "paspale.ipynb",
      "provenance": [],
      "collapsed_sections": [],
      "include_colab_link": true
    },
    "kernelspec": {
      "name": "python3",
      "display_name": "Python 3"
    }
  },
  "cells": [
    {
      "cell_type": "markdown",
      "metadata": {
        "id": "view-in-github",
        "colab_type": "text"
      },
      "source": [
        "<a href=\"https://colab.research.google.com/github/KuriharaYoshiki/python_medical_images/blob/master/paspale.ipynb\" target=\"_parent\"><img src=\"https://colab.research.google.com/assets/colab-badge.svg\" alt=\"Open In Colab\"/></a>"
      ]
    },
    {
      "cell_type": "markdown",
      "metadata": {
        "id": "1V6n6ZW5EFxv",
        "colab_type": "text"
      },
      "source": [
        "## Pythonプログラムの基本を学ぶ。\n"
      ]
    },
    {
      "cell_type": "markdown",
      "metadata": {
        "id": "UYqqewWhIOM8",
        "colab_type": "text"
      },
      "source": [
        "### 2.1 データ型\n"
      ]
    },
    {
      "cell_type": "markdown",
      "metadata": {
        "id": "UQba_zaSHHmn",
        "colab_type": "text"
      },
      "source": [
        "2.1.1"
      ]
    },
    {
      "cell_type": "code",
      "metadata": {
        "id": "p5RkXp2hIqvp",
        "colab_type": "code",
        "outputId": "dc8739d5-30a2-4c50-9e2c-0ea46302761c",
        "colab": {
          "base_uri": "https://localhost:8080/",
          "height": 34
        }
      },
      "source": [
        "print(type(10))"
      ],
      "execution_count": 0,
      "outputs": [
        {
          "output_type": "stream",
          "text": [
            "<class 'int'>\n"
          ],
          "name": "stdout"
        }
      ]
    },
    {
      "cell_type": "markdown",
      "metadata": {
        "id": "RmEkhCGhIrd6",
        "colab_type": "text"
      },
      "source": [
        "2.1.2"
      ]
    },
    {
      "cell_type": "code",
      "metadata": {
        "id": "2fcbh0JUI1DM",
        "colab_type": "code",
        "outputId": "1b12c5fc-635d-463a-9530-e88113a5497c",
        "colab": {
          "base_uri": "https://localhost:8080/",
          "height": 34
        }
      },
      "source": [
        "print(type(\"foo\"))"
      ],
      "execution_count": 0,
      "outputs": [
        {
          "output_type": "stream",
          "text": [
            "<class 'str'>\n"
          ],
          "name": "stdout"
        }
      ]
    },
    {
      "cell_type": "markdown",
      "metadata": {
        "id": "PFxyk9J-JtzN",
        "colab_type": "text"
      },
      "source": [
        "2.1.3"
      ]
    },
    {
      "cell_type": "code",
      "metadata": {
        "id": "e2LuUMoVI5nM",
        "colab_type": "code",
        "outputId": "f057d529-67d2-4cb1-abc1-9af363c77dcd",
        "colab": {
          "base_uri": "https://localhost:8080/",
          "height": 68
        }
      },
      "source": [
        "print(type(-5))    # 整数\n",
        "print(type(2.73))  # 浮動小数点\n",
        "print(type(-5.0))\n"
      ],
      "execution_count": 0,
      "outputs": [
        {
          "output_type": "stream",
          "text": [
            "<class 'int'>\n",
            "<class 'float'>\n",
            "<class 'float'>\n"
          ],
          "name": "stdout"
        }
      ]
    },
    {
      "cell_type": "markdown",
      "metadata": {
        "id": "jISTYvk_KKO6",
        "colab_type": "text"
      },
      "source": [
        "2.1.4"
      ]
    },
    {
      "cell_type": "code",
      "metadata": {
        "id": "9WeTzT0iKVou",
        "colab_type": "code",
        "outputId": "9c6267d3-844e-49d4-85ae-36ca15c44e49",
        "colab": {
          "base_uri": "https://localhost:8080/",
          "height": 119
        }
      },
      "source": [
        "print(type(5+4+10))\n",
        "print(type(5+4.0+10))\n",
        "print(type(4.3/2))\n",
        "print(type(4/2))\n",
        "print(type(5//2))\n",
        "print(type(5%2))"
      ],
      "execution_count": 0,
      "outputs": [
        {
          "output_type": "stream",
          "text": [
            "<class 'int'>\n",
            "<class 'float'>\n",
            "<class 'float'>\n",
            "<class 'float'>\n",
            "<class 'int'>\n",
            "<class 'int'>\n"
          ],
          "name": "stdout"
        }
      ]
    },
    {
      "cell_type": "markdown",
      "metadata": {
        "id": "lB_fNJ8SKtm0",
        "colab_type": "text"
      },
      "source": [
        "2.1.5"
      ]
    },
    {
      "cell_type": "code",
      "metadata": {
        "id": "7qMQPfZmLmOg",
        "colab_type": "code",
        "outputId": "388f220c-2d66-416f-9f7e-7e7ed106e789",
        "colab": {
          "base_uri": "https://localhost:8080/",
          "height": 102
        }
      },
      "source": [
        "print(5+4+10)\n",
        "print(5+4.0+10)\n",
        "print(4.3/2)\n",
        "print(4/2)\n",
        "print(5//2)"
      ],
      "execution_count": 0,
      "outputs": [
        {
          "output_type": "stream",
          "text": [
            "19\n",
            "19.0\n",
            "2.15\n",
            "2.0\n",
            "2\n"
          ],
          "name": "stdout"
        }
      ]
    },
    {
      "cell_type": "markdown",
      "metadata": {
        "id": "Mt0Gjd6PMN5-",
        "colab_type": "text"
      },
      "source": [
        "2.1.6"
      ]
    },
    {
      "cell_type": "code",
      "metadata": {
        "id": "0GwGmpUCMlaT",
        "colab_type": "code",
        "outputId": "2154faff-f662-4fe9-8d1b-b4c91330382b",
        "colab": {
          "base_uri": "https://localhost:8080/",
          "height": 68
        }
      },
      "source": [
        "print(5/2)\n",
        "print(6.3/2)\n",
        "print(8/3.0)"
      ],
      "execution_count": 0,
      "outputs": [
        {
          "output_type": "stream",
          "text": [
            "2.5\n",
            "3.15\n",
            "2.6666666666666665\n"
          ],
          "name": "stdout"
        }
      ]
    },
    {
      "cell_type": "markdown",
      "metadata": {
        "id": "6_-f8rXFMtlt",
        "colab_type": "text"
      },
      "source": [
        "2.1.7"
      ]
    },
    {
      "cell_type": "code",
      "metadata": {
        "id": "1ZK9WdSPM2w5",
        "colab_type": "code",
        "outputId": "18dd46c3-d827-4955-b448-76162e0e45b7",
        "colab": {
          "base_uri": "https://localhost:8080/",
          "height": 68
        }
      },
      "source": [
        "print(5//2)\n",
        "print(6.3//2)\n",
        "print(8//3.0)"
      ],
      "execution_count": 0,
      "outputs": [
        {
          "output_type": "stream",
          "text": [
            "2\n",
            "3.0\n",
            "2.0\n"
          ],
          "name": "stdout"
        }
      ]
    },
    {
      "cell_type": "markdown",
      "metadata": {
        "id": "rd79Qc4hyRwr",
        "colab_type": "text"
      },
      "source": [
        "2.1.8"
      ]
    },
    {
      "cell_type": "code",
      "metadata": {
        "id": "GN00ROPfyY8s",
        "colab_type": "code",
        "outputId": "0474e604-f6e0-483a-fd17-0738ae99e7f7",
        "colab": {
          "base_uri": "https://localhost:8080/",
          "height": 68
        }
      },
      "source": [
        "print(type(\"foo\"))\n",
        "print(type('foo'))\n",
        "print(type(\"\"\"hogehoge\n",
        "fugafuga\n",
        "barbar\n",
        "booboo\"\"\"))"
      ],
      "execution_count": 0,
      "outputs": [
        {
          "output_type": "stream",
          "text": [
            "<class 'str'>\n",
            "<class 'str'>\n",
            "<class 'str'>\n"
          ],
          "name": "stdout"
        }
      ]
    },
    {
      "cell_type": "markdown",
      "metadata": {
        "id": "zneO4ZrvzKP8",
        "colab_type": "text"
      },
      "source": [
        "2.1.9"
      ]
    },
    {
      "cell_type": "code",
      "metadata": {
        "id": "iZPMtcIl0Hx_",
        "colab_type": "code",
        "outputId": "9181f2f1-f3f5-45e7-a0f3-3cf2242b1f79",
        "colab": {
          "base_uri": "https://localhost:8080/",
          "height": 34
        }
      },
      "source": [
        "print(\"Alice\"+\" in \"+\"Wonderland\")"
      ],
      "execution_count": 0,
      "outputs": [
        {
          "output_type": "stream",
          "text": [
            "Alice in Wonderland\n"
          ],
          "name": "stdout"
        }
      ]
    },
    {
      "cell_type": "markdown",
      "metadata": {
        "id": "a7suHe7G0U3K",
        "colab_type": "text"
      },
      "source": [
        "2.1.10"
      ]
    },
    {
      "cell_type": "code",
      "metadata": {
        "id": "PO1ZmKVu0c2O",
        "colab_type": "code",
        "colab": {}
      },
      "source": [
        "print(\"I am \"+20+\"years old.\")"
      ],
      "execution_count": 0,
      "outputs": []
    },
    {
      "cell_type": "markdown",
      "metadata": {
        "id": "ys7zWRpD0nXb",
        "colab_type": "text"
      },
      "source": [
        "Memo  \n",
        "\"+\" でint型とstr型はつなぐことができない"
      ]
    },
    {
      "cell_type": "markdown",
      "metadata": {
        "id": "nohziTd61O-A",
        "colab_type": "text"
      },
      "source": [
        "2.1.11"
      ]
    },
    {
      "cell_type": "code",
      "metadata": {
        "id": "dU4-mAKO1VHV",
        "colab_type": "code",
        "outputId": "9a77fd63-bc99-4bba-c643-0c649636f79b",
        "colab": {
          "base_uri": "https://localhost:8080/",
          "height": 34
        }
      },
      "source": [
        "print(\"I am \"+str(20)+\" years old.\")"
      ],
      "execution_count": 0,
      "outputs": [
        {
          "output_type": "stream",
          "text": [
            "I am 20 years old.\n"
          ],
          "name": "stdout"
        }
      ]
    },
    {
      "cell_type": "markdown",
      "metadata": {
        "id": "LjIbE4-paz6p",
        "colab_type": "text"
      },
      "source": [
        "###2.2 変数"
      ]
    },
    {
      "cell_type": "markdown",
      "metadata": {
        "id": "odHnSgky1faX",
        "colab_type": "text"
      },
      "source": [
        "2.2.1"
      ]
    },
    {
      "cell_type": "code",
      "metadata": {
        "id": "n6YwahaJ1jsS",
        "colab_type": "code",
        "outputId": "b077acd1-8cfa-40a8-c6f5-13994531c35c",
        "colab": {
          "base_uri": "https://localhost:8080/",
          "height": 34
        }
      },
      "source": [
        "a=10\n",
        "b=a+10\n",
        "print(b)"
      ],
      "execution_count": 0,
      "outputs": [
        {
          "output_type": "stream",
          "text": [
            "20\n"
          ],
          "name": "stdout"
        }
      ]
    },
    {
      "cell_type": "markdown",
      "metadata": {
        "id": "wfkgDw4B1wo6",
        "colab_type": "text"
      },
      "source": [
        "2.2.2"
      ]
    },
    {
      "cell_type": "code",
      "metadata": {
        "id": "X1P4CBJO11eV",
        "colab_type": "code",
        "colab": {}
      },
      "source": [
        "No.19=10 #エラーとなる"
      ],
      "execution_count": 0,
      "outputs": []
    },
    {
      "cell_type": "markdown",
      "metadata": {
        "id": "T0kHafmg2DLP",
        "colab_type": "text"
      },
      "source": [
        "2.2.3"
      ]
    },
    {
      "cell_type": "code",
      "metadata": {
        "id": "U8bxv5Y52I5m",
        "colab_type": "code",
        "colab": {}
      },
      "source": [
        "1a=10 #これもエラー"
      ],
      "execution_count": 0,
      "outputs": []
    },
    {
      "cell_type": "markdown",
      "metadata": {
        "id": "Ojn1pwTD2PEa",
        "colab_type": "text"
      },
      "source": [
        "2.2.4"
      ]
    },
    {
      "cell_type": "code",
      "metadata": {
        "id": "cN6tQyGz2XDE",
        "colab_type": "code",
        "outputId": "8cbbf7cf-b183-45ab-8acc-fdeefa4ad310",
        "colab": {
          "base_uri": "https://localhost:8080/",
          "height": 54
        }
      },
      "source": [
        "import keyword\n",
        "print(keyword.kwlist)"
      ],
      "execution_count": 0,
      "outputs": [
        {
          "output_type": "stream",
          "text": [
            "['False', 'None', 'True', 'and', 'as', 'assert', 'break', 'class', 'continue', 'def', 'del', 'elif', 'else', 'except', 'finally', 'for', 'from', 'global', 'if', 'import', 'in', 'is', 'lambda', 'nonlocal', 'not', 'or', 'pass', 'raise', 'return', 'try', 'while', 'with', 'yield']\n"
          ],
          "name": "stdout"
        }
      ]
    },
    {
      "cell_type": "markdown",
      "metadata": {
        "id": "MFK7TOcM2iwo",
        "colab_type": "text"
      },
      "source": [
        "2.2.5"
      ]
    },
    {
      "cell_type": "code",
      "metadata": {
        "id": "F5KGIQYs2n6A",
        "colab_type": "code",
        "outputId": "e9ec96e9-58a0-44f9-b488-85f9eb4a44d8",
        "colab": {
          "base_uri": "https://localhost:8080/",
          "height": 34
        }
      },
      "source": [
        "a=10\n",
        "a=a-3\n",
        "print(a)"
      ],
      "execution_count": 0,
      "outputs": [
        {
          "output_type": "stream",
          "text": [
            "7\n"
          ],
          "name": "stdout"
        }
      ]
    },
    {
      "cell_type": "markdown",
      "metadata": {
        "id": "UTVDCKFY21xD",
        "colab_type": "text"
      },
      "source": [
        "Memo  \n",
        "\"=\" は「等号」ではなく「代入」"
      ]
    },
    {
      "cell_type": "markdown",
      "metadata": {
        "id": "5lfQEZHQ3E9z",
        "colab_type": "text"
      },
      "source": [
        "2.2.6"
      ]
    },
    {
      "cell_type": "code",
      "metadata": {
        "id": "3c39CkSp3LHw",
        "colab_type": "code",
        "outputId": "28b0f4ee-e41b-43b7-e194-b2143c300877",
        "colab": {
          "base_uri": "https://localhost:8080/",
          "height": 34
        }
      },
      "source": [
        "a=10\n",
        "a-=3\n",
        "print(a)"
      ],
      "execution_count": 0,
      "outputs": [
        {
          "output_type": "stream",
          "text": [
            "7\n"
          ],
          "name": "stdout"
        }
      ]
    },
    {
      "cell_type": "markdown",
      "metadata": {
        "id": "WCg8Spjf3Px8",
        "colab_type": "text"
      },
      "source": [
        "2.2.7"
      ]
    },
    {
      "cell_type": "code",
      "metadata": {
        "id": "YJdLAr6V3T1w",
        "colab_type": "code",
        "outputId": "34fad2cd-3164-44f8-ccba-4cafe6ee038e",
        "colab": {
          "base_uri": "https://localhost:8080/",
          "height": 34
        }
      },
      "source": [
        "a=10\n",
        "a*=2      # a=a*2と同じ意味\n",
        "print(a)"
      ],
      "execution_count": 0,
      "outputs": [
        {
          "output_type": "stream",
          "text": [
            "20\n"
          ],
          "name": "stdout"
        }
      ]
    },
    {
      "cell_type": "markdown",
      "metadata": {
        "id": "BpJ05kwk3Zx5",
        "colab_type": "text"
      },
      "source": [
        "2.2.8"
      ]
    },
    {
      "cell_type": "code",
      "metadata": {
        "id": "w7GSxoYb3mf7",
        "colab_type": "code",
        "outputId": "0011abeb-4f8f-47d2-f5ae-fc9706a13d24",
        "colab": {
          "base_uri": "https://localhost:8080/",
          "height": 34
        }
      },
      "source": [
        "green_apple=100\n",
        "summer_orange=500\n",
        "sales_tax=0.1\n",
        "price=int((green_apple*5+summer_orange*2)*(1.0+sales_tax))\n",
        "print(price)"
      ],
      "execution_count": 0,
      "outputs": [
        {
          "output_type": "stream",
          "text": [
            "1650\n"
          ],
          "name": "stdout"
        }
      ]
    },
    {
      "cell_type": "markdown",
      "metadata": {
        "id": "tYqUYD9ibIb4",
        "colab_type": "text"
      },
      "source": [
        "###2.3 データ構造"
      ]
    },
    {
      "cell_type": "markdown",
      "metadata": {
        "id": "-dzVLfYr3xoR",
        "colab_type": "text"
      },
      "source": [
        "2.3.1"
      ]
    },
    {
      "cell_type": "code",
      "metadata": {
        "id": "sJthFPbv4JZK",
        "colab_type": "code",
        "colab": {}
      },
      "source": [
        "p1=10000    #1月分\n",
        "p2=20000    #2月分\n",
        "p3=100000   #3月分\n",
        "p4=1000     #4月分\n",
        "p5=200000   #5月分"
      ],
      "execution_count": 0,
      "outputs": []
    },
    {
      "cell_type": "markdown",
      "metadata": {
        "id": "hEnYeqk04lAB",
        "colab_type": "text"
      },
      "source": [
        "2.3.2"
      ]
    },
    {
      "cell_type": "code",
      "metadata": {
        "id": "BR4m5h_x4nvv",
        "colab_type": "code",
        "outputId": "ba9e5546-b7ab-45a2-f740-c61025ef585d",
        "colab": {
          "base_uri": "https://localhost:8080/",
          "height": 34
        }
      },
      "source": [
        "prices=[10000,20000,100000,1000,200000]\n",
        "print(type(prices))"
      ],
      "execution_count": 0,
      "outputs": [
        {
          "output_type": "stream",
          "text": [
            "<class 'list'>\n"
          ],
          "name": "stdout"
        }
      ]
    },
    {
      "cell_type": "markdown",
      "metadata": {
        "id": "kqQtm_NW42jD",
        "colab_type": "text"
      },
      "source": [
        "2.3.3"
      ]
    },
    {
      "cell_type": "code",
      "metadata": {
        "id": "Y8jtnyk0494a",
        "colab_type": "code",
        "outputId": "c31f2dbf-8e02-4270-f0df-9f65104b4fcf",
        "colab": {
          "base_uri": "https://localhost:8080/",
          "height": 68
        }
      },
      "source": [
        "print(prices[0])\n",
        "print(prices[4])\n",
        "print(type(prices[0]))"
      ],
      "execution_count": 0,
      "outputs": [
        {
          "output_type": "stream",
          "text": [
            "10000\n",
            "200000\n",
            "<class 'int'>\n"
          ],
          "name": "stdout"
        }
      ]
    },
    {
      "cell_type": "markdown",
      "metadata": {
        "id": "Qp6UeiM85Let",
        "colab_type": "text"
      },
      "source": [
        "Memo  \n",
        "リストのインデックスは0から始まる"
      ]
    },
    {
      "cell_type": "markdown",
      "metadata": {
        "id": "a36RYnA85UyS",
        "colab_type": "text"
      },
      "source": [
        "2.3.4"
      ]
    },
    {
      "cell_type": "code",
      "metadata": {
        "id": "G97PuYYt5hyl",
        "colab_type": "code",
        "outputId": "3d7e8e46-28c8-4f59-d329-f8acd1ebfd04",
        "colab": {
          "base_uri": "https://localhost:8080/",
          "height": 68
        }
      },
      "source": [
        "print(prices[0])\n",
        "prices[0]=20\n",
        "print(prices[0])\n",
        "print(prices)"
      ],
      "execution_count": 0,
      "outputs": [
        {
          "output_type": "stream",
          "text": [
            "10000\n",
            "20\n",
            "[20, 20000, 100000, 1000, 200000]\n"
          ],
          "name": "stdout"
        }
      ]
    },
    {
      "cell_type": "markdown",
      "metadata": {
        "id": "YYYt_YSK5xzS",
        "colab_type": "text"
      },
      "source": [
        "2.3.5"
      ]
    },
    {
      "cell_type": "code",
      "metadata": {
        "id": "i-v6pCOS51lJ",
        "colab_type": "code",
        "outputId": "91255b2c-14b9-4821-c2e3-8c607de39552",
        "colab": {
          "base_uri": "https://localhost:8080/",
          "height": 34
        }
      },
      "source": [
        "print(len(prices))"
      ],
      "execution_count": 0,
      "outputs": [
        {
          "output_type": "stream",
          "text": [
            "5\n"
          ],
          "name": "stdout"
        }
      ]
    },
    {
      "cell_type": "markdown",
      "metadata": {
        "id": "eCcxdML0562I",
        "colab_type": "text"
      },
      "source": [
        "Memo  \n",
        "len()関数でリストの要素数が取り出せる"
      ]
    },
    {
      "cell_type": "markdown",
      "metadata": {
        "id": "Q9SwRL-S6Lkr",
        "colab_type": "text"
      },
      "source": [
        "2.3.6"
      ]
    },
    {
      "cell_type": "code",
      "metadata": {
        "id": "p5CR-rA76O94",
        "colab_type": "code",
        "outputId": "922f7144-96d9-4af3-c9ed-a4556336a727",
        "colab": {
          "base_uri": "https://localhost:8080/",
          "height": 85
        }
      },
      "source": [
        "string=\"a new stereophonic sound spectacular\"\n",
        "slist=string.split(\" \")\n",
        "print(string)\n",
        "print(slist)\n",
        "print(type(string))\n",
        "print(type(slist))"
      ],
      "execution_count": 0,
      "outputs": [
        {
          "output_type": "stream",
          "text": [
            "a new stereophonic sound spectacular\n",
            "['a', 'new', 'stereophonic', 'sound', 'spectacular']\n",
            "<class 'str'>\n",
            "<class 'list'>\n"
          ],
          "name": "stdout"
        }
      ]
    },
    {
      "cell_type": "markdown",
      "metadata": {
        "id": "4pyhXnCb6z7M",
        "colab_type": "text"
      },
      "source": [
        "2.3.7"
      ]
    },
    {
      "cell_type": "code",
      "metadata": {
        "id": "CwR9QTaRA69C",
        "colab_type": "code",
        "outputId": "bedbd82d-3d7d-4952-9155-225748b7a3f7",
        "colab": {
          "base_uri": "https://localhost:8080/",
          "height": 34
        }
      },
      "source": [
        "slist=['a','new','stereophonic','sound','spectacular']\n",
        "string2=\" \".join(slist)\n",
        "print(string2)"
      ],
      "execution_count": 0,
      "outputs": [
        {
          "output_type": "stream",
          "text": [
            "a new stereophonic sound spectacular\n"
          ],
          "name": "stdout"
        }
      ]
    },
    {
      "cell_type": "markdown",
      "metadata": {
        "id": "f61Zax18BYSD",
        "colab_type": "text"
      },
      "source": [
        "Memo  \n",
        "join()メソッド：文字列のリストを結合して一つの文字列にする  \n",
        "\" \".join(string) の形をとる"
      ]
    },
    {
      "cell_type": "markdown",
      "metadata": {
        "id": "ttl2fsmYB5A5",
        "colab_type": "text"
      },
      "source": [
        "2.3.8"
      ]
    },
    {
      "cell_type": "code",
      "metadata": {
        "id": "zSz3qKjTB9Z6",
        "colab_type": "code",
        "outputId": "79714efc-0484-48d9-e46a-880b5005d1de",
        "colab": {
          "base_uri": "https://localhost:8080/",
          "height": 51
        }
      },
      "source": [
        "string=\"a new stereophonic sound spectacular\"\n",
        "srep=string.replace('s','S')\n",
        "print(srep)\n",
        "print(string)"
      ],
      "execution_count": 0,
      "outputs": [
        {
          "output_type": "stream",
          "text": [
            "a new Stereophonic Sound Spectacular\n",
            "a new stereophonic sound spectacular\n"
          ],
          "name": "stdout"
        }
      ]
    },
    {
      "cell_type": "markdown",
      "metadata": {
        "id": "YF8FekdgCWdL",
        "colab_type": "text"
      },
      "source": [
        "Memo  \n",
        "replace()メソッド：文字列の置換\n",
        "                   元の文字列は変化させない\n"
      ]
    },
    {
      "cell_type": "markdown",
      "metadata": {
        "id": "SLPxuu-dCqUI",
        "colab_type": "text"
      },
      "source": [
        "2.3.9"
      ]
    },
    {
      "cell_type": "code",
      "metadata": {
        "id": "R1TI49YWC4lq",
        "colab_type": "code",
        "outputId": "15274484-c32f-44b3-bad7-032bd4ae4fdc",
        "colab": {
          "base_uri": "https://localhost:8080/",
          "height": 34
        }
      },
      "source": [
        "string=\"  foo    \"  #両端に空白のある文字列\n",
        "srp=string.strip()\n",
        "print(srp)"
      ],
      "execution_count": 0,
      "outputs": [
        {
          "output_type": "stream",
          "text": [
            "foo\n"
          ],
          "name": "stdout"
        }
      ]
    },
    {
      "cell_type": "markdown",
      "metadata": {
        "id": "Tnx4_0XVDOKo",
        "colab_type": "text"
      },
      "source": [
        "Memo  \n",
        "strip()メソッド ：文字列の空白を削除する  \n",
        "lstrip()メソッド：左側の空白を削除  \n",
        "rstrip()メソッド：右側の空白を削除"
      ]
    },
    {
      "cell_type": "markdown",
      "metadata": {
        "id": "_NZQz1z6Dy1n",
        "colab_type": "text"
      },
      "source": [
        "2.3.10"
      ]
    },
    {
      "cell_type": "code",
      "metadata": {
        "id": "QBphjXkdD2X_",
        "colab_type": "code",
        "outputId": "f934f856-37c8-4c5d-c091-0070f658dc9d",
        "colab": {
          "base_uri": "https://localhost:8080/",
          "height": 68
        }
      },
      "source": [
        "prices=[1000,20000,100000,1000,200000]\n",
        "p1=prices[2:4]　　#リストの3番目(インデックス=2)から4番目(インデックス=3)\n",
        "p2=prices[2:]     #後ろの値を省略するとここから後ろ全部という意味\n",
        "p3=prices[:4]　　 #前の値を省略すると最初からという意味\n",
        "print(p1)\n",
        "print(p2)\n",
        "print(p3)"
      ],
      "execution_count": 0,
      "outputs": [
        {
          "output_type": "stream",
          "text": [
            "[100000, 1000]\n",
            "[100000, 1000, 200000]\n",
            "[1000, 20000, 100000, 1000]\n"
          ],
          "name": "stdout"
        }
      ]
    },
    {
      "cell_type": "markdown",
      "metadata": {
        "id": "KSy-JQHUE_mM",
        "colab_type": "text"
      },
      "source": [
        "Memo  \n",
        "スライス機能：複数の要素にアクセスする  \n",
        "prices[取り出す最初のインデックス値：取り出す最後のインデックス値+1]"
      ]
    },
    {
      "cell_type": "markdown",
      "metadata": {
        "id": "aWC3kYbaGFVG",
        "colab_type": "text"
      },
      "source": [
        "2.3.11"
      ]
    },
    {
      "cell_type": "code",
      "metadata": {
        "id": "xDZeHBc7HnSO",
        "colab_type": "code",
        "outputId": "d73a8dcc-71f4-43ef-b13b-8f8066133d68",
        "colab": {
          "base_uri": "https://localhost:8080/",
          "height": 68
        }
      },
      "source": [
        "prices=[1000,20000,100000,1000,200000]\n",
        "p1=prices[2:4]\n",
        "print(p1)\n",
        "p1[0]=\"hoge\"\n",
        "print(p1)\n",
        "print(prices)"
      ],
      "execution_count": 0,
      "outputs": [
        {
          "output_type": "stream",
          "text": [
            "[100000, 1000]\n",
            "['hoge', 1000]\n",
            "[1000, 20000, 100000, 1000, 200000]\n"
          ],
          "name": "stdout"
        }
      ]
    },
    {
      "cell_type": "code",
      "metadata": {
        "id": "0u-5ykVHItAu",
        "colab_type": "code",
        "outputId": "f47b5b53-d243-40d2-a4ec-144aee4fd287",
        "colab": {
          "base_uri": "https://localhost:8080/",
          "height": 34
        }
      },
      "source": [
        "prices=[10,20000,100000,1000,200000]\n",
        "prices.append(100)\n",
        "print(prices)"
      ],
      "execution_count": 0,
      "outputs": [
        {
          "output_type": "stream",
          "text": [
            "[10, 20000, 100000, 1000, 200000, 100]\n"
          ],
          "name": "stdout"
        }
      ]
    },
    {
      "cell_type": "markdown",
      "metadata": {
        "id": "c5h8R4wRJy8U",
        "colab_type": "text"
      },
      "source": [
        "Memo  \n",
        "append()メソッド：要素をリストに追加"
      ]
    },
    {
      "cell_type": "markdown",
      "metadata": {
        "id": "Ztj_U-iQKeu4",
        "colab_type": "text"
      },
      "source": [
        "Tips \n",
        "- ctrl+M+M→コードセルをテキストセルに変換\n",
        "- ctrl+M+Y→テキストセルをコードセルに変換\n",
        "- 改行したいときはSpace２回クリック→Enter\n",
        "- \\` で囲ってあげるとhoge→`hoge`になる\n"
      ]
    },
    {
      "cell_type": "markdown",
      "metadata": {
        "id": "WbamKq1PLMNC",
        "colab_type": "text"
      },
      "source": [
        "2.3.12"
      ]
    },
    {
      "cell_type": "code",
      "metadata": {
        "id": "qS4O0lteMVvV",
        "colab_type": "code",
        "outputId": "a9c2b981-1bcc-445e-d01f-b9b7a3b7a536",
        "colab": {
          "base_uri": "https://localhost:8080/",
          "height": 34
        }
      },
      "source": [
        "humans=['Alice','Mad Hatter','Queen','King']\n",
        "animals=['Rabbit','Mouse','Puppy','Caterpillar','Cat']\n",
        "chars=humans+animals\n",
        "print(chars)"
      ],
      "execution_count": 0,
      "outputs": [
        {
          "output_type": "stream",
          "text": [
            "['Alice', 'Mad Hatter', 'Queen', 'King', 'Rabbit', 'Mouse', 'Puppy', 'Caterpillar', 'Cat']\n"
          ],
          "name": "stdout"
        }
      ]
    },
    {
      "cell_type": "markdown",
      "metadata": {
        "id": "P1GlPfPeP7sS",
        "colab_type": "text"
      },
      "source": [
        "Memo  \n",
        "リストは+記号で連結できる"
      ]
    },
    {
      "cell_type": "markdown",
      "metadata": {
        "id": "KzmfeM7TQUC6",
        "colab_type": "text"
      },
      "source": [
        "2.3.13"
      ]
    },
    {
      "cell_type": "code",
      "metadata": {
        "id": "RwE-R24LQaE_",
        "colab_type": "code",
        "outputId": "03c891ca-ab37-4b03-da15-b19e9b0ba680",
        "colab": {
          "base_uri": "https://localhost:8080/",
          "height": 68
        }
      },
      "source": [
        "prices=[10,20000,100000,1000,200000]\n",
        "sprices=sorted(prices)\n",
        "print(sprices)\n",
        "print(prices)\n",
        "prices.sort()\n",
        "print(prices)"
      ],
      "execution_count": 0,
      "outputs": [
        {
          "output_type": "stream",
          "text": [
            "[10, 1000, 20000, 100000, 200000]\n",
            "[10, 20000, 100000, 1000, 200000]\n",
            "[10, 1000, 20000, 100000, 200000]\n"
          ],
          "name": "stdout"
        }
      ]
    },
    {
      "cell_type": "markdown",
      "metadata": {
        "id": "lmEjGPhORF1e",
        "colab_type": "text"
      },
      "source": [
        "Memo  \n",
        "sorted()関数:  \n",
        ">小さい順に並び替える  \n",
        ">大きい順に並び替える場合は`sorted(x,reverse=True)`とする"
      ]
    },
    {
      "cell_type": "markdown",
      "metadata": {
        "id": "MWyegg95SB4n",
        "colab_type": "text"
      },
      "source": [
        "Tips  \n",
        "- \\>でインデントを追加する　　\n",
        "- \\ で特殊文字を表示する"
      ]
    },
    {
      "cell_type": "markdown",
      "metadata": {
        "id": "Xrq2l_uIUoxa",
        "colab_type": "text"
      },
      "source": [
        "2.3.14"
      ]
    },
    {
      "cell_type": "code",
      "metadata": {
        "id": "QQ0zkrzmUuCh",
        "colab_type": "code",
        "outputId": "03fa44c6-2d52-4fc6-e79a-b6c4c6621733",
        "colab": {
          "base_uri": "https://localhost:8080/",
          "height": 51
        }
      },
      "source": [
        "humans=['Alice','Mad Hatter','Queen','King']\n",
        "t='Rabbit' in humans\n",
        "print(t)\n",
        "s='Rabbit' not in humans\n",
        "print(s)"
      ],
      "execution_count": 0,
      "outputs": [
        {
          "output_type": "stream",
          "text": [
            "False\n",
            "True\n"
          ],
          "name": "stdout"
        }
      ]
    },
    {
      "cell_type": "markdown",
      "metadata": {
        "id": "BCu7fRzUVOyo",
        "colab_type": "text"
      },
      "source": [
        "Memo  \n",
        "in・not in：リストに値があるかを調べる  \n",
        ">in:リスト内に含まれていれば True  \n",
        ">not in:リスト内に含まれていなければ True\n"
      ]
    },
    {
      "cell_type": "markdown",
      "metadata": {
        "id": "B-Ga2B21VlMS",
        "colab_type": "text"
      },
      "source": [
        "2.3.15"
      ]
    },
    {
      "cell_type": "code",
      "metadata": {
        "id": "UPMm8RV0cAh0",
        "colab_type": "code",
        "outputId": "e875872a-2041-47b5-baae-f37617039736",
        "colab": {
          "base_uri": "https://localhost:8080/",
          "height": 51
        }
      },
      "source": [
        "prices=(1000,20000,100000,1000,200000)\n",
        "print(type(prices))\n",
        "print(prices)"
      ],
      "execution_count": 0,
      "outputs": [
        {
          "output_type": "stream",
          "text": [
            "<class 'tuple'>\n",
            "(1000, 20000, 100000, 1000, 200000)\n"
          ],
          "name": "stdout"
        }
      ]
    },
    {
      "cell_type": "markdown",
      "metadata": {
        "id": "kuqEUnoZchuy",
        "colab_type": "text"
      },
      "source": [
        "Memo  \n",
        "タプル：要素を変更できない　　\n",
        ">タプルは()を使って定義する"
      ]
    },
    {
      "cell_type": "markdown",
      "metadata": {
        "id": "QpUBnMutc6I3",
        "colab_type": "text"
      },
      "source": [
        "2.3.16"
      ]
    },
    {
      "cell_type": "code",
      "metadata": {
        "id": "TFE8q1GRdA8e",
        "colab_type": "code",
        "colab": {}
      },
      "source": [
        "prices=(1000,20000,100000,1000,200000)\n",
        "prices[1]=20  #書き換えようとした\n",
        "print(prices)"
      ],
      "execution_count": 0,
      "outputs": []
    },
    {
      "cell_type": "markdown",
      "metadata": {
        "id": "_YJOTsmpdb_V",
        "colab_type": "text"
      },
      "source": [
        "Memo  \n",
        "[重要] タプルは一度定義すると書き換えることができない"
      ]
    },
    {
      "cell_type": "markdown",
      "metadata": {
        "id": "CBWHjRZ6d63H",
        "colab_type": "text"
      },
      "source": [
        "2.3.17"
      ]
    },
    {
      "cell_type": "code",
      "metadata": {
        "id": "teiXQqOweVRw",
        "colab_type": "code",
        "outputId": "e7c4935e-d1f3-4d0a-fac1-dead253bdf3c",
        "colab": {
          "base_uri": "https://localhost:8080/",
          "height": 51
        }
      },
      "source": [
        "humans=('Alice','Mat Hatter','Queen','king')            #tuple\n",
        "animals=['Rabbit','Mouse','Puppy','Caterpillar','Cat']  #list\n",
        "h=list(humans)\n",
        "print(h)\n",
        "a=tuple(animals)\n",
        "print(a)"
      ],
      "execution_count": 0,
      "outputs": [
        {
          "output_type": "stream",
          "text": [
            "['Alice', 'Mat Hatter', 'Queen', 'king']\n",
            "('Rabbit', 'Mouse', 'Puppy', 'Caterpillar', 'Cat')\n"
          ],
          "name": "stdout"
        }
      ]
    },
    {
      "cell_type": "markdown",
      "metadata": {
        "id": "GS3eWl2PfFvy",
        "colab_type": "text"
      },
      "source": [
        "Memo  \n",
        "list()関数とtuple()関数を使って互いに変換できる  \n",
        "関数の引数はタプルで渡され、関数の戻り値として複数の値を返すときや辞書のキーとして使われる"
      ]
    },
    {
      "cell_type": "markdown",
      "metadata": {
        "id": "XD-htCujgbEU",
        "colab_type": "text"
      },
      "source": [
        "2.3.18"
      ]
    },
    {
      "cell_type": "code",
      "metadata": {
        "id": "GZMTUFpJrDsn",
        "colab_type": "code",
        "outputId": "b30d10c2-389c-4329-fe00-4cdc85a10307",
        "colab": {
          "base_uri": "https://localhost:8080/",
          "height": 51
        }
      },
      "source": [
        "sales={'january':10000,'february':20000,'march':100000,'april':1000,'may':200000}\n",
        "print(sales['january'])\n",
        "print(type(sales))"
      ],
      "execution_count": 0,
      "outputs": [
        {
          "output_type": "stream",
          "text": [
            "10000\n",
            "<class 'dict'>\n"
          ],
          "name": "stdout"
        }
      ]
    },
    {
      "cell_type": "markdown",
      "metadata": {
        "id": "2bvgx0Ymr1JO",
        "colab_type": "text"
      },
      "source": [
        "Memo  \n",
        "辞書は{}を用いて定義する  \n",
        "型の名前はdict型"
      ]
    },
    {
      "cell_type": "markdown",
      "metadata": {
        "id": "JRS1v0VVsNBi",
        "colab_type": "text"
      },
      "source": [
        "2.3.19"
      ]
    },
    {
      "cell_type": "code",
      "metadata": {
        "id": "MP0q9sFksuKg",
        "colab_type": "code",
        "colab": {}
      },
      "source": [
        "sales={'january':10000,'february':20000,'march':100000,'april':1000,'may':200000}\n",
        "print(sales['january':'april'])  # january-marchまでのデータが欲しい\n",
        "print(type(sales))"
      ],
      "execution_count": 0,
      "outputs": []
    },
    {
      "cell_type": "markdown",
      "metadata": {
        "id": "59zOUSEXtjnL",
        "colab_type": "text"
      },
      "source": [
        "Memo  \n",
        "[重要]辞書のキーに順番はない  \n",
        "スライスが使えない"
      ]
    },
    {
      "cell_type": "markdown",
      "metadata": {
        "id": "iFVPDoMPt4vo",
        "colab_type": "text"
      },
      "source": [
        "2.3.20"
      ]
    },
    {
      "cell_type": "code",
      "metadata": {
        "id": "Y44MCi9XuL7x",
        "colab_type": "code",
        "outputId": "cbbb6a14-5241-422b-bef1-39dc1f20f20b",
        "colab": {
          "base_uri": "https://localhost:8080/",
          "height": 34
        }
      },
      "source": [
        "birthday={}\n",
        "birthday['Alice']='4/1'　  #追加\n",
        "birthday['Queen']='12/12'　#追加\n",
        "birthday['King']='7/3'　　 #追加\n",
        "birthday.pop('Alice')      #削除\n",
        "print(birthday)"
      ],
      "execution_count": 0,
      "outputs": [
        {
          "output_type": "stream",
          "text": [
            "{'Queen': '12/12', 'King': '7/3'}\n"
          ],
          "name": "stdout"
        }
      ]
    },
    {
      "cell_type": "markdown",
      "metadata": {
        "id": "I21f-msZu0SK",
        "colab_type": "text"
      },
      "source": [
        "Memo  \n",
        "キーと値を追加したり削除したりできる  \n",
        "pop()メソッド：削除できる"
      ]
    },
    {
      "cell_type": "markdown",
      "metadata": {
        "id": "nWHhHC94vMac",
        "colab_type": "text"
      },
      "source": [
        "2.3.21"
      ]
    },
    {
      "cell_type": "code",
      "metadata": {
        "id": "NYZeqFTUvdWV",
        "colab_type": "code",
        "outputId": "97004226-11f3-4291-b7f8-e4498a3101a1",
        "colab": {
          "base_uri": "https://localhost:8080/",
          "height": 34
        }
      },
      "source": [
        "sales={'january':10000,'february':20000,'march':100000,'april':1000,'may':200000}\n",
        "sales['june']=50000\n",
        "print(list(sales.items()))"
      ],
      "execution_count": 0,
      "outputs": [
        {
          "output_type": "stream",
          "text": [
            "[('january', 10000), ('february', 20000), ('march', 100000), ('april', 1000), ('may', 200000), ('june', 50000)]\n"
          ],
          "name": "stdout"
        }
      ]
    },
    {
      "cell_type": "markdown",
      "metadata": {
        "id": "NX5P3JIFvxQd",
        "colab_type": "text"
      },
      "source": [
        "Memo  \n",
        "items()メソッド：すべてのキーと値のペアを取得する  \n",
        "キーと値はタプル形式で表現される"
      ]
    },
    {
      "cell_type": "markdown",
      "metadata": {
        "id": "4MaiADZuwIB6",
        "colab_type": "text"
      },
      "source": [
        "2.3.22"
      ]
    },
    {
      "cell_type": "code",
      "metadata": {
        "id": "4WkfuVLcwLHV",
        "colab_type": "code",
        "outputId": "6f4160ab-4d4a-4ad8-abbd-e52ba82ab58a",
        "colab": {
          "base_uri": "https://localhost:8080/",
          "height": 51
        }
      },
      "source": [
        "sales_tokyo={'january':10000,'february':20000,'march':100000,'april':1000,'may':200000}\n",
        "sales_sapporo=sales_tokyo.copy()\n",
        "sales_sapporo['january']=5000\n",
        "print(sales_sapporo)\n",
        "print(sales_tokyo)"
      ],
      "execution_count": 0,
      "outputs": [
        {
          "output_type": "stream",
          "text": [
            "{'january': 5000, 'february': 20000, 'march': 100000, 'april': 1000, 'may': 200000}\n",
            "{'january': 10000, 'february': 20000, 'march': 100000, 'april': 1000, 'may': 200000}\n"
          ],
          "name": "stdout"
        }
      ]
    },
    {
      "cell_type": "markdown",
      "metadata": {
        "id": "ItTWUS6nwvOU",
        "colab_type": "text"
      },
      "source": [
        "copy()メソッド：辞書のコピーに用いる  \n",
        "※＝を用いてもコピーできない"
      ]
    },
    {
      "cell_type": "markdown",
      "metadata": {
        "id": "f9-RzRwCxOaO",
        "colab_type": "text"
      },
      "source": [
        "###2.4 基本構文"
      ]
    },
    {
      "cell_type": "markdown",
      "metadata": {
        "id": "lIMuL9lJxVw4",
        "colab_type": "text"
      },
      "source": [
        "2.4.1"
      ]
    },
    {
      "cell_type": "code",
      "metadata": {
        "id": "i8M0quoV3S5B",
        "colab_type": "code",
        "outputId": "46327c75-b58e-42ca-ff22-39646165e35e",
        "colab": {
          "base_uri": "https://localhost:8080/",
          "height": 34
        }
      },
      "source": [
        "math=40 #私の数学の得点である\n",
        "if math>60:\n",
        "  print(\"合格\")\n",
        "else:\n",
        "  print(\"不合格\")"
      ],
      "execution_count": 0,
      "outputs": [
        {
          "output_type": "stream",
          "text": [
            "不合格\n"
          ],
          "name": "stdout"
        }
      ]
    },
    {
      "cell_type": "markdown",
      "metadata": {
        "id": "HY8QcJwh3tTH",
        "colab_type": "text"
      },
      "source": [
        "Memo  \n",
        "[重要]Pythonではプログラムの構造を示すために空白(インデント)を用いる"
      ]
    },
    {
      "cell_type": "code",
      "metadata": {
        "id": "F3wWNgSx4NSh",
        "colab_type": "code",
        "colab": {}
      },
      "source": [
        "if 条件式1:\n",
        "  処理1\n",
        "elif 条件式2:\n",
        "  処理2\n",
        "elif 条件式3:\n",
        "  処理3\n",
        "....\n",
        "else:\n",
        "  条件4"
      ],
      "execution_count": 0,
      "outputs": []
    },
    {
      "cell_type": "markdown",
      "metadata": {
        "id": "YhPRKZiY5DiY",
        "colab_type": "text"
      },
      "source": [
        "2.4.2"
      ]
    },
    {
      "cell_type": "code",
      "metadata": {
        "id": "M4DyWFNz5P6y",
        "colab_type": "code",
        "outputId": "44621164-b502-4a39-e082-94427018f7e1",
        "colab": {
          "base_uri": "https://localhost:8080/",
          "height": 85
        }
      },
      "source": [
        "humans=['Alice','Mad Hatter','Queen','King']\n",
        "for h in humans:\n",
        "  print(\"名前: \"+h)"
      ],
      "execution_count": 0,
      "outputs": [
        {
          "output_type": "stream",
          "text": [
            "名前: Alice\n",
            "名前: Mad Hatter\n",
            "名前: Queen\n",
            "名前: King\n"
          ],
          "name": "stdout"
        }
      ]
    },
    {
      "cell_type": "code",
      "metadata": {
        "id": "UukZ6m8T54sS",
        "colab_type": "code",
        "colab": {}
      },
      "source": [
        "for 変数 in リスト:\n",
        "  処理"
      ],
      "execution_count": 0,
      "outputs": []
    },
    {
      "cell_type": "markdown",
      "metadata": {
        "id": "BTPA6keO6H6O",
        "colab_type": "text"
      },
      "source": [
        "Memo  \n",
        "for文のリストのところには、「文字列、タプル、辞書」などを入れることができる"
      ]
    },
    {
      "cell_type": "markdown",
      "metadata": {
        "id": "55W3e6x87VSj",
        "colab_type": "text"
      },
      "source": [
        "2.4.3"
      ]
    },
    {
      "cell_type": "code",
      "metadata": {
        "id": "pdehC5pl7Y2w",
        "colab_type": "code",
        "outputId": "8e1495d4-12ad-4aa4-bd76-d6eb5fa906fe",
        "colab": {
          "base_uri": "https://localhost:8080/",
          "height": 102
        }
      },
      "source": [
        "for x in range(5):\n",
        "  print(x,\":\",x**2)"
      ],
      "execution_count": 0,
      "outputs": [
        {
          "output_type": "stream",
          "text": [
            "0 : 0\n",
            "1 : 1\n",
            "2 : 4\n",
            "3 : 9\n",
            "4 : 16\n"
          ],
          "name": "stdout"
        }
      ]
    },
    {
      "cell_type": "markdown",
      "metadata": {
        "id": "RibhNYDh7kyG",
        "colab_type": "text"
      },
      "source": [
        "Memo  \n",
        "range()関数：数値の繰り返しができる"
      ]
    },
    {
      "cell_type": "markdown",
      "metadata": {
        "id": "EGlqwWPO8BrD",
        "colab_type": "text"
      },
      "source": [
        "2.4.4"
      ]
    },
    {
      "cell_type": "code",
      "metadata": {
        "id": "jje-5oTo8GDx",
        "colab_type": "code",
        "outputId": "5a0bf1af-0f67-428b-8ae0-54265d6d09b9",
        "colab": {
          "base_uri": "https://localhost:8080/",
          "height": 85
        }
      },
      "source": [
        "humans=['Alice','Mad Hatter','Queen','King']\n",
        "animals=['Rabbit','Mouse','Puppy','Caterpillar']\n",
        "for h,a in zip(humans,animals):\n",
        "  print(\"human=\",h,\"\\tanimals=\",a)"
      ],
      "execution_count": 0,
      "outputs": [
        {
          "output_type": "stream",
          "text": [
            "human= Alice \tanimals= Rabbit\n",
            "human= Mad Hatter \tanimals= Mouse\n",
            "human= Queen \tanimals= Puppy\n",
            "human= King \tanimals= Caterpillar\n"
          ],
          "name": "stdout"
        }
      ]
    },
    {
      "cell_type": "markdown",
      "metadata": {
        "id": "2DS_u0im80nG",
        "colab_type": "text"
      },
      "source": [
        "Memo  \n",
        ">zip():複数の配列を同時にfor文でループしたいときに用いる  \n",
        ">`\\t`:タブ記号の出力"
      ]
    },
    {
      "cell_type": "markdown",
      "metadata": {
        "id": "sYz1OHQb9g1a",
        "colab_type": "text"
      },
      "source": [
        "2.4.5"
      ]
    },
    {
      "cell_type": "code",
      "metadata": {
        "id": "4UP5NsBg9riq",
        "colab_type": "code",
        "outputId": "7aa8a3c9-67d3-4bf2-b13d-a5489a585c11",
        "colab": {
          "base_uri": "https://localhost:8080/",
          "height": 85
        }
      },
      "source": [
        "humans=['Alice','Mad Hatter','Queen','King']\n",
        "for i,name in enumerate(humans):\n",
        "  print(i,name)"
      ],
      "execution_count": 0,
      "outputs": [
        {
          "output_type": "stream",
          "text": [
            "0 Alice\n",
            "1 Mad Hatter\n",
            "2 Queen\n",
            "3 King\n"
          ],
          "name": "stdout"
        }
      ]
    },
    {
      "cell_type": "markdown",
      "metadata": {
        "id": "iHesAYkd91hh",
        "colab_type": "text"
      },
      "source": [
        "Memo  \n",
        "enumerate()関数：リストの値とインデックスを同時に得たいときに用いる"
      ]
    },
    {
      "cell_type": "markdown",
      "metadata": {
        "id": "7oU-fVOp-K1Z",
        "colab_type": "text"
      },
      "source": [
        "2.4.6"
      ]
    },
    {
      "cell_type": "code",
      "metadata": {
        "id": "nTjreEji-OvJ",
        "colab_type": "code",
        "outputId": "08769c69-f126-4c2d-a373-7645abfd1676",
        "colab": {
          "base_uri": "https://localhost:8080/",
          "height": 34
        }
      },
      "source": [
        "nums=[n for n in range(1,11)]\n",
        "print(nums)"
      ],
      "execution_count": 0,
      "outputs": [
        {
          "output_type": "stream",
          "text": [
            "[1, 2, 3, 4, 5, 6, 7, 8, 9, 10]\n"
          ],
          "name": "stdout"
        }
      ]
    },
    {
      "cell_type": "markdown",
      "metadata": {
        "id": "Ng2x4rfU-_rd",
        "colab_type": "text"
      },
      "source": [
        "2.4.7"
      ]
    },
    {
      "cell_type": "code",
      "metadata": {
        "id": "J-6XBSNB_cLe",
        "colab_type": "code",
        "colab": {}
      },
      "source": [
        "nums=[] #空のリストを作成。内包表記では、この中でfor分を回す"
      ],
      "execution_count": 0,
      "outputs": []
    },
    {
      "cell_type": "markdown",
      "metadata": {
        "id": "dJ9DU1DF_ewE",
        "colab_type": "text"
      },
      "source": [
        "2.4.8"
      ]
    },
    {
      "cell_type": "code",
      "metadata": {
        "id": "XygaVhlb_g_2",
        "colab_type": "code",
        "colab": {}
      },
      "source": [
        "nums=[for n in range(1,11)]"
      ],
      "execution_count": 0,
      "outputs": []
    },
    {
      "cell_type": "markdown",
      "metadata": {
        "id": "o1wwvv8p_-oN",
        "colab_type": "text"
      },
      "source": [
        "2.4.9"
      ]
    },
    {
      "cell_type": "code",
      "metadata": {
        "id": "pcRS8xiBAB-z",
        "colab_type": "code",
        "outputId": "6ba8141b-7422-42f8-ef04-b0c6f3ec5aff",
        "colab": {
          "base_uri": "https://localhost:8080/",
          "height": 34
        }
      },
      "source": [
        "nums=[n for n in range(1,11)]\n",
        "print(nums)"
      ],
      "execution_count": 0,
      "outputs": [
        {
          "output_type": "stream",
          "text": [
            "[1, 2, 3, 4, 5, 6, 7, 8, 9, 10]\n"
          ],
          "name": "stdout"
        }
      ]
    },
    {
      "cell_type": "markdown",
      "metadata": {
        "id": "dVx16NzeANrW",
        "colab_type": "text"
      },
      "source": [
        "2.4.10"
      ]
    },
    {
      "cell_type": "code",
      "metadata": {
        "id": "YlOGA8lrARk5",
        "colab_type": "code",
        "outputId": "93e42292-7488-464e-de44-e1ced87ff4c9",
        "colab": {
          "base_uri": "https://localhost:8080/",
          "height": 34
        }
      },
      "source": [
        "nums=[n**2+2*n-3 for n in range(1,11)]\n",
        "print(nums)"
      ],
      "execution_count": 0,
      "outputs": [
        {
          "output_type": "stream",
          "text": [
            "[0, 5, 12, 21, 32, 45, 60, 77, 96, 117]\n"
          ],
          "name": "stdout"
        }
      ]
    },
    {
      "cell_type": "markdown",
      "metadata": {
        "id": "ETvRPmY_AcHQ",
        "colab_type": "text"
      },
      "source": [
        "2.4.11"
      ]
    },
    {
      "cell_type": "code",
      "metadata": {
        "id": "6ShjgQt3BCPb",
        "colab_type": "code",
        "outputId": "f37271b8-76e7-49c8-8029-1f5276117692",
        "colab": {
          "base_uri": "https://localhost:8080/",
          "height": 34
        }
      },
      "source": [
        "nums=[n**2+2*n-3 for n in range(1,11) if n%2==0]\n",
        "print(nums)"
      ],
      "execution_count": 0,
      "outputs": [
        {
          "output_type": "stream",
          "text": [
            "[5, 21, 45, 77, 117]\n"
          ],
          "name": "stdout"
        }
      ]
    },
    {
      "cell_type": "markdown",
      "metadata": {
        "id": "GgXqOsQkBRTa",
        "colab_type": "text"
      },
      "source": [
        "Memo  \n",
        ">複雑な計算式でもOK  \n",
        ">内包表記の中に条件式も追加できる"
      ]
    },
    {
      "cell_type": "markdown",
      "metadata": {
        "id": "28D_HJwbBlso",
        "colab_type": "text"
      },
      "source": [
        "###2.5 関数"
      ]
    },
    {
      "cell_type": "markdown",
      "metadata": {
        "id": "9SS6Trei4Spe",
        "colab_type": "text"
      },
      "source": [
        "Memo  \n",
        "関数の主な目的は何度も呼び出される機能をまとめて再利用すること"
      ]
    },
    {
      "cell_type": "markdown",
      "metadata": {
        "id": "uFMhmuPgBras",
        "colab_type": "text"
      },
      "source": [
        "2.5.1"
      ]
    },
    {
      "cell_type": "code",
      "metadata": {
        "id": "tjkbVGSO40t3",
        "colab_type": "code",
        "colab": {}
      },
      "source": [
        "def hello_world():\n",
        "  print(\"Hello World\")"
      ],
      "execution_count": 0,
      "outputs": []
    },
    {
      "cell_type": "markdown",
      "metadata": {
        "id": "Nj_Azp1B4y98",
        "colab_type": "text"
      },
      "source": [
        "2.5.2"
      ]
    },
    {
      "cell_type": "code",
      "metadata": {
        "id": "KJAUBrCj5Ddm",
        "colab_type": "code",
        "outputId": "3f2cf4d5-37d4-4413-e882-71bcd4c6de19",
        "colab": {
          "base_uri": "https://localhost:8080/",
          "height": 34
        }
      },
      "source": [
        "hello_world()"
      ],
      "execution_count": 0,
      "outputs": [
        {
          "output_type": "stream",
          "text": [
            "Hello World\n"
          ],
          "name": "stdout"
        }
      ]
    },
    {
      "cell_type": "markdown",
      "metadata": {
        "id": "Bppzp9UR5ZgA",
        "colab_type": "text"
      },
      "source": [
        "2.5.3"
      ]
    },
    {
      "cell_type": "code",
      "metadata": {
        "id": "g65Dzmwa5e-h",
        "colab_type": "code",
        "colab": {}
      },
      "source": [
        "def f(x):\n",
        "  y=2*x\n",
        "  return y"
      ],
      "execution_count": 0,
      "outputs": []
    },
    {
      "cell_type": "markdown",
      "metadata": {
        "id": "RUg1hBHf5pfi",
        "colab_type": "text"
      },
      "source": [
        "Memo  \n",
        "return:関数は数学における関数と同様、パラメータxを受け取ってyを返すことができる\n",
        ">y=f(x)"
      ]
    },
    {
      "cell_type": "markdown",
      "metadata": {
        "id": "AVKpub9w6ff6",
        "colab_type": "text"
      },
      "source": [
        "2.5.4"
      ]
    },
    {
      "cell_type": "code",
      "metadata": {
        "id": "Nf9si-tD6pRQ",
        "colab_type": "code",
        "outputId": "dd0a2628-c90f-4327-eaee-0eb1046ef6e2",
        "colab": {
          "base_uri": "https://localhost:8080/",
          "height": 34
        }
      },
      "source": [
        "def f(x):\n",
        "  y=2*x\n",
        "  return y\n",
        "\n",
        "x_new=5\n",
        "y_new=f(x_new)\n",
        "print(y_new)"
      ],
      "execution_count": 0,
      "outputs": [
        {
          "output_type": "stream",
          "text": [
            "10\n"
          ],
          "name": "stdout"
        }
      ]
    },
    {
      "cell_type": "markdown",
      "metadata": {
        "id": "mRYTY1bz7GzM",
        "colab_type": "text"
      },
      "source": [
        "2.5.5"
      ]
    },
    {
      "cell_type": "code",
      "metadata": {
        "id": "UVp1YRzF7Unh",
        "colab_type": "code",
        "outputId": "d34a24c9-08ca-4bb0-ebbb-eedfa410421b",
        "colab": {
          "base_uri": "https://localhost:8080/",
          "height": 34
        }
      },
      "source": [
        "def gree(name,age,birth,animal):\n",
        "  et=''\n",
        "  if animal=='nezumi':\n",
        "    et='ne'\n",
        "  elif animal=='usagi':\n",
        "    et='u'\n",
        "  elif animal=='dragon':\n",
        "    et='tatsu'\n",
        "  elif animal=='hebi':\n",
        "    et='mi'\n",
        "  elif animal=='inoshishi':\n",
        "    et='i'\n",
        "  else:\n",
        "    et=animal\n",
        "  prnt='Hello'+name+'('+str(age)+ '),'\n",
        "  prnt+=birth+' 生まれ. 干支は '+et\n",
        "  return prnt\n",
        "\n",
        "g=gree('yamamoto',30,'10/22','inu')\n",
        "print(g)"
      ],
      "execution_count": 0,
      "outputs": [
        {
          "output_type": "stream",
          "text": [
            "Helloyamamoto(30),10/22 生まれ. 干支は inu\n"
          ],
          "name": "stdout"
        }
      ]
    },
    {
      "cell_type": "markdown",
      "metadata": {
        "id": "xVYw0_cJ9oE3",
        "colab_type": "text"
      },
      "source": [
        "2.5.6"
      ]
    },
    {
      "cell_type": "code",
      "metadata": {
        "id": "GP_o1WEC97WY",
        "colab_type": "code",
        "outputId": "db40b01c-048a-41df-8edf-4fb8e1847fa9",
        "colab": {
          "base_uri": "https://localhost:8080/",
          "height": 34
        }
      },
      "source": [
        "g=gree(name=' yamamoto ',age=30,birth='10/22',animal='inu')\n",
        "print(g)"
      ],
      "execution_count": 0,
      "outputs": [
        {
          "output_type": "stream",
          "text": [
            "Hello yamamoto (30),10/22 生まれ. 干支は inu\n"
          ],
          "name": "stdout"
        }
      ]
    },
    {
      "cell_type": "markdown",
      "metadata": {
        "id": "mX_CZcXK-Vpz",
        "colab_type": "text"
      },
      "source": [
        "\n",
        "Memo  \n",
        "引数名＝値という形式で値を渡すことができる  \n",
        "→引数の順番を気にする必要が無くなる"
      ]
    },
    {
      "cell_type": "markdown",
      "metadata": {
        "id": "El_e5H2b_D0y",
        "colab_type": "text"
      },
      "source": [
        "2.5.7"
      ]
    },
    {
      "cell_type": "code",
      "metadata": {
        "id": "i-BFwzlu_L_5",
        "colab_type": "code",
        "outputId": "a56a1f42-3a6b-49b7-a845-74a523a0ca24",
        "colab": {
          "base_uri": "https://localhost:8080/",
          "height": 34
        }
      },
      "source": [
        "def test_func(arr):\n",
        "  p5=0\n",
        "  for a in arr:\n",
        "    if a>5:\n",
        "      p5=a\n",
        "      break\n",
        "  return p5\n",
        "\n",
        "array=[1,2,6,10]\n",
        "b=test_func(array)\n",
        "print(b)"
      ],
      "execution_count": 0,
      "outputs": [
        {
          "output_type": "stream",
          "text": [
            "6\n"
          ],
          "name": "stdout"
        }
      ]
    },
    {
      "cell_type": "markdown",
      "metadata": {
        "id": "D0gQaJRNEGiB",
        "colab_type": "text"
      },
      "source": [
        "2.5.8"
      ]
    },
    {
      "cell_type": "code",
      "metadata": {
        "id": "y5jAnWYYFlRz",
        "colab_type": "code",
        "colab": {}
      },
      "source": [
        "def test_func(arr):\n",
        "  p5=0\n",
        "  for a in arr:\n",
        "    if a >5:\n",
        "      p5=a\n",
        "      break\n",
        "  return p5\n",
        "\n",
        "array=[1,2,6,10]\n",
        "b=test_func(array)\n",
        "print(p5) #エラーとなる"
      ],
      "execution_count": 0,
      "outputs": []
    },
    {
      "cell_type": "markdown",
      "metadata": {
        "id": "fR_hiBEC__5S",
        "colab_type": "text"
      },
      "source": [
        "Memo  \n",
        "スコープ\n",
        ">変数が通用する範囲  \n",
        ">ローカルスコープの中に存在する変数をローカル変数という  \n",
        ">一番外側(すべての関数の外)にあるスコープをグローバルスコープという  \n",
        ">→ここで定義された変数はグローバル変数という  \n",
        ">グローバルスコープはプログラム内で一つだけ存在する  \n",
        ">グローバルスコープからはローカル変数を参照することはできない  \n",
        ">ローカル変数からはグローバル変数を参照できる  \n"
      ]
    },
    {
      "cell_type": "markdown",
      "metadata": {
        "id": "JiShvaWHBLc9",
        "colab_type": "text"
      },
      "source": [
        "2.5.9"
      ]
    },
    {
      "cell_type": "code",
      "metadata": {
        "id": "kGc8w4ebDREz",
        "colab_type": "code",
        "outputId": "c5327d13-2169-4ee2-feea-9514326922e7",
        "colab": {
          "base_uri": "https://localhost:8080/",
          "height": 34
        }
      },
      "source": [
        "array=[1,2,6,10]\n",
        "def test_func2():\n",
        "  p5=0\n",
        "  for a in array:\n",
        "    if a > 5:\n",
        "      p5 = a\n",
        "      break\n",
        "  return p5\n",
        "\n",
        "b=test_func2()\n",
        "print(b)"
      ],
      "execution_count": 0,
      "outputs": [
        {
          "output_type": "stream",
          "text": [
            "6\n"
          ],
          "name": "stdout"
        }
      ]
    },
    {
      "cell_type": "markdown",
      "metadata": {
        "id": "PkSWpUeNHNDG",
        "colab_type": "text"
      },
      "source": [
        "2.5.10"
      ]
    },
    {
      "cell_type": "code",
      "metadata": {
        "id": "6WJMBhecHRoB",
        "colab_type": "code",
        "outputId": "be5b6d81-cd0e-4647-a63b-9aeb3ebce9d6",
        "colab": {
          "base_uri": "https://localhost:8080/",
          "height": 68
        }
      },
      "source": [
        "for i in range(5):\n",
        "  x=i\n",
        "  s=\"foo\"\n",
        "\n",
        "print(x)\n",
        "print(s)\n",
        "print(i)"
      ],
      "execution_count": 0,
      "outputs": [
        {
          "output_type": "stream",
          "text": [
            "4\n",
            "foo\n",
            "4\n"
          ],
          "name": "stdout"
        }
      ]
    },
    {
      "cell_type": "markdown",
      "metadata": {
        "id": "ZjLVZHfDHfQz",
        "colab_type": "text"
      },
      "source": [
        "Memo  \n",
        ">for文やif文はスコープを作らない"
      ]
    },
    {
      "cell_type": "markdown",
      "metadata": {
        "id": "v5oNR77AHsom",
        "colab_type": "text"
      },
      "source": [
        "2.5.11"
      ]
    },
    {
      "cell_type": "code",
      "metadata": {
        "id": "KqBamWQQHwry",
        "colab_type": "code",
        "colab": {}
      },
      "source": [
        "array=[p**2 for p in range(10)]\n",
        "print(array)\n",
        "print(p)"
      ],
      "execution_count": 0,
      "outputs": []
    },
    {
      "cell_type": "markdown",
      "metadata": {
        "id": "41iy1JUwH-0y",
        "colab_type": "text"
      },
      "source": [
        "Memo  \n",
        ">内包表記はスコープを作る"
      ]
    },
    {
      "cell_type": "markdown",
      "metadata": {
        "id": "PlooMjFMITes",
        "colab_type": "text"
      },
      "source": [
        "2.5.12"
      ]
    },
    {
      "cell_type": "code",
      "metadata": {
        "id": "dhjeoD7eJV4G",
        "colab_type": "code",
        "outputId": "9bf3a9a3-6687-494f-dace-13b0183e0601",
        "colab": {
          "base_uri": "https://localhost:8080/",
          "height": 51
        }
      },
      "source": [
        "animals=['Rabbit','Mouse','Puppy','Caterpillar','Cat']\n",
        "r=animals.pop()\n",
        "print(r)\n",
        "print(animals)"
      ],
      "execution_count": 0,
      "outputs": [
        {
          "output_type": "stream",
          "text": [
            "Cat\n",
            "['Rabbit', 'Mouse', 'Puppy', 'Caterpillar']\n"
          ],
          "name": "stdout"
        }
      ]
    },
    {
      "cell_type": "markdown",
      "metadata": {
        "id": "VS8G3_53Jyqs",
        "colab_type": "text"
      },
      "source": [
        "Memo  \n",
        ">クラスは型のこと、メソッドは型を持った変数に紐付けられた関数のこと  \n",
        ">pop()メソッド：リストから最後の変数を取り出す  \n",
        ">※pop(x)の場合はリストのインデックスxを取り出す"
      ]
    },
    {
      "cell_type": "markdown",
      "metadata": {
        "id": "QAT74GQ-LJxz",
        "colab_type": "text"
      },
      "source": [
        "2.5.13"
      ]
    },
    {
      "cell_type": "code",
      "metadata": {
        "id": "dUNwD5ekLR3h",
        "colab_type": "code",
        "outputId": "f1ce3332-009c-44ac-9cb0-3fe43d12b8cc",
        "colab": {
          "base_uri": "https://localhost:8080/",
          "height": 51
        }
      },
      "source": [
        "class Cube:\n",
        "  def __init__(self,length,width,height):\n",
        "    self.length=length\n",
        "    self.width=width\n",
        "    self.height=height\n",
        "\n",
        "  def area(self):\n",
        "    area1=2*(self.length*self.height)\n",
        "    area2=2*(self.length*self.width)\n",
        "    area3=2*(self.height*self.width)\n",
        "    area=area1+area2+area3\n",
        "    return area\n",
        "  \n",
        "  def volume(self):\n",
        "    vol=self.length*self.height*self.width\n",
        "    return vol\n",
        "  \n",
        "c=Cube(10,20,30)\n",
        "print(\"表面積 = \", c.area())\n",
        "print(\"体積   = \", c.volume())"
      ],
      "execution_count": 0,
      "outputs": [
        {
          "output_type": "stream",
          "text": [
            "表面積 =  2200\n",
            "体積   =  6000\n"
          ],
          "name": "stdout"
        }
      ]
    },
    {
      "cell_type": "markdown",
      "metadata": {
        "id": "KR1s14uWNJ0M",
        "colab_type": "text"
      },
      "source": [
        "Memo  \n",
        "\\_\\_init__：クラスを宣言した際に自動的に実行される特別なメソッド(コンストラクタ)  \n",
        "※\\_\\_init__は\\__(2つ)でinitを挟む  \n",
        "メソッドの最初の引数には自分自身(self)を置くことになっている  \n",
        "※クラスの１文字目は大文字"
      ]
    },
    {
      "cell_type": "markdown",
      "metadata": {
        "id": "GddF6be7Qg3-",
        "colab_type": "text"
      },
      "source": [
        "###2.6 ライブラリの利用"
      ]
    },
    {
      "cell_type": "markdown",
      "metadata": {
        "id": "TglDN9WoR6mA",
        "colab_type": "text"
      },
      "source": [
        "2.6.1"
      ]
    },
    {
      "cell_type": "code",
      "metadata": {
        "id": "mO_CRn69seP6",
        "colab_type": "code",
        "outputId": "ea832fe2-aeca-434a-f66c-25da1b232328",
        "colab": {
          "base_uri": "https://localhost:8080/",
          "height": 85
        }
      },
      "source": [
        "import math\n",
        "\n",
        "print(type(math))\n",
        "print(math)\n",
        "print(math.pi)\n",
        "print(math.cos(0))"
      ],
      "execution_count": 0,
      "outputs": [
        {
          "output_type": "stream",
          "text": [
            "<class 'module'>\n",
            "<module 'math' (built-in)>\n",
            "3.141592653589793\n",
            "1.0\n"
          ],
          "name": "stdout"
        }
      ]
    },
    {
      "cell_type": "markdown",
      "metadata": {
        "id": "FlGtZ45IwA-J",
        "colab_type": "text"
      },
      "source": [
        "2.6.2"
      ]
    },
    {
      "cell_type": "code",
      "metadata": {
        "id": "9tZoUC4hxEYE",
        "colab_type": "code",
        "outputId": "c5db66de-cef3-48c4-c62c-308b02dc7465",
        "colab": {
          "base_uri": "https://localhost:8080/",
          "height": 34
        }
      },
      "source": [
        "import numpy as np\n",
        "npa=np.array([1,2,3])\n",
        "print(npa)"
      ],
      "execution_count": 0,
      "outputs": [
        {
          "output_type": "stream",
          "text": [
            "[1 2 3]\n"
          ],
          "name": "stdout"
        }
      ]
    },
    {
      "cell_type": "markdown",
      "metadata": {
        "id": "6esyRwHXxSZ7",
        "colab_type": "text"
      },
      "source": [
        "Memo  \n",
        "パッケージを別名で使用することができる"
      ]
    },
    {
      "cell_type": "markdown",
      "metadata": {
        "id": "jBRltzbfx2AH",
        "colab_type": "text"
      },
      "source": [
        "2.6.3\n"
      ]
    },
    {
      "cell_type": "code",
      "metadata": {
        "id": "go72c2C4x5wB",
        "colab_type": "code",
        "outputId": "82ee4a4c-3a84-468e-d9d9-20ebd8357645",
        "colab": {
          "base_uri": "https://localhost:8080/",
          "height": 34
        }
      },
      "source": [
        "from math import cos\n",
        "print(cos(0))"
      ],
      "execution_count": 0,
      "outputs": [
        {
          "output_type": "stream",
          "text": [
            "1.0\n"
          ],
          "name": "stdout"
        }
      ]
    },
    {
      "cell_type": "markdown",
      "metadata": {
        "id": "yx_jswgzyEMb",
        "colab_type": "text"
      },
      "source": [
        "Memo  \n",
        ">from パッケージ名 import モジュール名  \n",
        ">from モジュール名 import 関数名  \n",
        "などとして必要なものだけ使えるようにすることができる"
      ]
    },
    {
      "cell_type": "markdown",
      "metadata": {
        "id": "BiYtOwwnyp7r",
        "colab_type": "text"
      },
      "source": [
        "2.6.4"
      ]
    },
    {
      "cell_type": "code",
      "metadata": {
        "id": "zKd8_0_3ys9U",
        "colab_type": "code",
        "colab": {}
      },
      "source": [
        "import math\n",
        "help(math)"
      ],
      "execution_count": 0,
      "outputs": []
    },
    {
      "cell_type": "markdown",
      "metadata": {
        "id": "2C_bWI39dAnm",
        "colab_type": "text"
      },
      "source": [
        "Memo  \n",
        "help()関数：モジュールの使い方を確認する"
      ]
    },
    {
      "cell_type": "markdown",
      "metadata": {
        "id": "GQCiuvGSdcEZ",
        "colab_type": "text"
      },
      "source": [
        "2.6.5"
      ]
    },
    {
      "cell_type": "code",
      "metadata": {
        "id": "3r_5d1Awdd6x",
        "colab_type": "code",
        "outputId": "b72ff7b1-186c-4722-ec6b-785c66efa054",
        "colab": {
          "base_uri": "https://localhost:8080/",
          "height": 51
        }
      },
      "source": [
        "import os\n",
        "print(os.getcwd())\n",
        "print(os.listdir())\n",
        "os.chdir(\"sample_data\")\n",
        "os.mkdir(\"example\")"
      ],
      "execution_count": 0,
      "outputs": [
        {
          "output_type": "stream",
          "text": [
            "/content\n",
            "['.config', 'sample_data']\n"
          ],
          "name": "stdout"
        }
      ]
    },
    {
      "cell_type": "markdown",
      "metadata": {
        "id": "jwnw92lHd_ua",
        "colab_type": "text"
      },
      "source": [
        "Memo  \n",
        "osモジュール：ファイルのディレクトリの操作をpythonプログラムを通じて行うことができる"
      ]
    },
    {
      "cell_type": "markdown",
      "metadata": {
        "id": "cmqWO2z9e2KN",
        "colab_type": "text"
      },
      "source": [
        "2.6.6"
      ]
    },
    {
      "cell_type": "code",
      "metadata": {
        "id": "phF4Rp8QfJ5G",
        "colab_type": "code",
        "outputId": "a8f84410-e4bc-4ea6-c5cf-0a6583fe3a8d",
        "colab": {
          "base_uri": "https://localhost:8080/",
          "height": 221
        }
      },
      "source": [
        "import datetime\n",
        "now=datetime.datetime.now()\n",
        "print(now)\n",
        "print(type(now))\n",
        "print(now.year)\n",
        "print(now.month)\n",
        "print(now.day)\n",
        "print(now.hour)\n",
        "print(now.minute)\n",
        "print(now.second)\n",
        "print(now.date())\n",
        "print(type(now.date()))\n",
        "print(now.time())\n",
        "print(type(now.time()))"
      ],
      "execution_count": 0,
      "outputs": [
        {
          "output_type": "stream",
          "text": [
            "2020-05-10 12:13:06.425653\n",
            "<class 'datetime.datetime'>\n",
            "2020\n",
            "5\n",
            "10\n",
            "12\n",
            "13\n",
            "6\n",
            "2020-05-10\n",
            "<class 'datetime.date'>\n",
            "12:13:06.425653\n",
            "<class 'datetime.time'>\n"
          ],
          "name": "stdout"
        }
      ]
    },
    {
      "cell_type": "markdown",
      "metadata": {
        "id": "LZYAAC77gMk5",
        "colab_type": "text"
      },
      "source": [
        "Memo  \n",
        "datetimeモジュール：pythonで日付や時刻を扱う際に用いる  \n",
        ">date()メソッド：日付情報のみ  \n",
        ">time()メソッド：時刻情報のみ"
      ]
    },
    {
      "cell_type": "markdown",
      "metadata": {
        "id": "Lg0rZG4wgjz1",
        "colab_type": "text"
      },
      "source": [
        "2.6.7"
      ]
    },
    {
      "cell_type": "code",
      "metadata": {
        "id": "deOz1no3glvf",
        "colab_type": "code",
        "outputId": "033f5771-79f6-4534-9e89-92519a190a46",
        "colab": {
          "base_uri": "https://localhost:8080/",
          "height": 102
        }
      },
      "source": [
        "import datetime\n",
        "today=datetime.date.today()\n",
        "print(today)\n",
        "print(type(today))\n",
        "print(today.year)\n",
        "print(today.month)\n",
        "print(today.day)"
      ],
      "execution_count": 0,
      "outputs": [
        {
          "output_type": "stream",
          "text": [
            "2020-05-10\n",
            "<class 'datetime.date'>\n",
            "2020\n",
            "5\n",
            "10\n"
          ],
          "name": "stdout"
        }
      ]
    },
    {
      "cell_type": "markdown",
      "metadata": {
        "id": "-6QEclf3hCkr",
        "colab_type": "text"
      },
      "source": [
        "Memo  \n",
        ">today()関数：本日の日付"
      ]
    },
    {
      "cell_type": "markdown",
      "metadata": {
        "id": "Vg_oO309htkQ",
        "colab_type": "text"
      },
      "source": [
        "2.6.8"
      ]
    },
    {
      "cell_type": "code",
      "metadata": {
        "id": "Th5I_sTuhwCg",
        "colab_type": "code",
        "outputId": "f8547726-90b6-4784-e5fc-ba6e8e175c3d",
        "colab": {
          "base_uri": "https://localhost:8080/",
          "height": 51
        }
      },
      "source": [
        "import datetime\n",
        "dtt=datetime.time(hour=16,minute=59,second=30)\n",
        "print(dtt)\n",
        "print(type(dtt))"
      ],
      "execution_count": 0,
      "outputs": [
        {
          "output_type": "stream",
          "text": [
            "16:59:30\n",
            "<class 'datetime.time'>\n"
          ],
          "name": "stdout"
        }
      ]
    },
    {
      "cell_type": "markdown",
      "metadata": {
        "id": "nIliuvL0iEvG",
        "colab_type": "text"
      },
      "source": [
        "2.6.9"
      ]
    },
    {
      "cell_type": "code",
      "metadata": {
        "id": "h9Z4_3_4iLAk",
        "colab_type": "code",
        "outputId": "eb5e36f7-8063-467e-e47a-4c5c9c3c4ca0",
        "colab": {
          "base_uri": "https://localhost:8080/",
          "height": 85
        }
      },
      "source": [
        "import datetime\n",
        "now=datetime.datetime.now()\n",
        "dtdt=datetime.datetime(year=2019,month=11,day=16)\n",
        "tdelta=now-dtdt\n",
        "print(tdelta)\n",
        "print(type(tdelta))\n",
        "print(tdelta.days)\n",
        "print(tdelta.total_seconds())\n"
      ],
      "execution_count": 0,
      "outputs": [
        {
          "output_type": "stream",
          "text": [
            "176 days, 12:26:02.168584\n",
            "<class 'datetime.timedelta'>\n",
            "176\n",
            "15251162.168584\n"
          ],
          "name": "stdout"
        }
      ]
    },
    {
      "cell_type": "markdown",
      "metadata": {
        "id": "Q7HDN02yjJ--",
        "colab_type": "text"
      },
      "source": [
        "Memo  \n",
        ">timedelta:時間計測の際に使用する"
      ]
    },
    {
      "cell_type": "markdown",
      "metadata": {
        "id": "enFLP_nLj67W",
        "colab_type": "text"
      },
      "source": [
        "2.6.10"
      ]
    },
    {
      "cell_type": "code",
      "metadata": {
        "id": "qyoQVPR9j85Z",
        "colab_type": "code",
        "outputId": "38d98e5d-4175-459c-fe03-7918e78cf9c9",
        "colab": {
          "base_uri": "https://localhost:8080/",
          "height": 34
        }
      },
      "source": [
        "import datetime \n",
        "from pytz import timezone\n",
        "now=datetime.datetime.now(timezone(\"Asia/Tokyo\"))\n",
        "fmt=now.strftime('%Y-%m-%d (%a) %H:%M:%S')\n",
        "print(fmt)"
      ],
      "execution_count": 0,
      "outputs": [
        {
          "output_type": "stream",
          "text": [
            "2020-05-10 (Sun) 21:40:07\n"
          ],
          "name": "stdout"
        }
      ]
    },
    {
      "cell_type": "markdown",
      "metadata": {
        "id": "YkyH0lMWkfcc",
        "colab_type": "text"
      },
      "source": [
        "Memo  \n",
        ">strftime()メソッド：様々なフォーマットの文字列に変換できる"
      ]
    },
    {
      "cell_type": "markdown",
      "metadata": {
        "id": "a0ZM3d74lJzZ",
        "colab_type": "text"
      },
      "source": [
        "2.6.11"
      ]
    },
    {
      "cell_type": "code",
      "metadata": {
        "id": "tFM5bnq4lLo4",
        "colab_type": "code",
        "outputId": "96790255-cb20-420f-8dd5-8ef9acd931f0",
        "colab": {
          "base_uri": "https://localhost:8080/",
          "height": 51
        }
      },
      "source": [
        "import datetime\n",
        "s='2020-1-14 17:40'\n",
        "dtst=datetime.datetime.strptime(s,'%Y-%m-%d %H:%M')\n",
        "print(dtst)\n",
        "print(type(dtst))"
      ],
      "execution_count": 0,
      "outputs": [
        {
          "output_type": "stream",
          "text": [
            "2020-01-14 17:40:00\n",
            "<class 'datetime.datetime'>\n"
          ],
          "name": "stdout"
        }
      ]
    },
    {
      "cell_type": "markdown",
      "metadata": {
        "id": "uYlq8npqlr7L",
        "colab_type": "text"
      },
      "source": [
        "Memo  \n",
        ">strptime()メソッド：文字列\"s\"とその文字列の書式コードを使用"
      ]
    },
    {
      "cell_type": "code",
      "metadata": {
        "id": "SruTPhh0m8m6",
        "colab_type": "code",
        "colab": {}
      },
      "source": [
        "import numpy as np"
      ],
      "execution_count": 0,
      "outputs": []
    },
    {
      "cell_type": "markdown",
      "metadata": {
        "id": "Ta1xnZXtyeKg",
        "colab_type": "text"
      },
      "source": [
        "Memo  \n",
        "as～という形でパッケージをimportすることで別名でアクセスできる"
      ]
    },
    {
      "cell_type": "markdown",
      "metadata": {
        "id": "Uuav3oskm5LF",
        "colab_type": "text"
      },
      "source": [
        "2.6.12"
      ]
    },
    {
      "cell_type": "code",
      "metadata": {
        "id": "TGFYANDczAVk",
        "colab_type": "code",
        "outputId": "8c507378-c5ff-4d3e-9229-c887d714c463",
        "colab": {
          "base_uri": "https://localhost:8080/",
          "height": 119
        }
      },
      "source": [
        "import numpy as np\n",
        "\n",
        "lst=[1,3,5,9]\n",
        "nlist=np.array(lst)\n",
        "\n",
        "print(type(lst))\n",
        "print(type(nlist))\n",
        "print(lst)\n",
        "print(nlist)\n",
        "\n",
        "lst0=nlist.tolist()\n",
        "print(type(lst0))\n",
        "print(lst0)"
      ],
      "execution_count": 0,
      "outputs": [
        {
          "output_type": "stream",
          "text": [
            "<class 'list'>\n",
            "<class 'numpy.ndarray'>\n",
            "[1, 3, 5, 9]\n",
            "[1 3 5 9]\n",
            "<class 'list'>\n",
            "[1, 3, 5, 9]\n"
          ],
          "name": "stdout"
        }
      ]
    },
    {
      "cell_type": "markdown",
      "metadata": {
        "id": "K3GshoOs0GrZ",
        "colab_type": "text"
      },
      "source": [
        "Memo  \n",
        "Numpy配列はnp.array()関数を用いてリストから作ることができる"
      ]
    },
    {
      "cell_type": "markdown",
      "metadata": {
        "id": "MSS24MYf0uDG",
        "colab_type": "text"
      },
      "source": [
        "2.6.13"
      ]
    },
    {
      "cell_type": "code",
      "metadata": {
        "id": "WCFVU6g_0wn9",
        "colab_type": "code",
        "outputId": "13a8c23e-cb04-4779-d7e7-21d018e1aecc",
        "colab": {
          "base_uri": "https://localhost:8080/",
          "height": 153
        }
      },
      "source": [
        "import numpy as np\n",
        "\n",
        "a=np.array([[1,2],[3,4],[5,6],[7,8]])\n",
        "print(a)\n",
        "print(a.dtype)\n",
        "print(a.shape)\n",
        "print(a.ndim)\n",
        "print(a.size)"
      ],
      "execution_count": 0,
      "outputs": [
        {
          "output_type": "stream",
          "text": [
            "[[1 2]\n",
            " [3 4]\n",
            " [5 6]\n",
            " [7 8]]\n",
            "int64\n",
            "(4, 2)\n",
            "2\n",
            "8\n"
          ],
          "name": "stdout"
        }
      ]
    },
    {
      "cell_type": "markdown",
      "metadata": {
        "id": "X_Np_9Y01M8m",
        "colab_type": "text"
      },
      "source": [
        "Memo  \n",
        ">dtypeプロパティ：行列要素の型を示す  \n",
        ">shapeプロパティ：(行列、列数)のタプルが返ってくる  \n",
        ">ndimプロパティ：階数(次元数)を返す  \n",
        ">sizeプロパティ：要素数を返す"
      ]
    },
    {
      "cell_type": "markdown",
      "metadata": {
        "id": "7JIubwor2Gzy",
        "colab_type": "text"
      },
      "source": [
        "2.6.14"
      ]
    },
    {
      "cell_type": "code",
      "metadata": {
        "id": "rvj6kz6E2KKs",
        "colab_type": "code",
        "outputId": "e8680c91-17f4-46b3-be9a-9ff0556594ba",
        "colab": {
          "base_uri": "https://localhost:8080/",
          "height": 85
        }
      },
      "source": [
        "import numpy as np\n",
        "\n",
        "list0=np.zeros(4)\n",
        "print(list0)\n",
        "\n",
        "list1=np.ones(5)\n",
        "print(list1)\n",
        "\n",
        "list2=np.arange(4)\n",
        "print(list2)\n",
        "\n",
        "list3=np.full(4,100)\n",
        "# list3=np.full(shape=4,fill_value=100)\n",
        "print(list3)"
      ],
      "execution_count": 0,
      "outputs": [
        {
          "output_type": "stream",
          "text": [
            "[0. 0. 0. 0.]\n",
            "[1. 1. 1. 1. 1.]\n",
            "[0 1 2 3]\n",
            "[100 100 100 100]\n"
          ],
          "name": "stdout"
        }
      ]
    },
    {
      "cell_type": "markdown",
      "metadata": {
        "id": "2dl7kikV24TV",
        "colab_type": "text"
      },
      "source": [
        "Memo  \n",
        ">np.zeros():初期値要素をすべて0にする  \n",
        ">np.ones():初期値要素をすべて1にする  \n",
        ">np.full():初期値要素を任意の値にする"
      ]
    },
    {
      "cell_type": "markdown",
      "metadata": {
        "id": "MJXcmN7X3swH",
        "colab_type": "text"
      },
      "source": [
        "2.6.15"
      ]
    },
    {
      "cell_type": "code",
      "metadata": {
        "id": "n_SDkqBf3vYG",
        "colab_type": "code",
        "outputId": "d8462183-dc31-47cc-9890-a093975d6bd5",
        "colab": {
          "base_uri": "https://localhost:8080/",
          "height": 51
        }
      },
      "source": [
        "import numpy as np\n",
        "list0=np.zeros(8)\n",
        "matrixs0=list0.reshape(2,4)\n",
        "print(matrixs0)"
      ],
      "execution_count": 0,
      "outputs": [
        {
          "output_type": "stream",
          "text": [
            "[[0. 0. 0. 0.]\n",
            " [0. 0. 0. 0.]]\n"
          ],
          "name": "stdout"
        }
      ]
    },
    {
      "cell_type": "markdown",
      "metadata": {
        "id": "LnyPd27k4ETA",
        "colab_type": "text"
      },
      "source": [
        "Memo  \n",
        "reshape()メソッド：行列の初期化を行う"
      ]
    },
    {
      "cell_type": "markdown",
      "metadata": {
        "id": "oJ6Lcm664YYk",
        "colab_type": "text"
      },
      "source": [
        "2.6.16"
      ]
    },
    {
      "cell_type": "code",
      "metadata": {
        "id": "8AY2loWI4bJZ",
        "colab_type": "code",
        "outputId": "270ee2df-d9ae-40d3-ed28-457a67c60cf8",
        "colab": {
          "base_uri": "https://localhost:8080/",
          "height": 51
        }
      },
      "source": [
        "import numpy as np\n",
        "a=np.array([[1,2,3],[4,5,6]])\n",
        "print(a[1][0])  #要素数へのアクセス\n",
        "print(a[1,0])   #スライス時のアクセス"
      ],
      "execution_count": 0,
      "outputs": [
        {
          "output_type": "stream",
          "text": [
            "4\n",
            "4\n"
          ],
          "name": "stdout"
        }
      ]
    },
    {
      "cell_type": "markdown",
      "metadata": {
        "id": "4fXk84xO4sa9",
        "colab_type": "text"
      },
      "source": [
        "2.6.17"
      ]
    },
    {
      "cell_type": "code",
      "metadata": {
        "id": "XF_xXTvx45wJ",
        "colab_type": "code",
        "outputId": "97b6743c-1dd3-4f84-d3a3-151a05c9a6a5",
        "colab": {
          "base_uri": "https://localhost:8080/",
          "height": 119
        }
      },
      "source": [
        "import numpy as np\n",
        "lst=np.arange(51)\n",
        "\n",
        "print(lst)\n",
        "print(lst[-1]) \n",
        "print(lst[2:6])\n",
        "print(lst[40:])"
      ],
      "execution_count": 0,
      "outputs": [
        {
          "output_type": "stream",
          "text": [
            "[ 0  1  2  3  4  5  6  7  8  9 10 11 12 13 14 15 16 17 18 19 20 21 22 23\n",
            " 24 25 26 27 28 29 30 31 32 33 34 35 36 37 38 39 40 41 42 43 44 45 46 47\n",
            " 48 49 50]\n",
            "50\n",
            "[2 3 4 5]\n",
            "[40 41 42 43 44 45 46 47 48 49 50]\n"
          ],
          "name": "stdout"
        }
      ]
    },
    {
      "cell_type": "markdown",
      "metadata": {
        "id": "gfVWyKsg5R8X",
        "colab_type": "text"
      },
      "source": [
        "2.6.18"
      ]
    },
    {
      "cell_type": "code",
      "metadata": {
        "id": "EaC3ct-s5v2r",
        "colab_type": "code",
        "outputId": "ae066c99-122e-45f5-80c9-1378d1c845b2",
        "colab": {
          "base_uri": "https://localhost:8080/",
          "height": 85
        }
      },
      "source": [
        "import numpy as np\n",
        "lst=np.arange(15)\n",
        "print(lst)\n",
        "dv=lst[2:6]\n",
        "print(dv)\n",
        "dv[1]=100\n",
        "print(dv)\n",
        "print(lst)"
      ],
      "execution_count": 0,
      "outputs": [
        {
          "output_type": "stream",
          "text": [
            "[ 0  1  2  3  4  5  6  7  8  9 10 11 12 13 14]\n",
            "[2 3 4 5]\n",
            "[  2 100   4   5]\n",
            "[  0   1   2 100   4   5   6   7   8   9  10  11  12  13  14]\n"
          ],
          "name": "stdout"
        }
      ]
    },
    {
      "cell_type": "markdown",
      "metadata": {
        "id": "Y1lZlOU36Gun",
        "colab_type": "text"
      },
      "source": [
        "Memo  \n",
        "Numpy配列では、スライスによって配列はコピーされない  \n",
        "→スライス上での値変更は元のNumpy配列にも反映される"
      ]
    },
    {
      "cell_type": "markdown",
      "metadata": {
        "id": "HW3MNnpf6sud",
        "colab_type": "text"
      },
      "source": [
        "2.6.19"
      ]
    },
    {
      "cell_type": "code",
      "metadata": {
        "id": "bYWZMsLh6viY",
        "colab_type": "code",
        "outputId": "78691bf2-d9cc-4319-ae14-f16611d63b53",
        "colab": {
          "base_uri": "https://localhost:8080/",
          "height": 85
        }
      },
      "source": [
        "import numpy as np\n",
        "lst=np.arange(15)\n",
        "print(lst)\n",
        "dv=lst[2:6].copy()  #変更部分\n",
        "print(dv)\n",
        "dv[1]=100\n",
        "print(dv)\n",
        "print(lst)"
      ],
      "execution_count": 0,
      "outputs": [
        {
          "output_type": "stream",
          "text": [
            "[ 0  1  2  3  4  5  6  7  8  9 10 11 12 13 14]\n",
            "[2 3 4 5]\n",
            "[  2 100   4   5]\n",
            "[ 0  1  2  3  4  5  6  7  8  9 10 11 12 13 14]\n"
          ],
          "name": "stdout"
        }
      ]
    },
    {
      "cell_type": "markdown",
      "metadata": {
        "id": "cwRaeLAv7MMr",
        "colab_type": "text"
      },
      "source": [
        "Memo  \n",
        "copy()メソッド：Numpy配列がコピーされる"
      ]
    },
    {
      "cell_type": "markdown",
      "metadata": {
        "id": "zWzkh6bZ7bI7",
        "colab_type": "text"
      },
      "source": [
        "2.6.20"
      ]
    },
    {
      "cell_type": "code",
      "metadata": {
        "id": "_e2NDUd67e8J",
        "colab_type": "code",
        "outputId": "940c0109-fed0-4d81-d6a5-e87b40e4758b",
        "colab": {
          "base_uri": "https://localhost:8080/",
          "height": 289
        }
      },
      "source": [
        "import numpy as np\n",
        "a=np.array([[[1,2,3,4],[4,5,6,7],[3,4,5,6]],\\\n",
        "            [[7,8,9,10],[10,11,12,13],[4,5,6,7]]])\n",
        "print(a>6)\n",
        "b=a[a>6]\n",
        "b[0]=1000\n",
        "print(b)\n",
        "print(b.shape)\n",
        "print(a)"
      ],
      "execution_count": 0,
      "outputs": [
        {
          "output_type": "stream",
          "text": [
            "[[[False False False False]\n",
            "  [False False False  True]\n",
            "  [False False False False]]\n",
            "\n",
            " [[ True  True  True  True]\n",
            "  [ True  True  True  True]\n",
            "  [False False False  True]]]\n",
            "[1000    7    8    9   10   10   11   12   13    7]\n",
            "(10,)\n",
            "[[[ 1  2  3  4]\n",
            "  [ 4  5  6  7]\n",
            "  [ 3  4  5  6]]\n",
            "\n",
            " [[ 7  8  9 10]\n",
            "  [10 11 12 13]\n",
            "  [ 4  5  6  7]]]\n"
          ],
          "name": "stdout"
        }
      ]
    },
    {
      "cell_type": "markdown",
      "metadata": {
        "id": "Hazn2MVQ_RuE",
        "colab_type": "text"
      },
      "source": [
        "Memo  \n",
        "行継続文字：行末におくとその後の改行が無視されて行が継続していると見なされる。  \n",
        "・バックスラッシュ（\\）を使う  \n",
        "・丸括弧を使う"
      ]
    },
    {
      "cell_type": "markdown",
      "metadata": {
        "id": "5EIrEIw9B9OT",
        "colab_type": "text"
      },
      "source": [
        "2.6.21"
      ]
    },
    {
      "cell_type": "code",
      "metadata": {
        "id": "ZwEMJY2GCOe-",
        "colab_type": "code",
        "outputId": "06bf0c52-904f-48c9-b9fb-ee6ad5c5cc7a",
        "colab": {
          "base_uri": "https://localhost:8080/",
          "height": 68
        }
      },
      "source": [
        "import numpy as np\n",
        "\n",
        "av=np.array([1,2,3])\n",
        "bv=np.array([5,-6,-7])\n",
        "#足し算及び引き算\n",
        "cp=av+bv\n",
        "cm=av-bv\n",
        "print(cp)\n",
        "print(cm)\n",
        "#スカラ-積(ブロ-ドキャスト)\n",
        "vx=av*bv\n",
        "print(vx)\n",
        "\n"
      ],
      "execution_count": 0,
      "outputs": [
        {
          "output_type": "stream",
          "text": [
            "[ 6 -4 -4]\n",
            "[-4  8 10]\n",
            "[  5 -12 -21]\n"
          ],
          "name": "stdout"
        }
      ]
    },
    {
      "cell_type": "markdown",
      "metadata": {
        "id": "VZSEamfUDUaJ",
        "colab_type": "text"
      },
      "source": [
        "2.6.22"
      ]
    },
    {
      "cell_type": "code",
      "metadata": {
        "id": "R4c6lkTnEjo3",
        "colab_type": "code",
        "outputId": "019be272-a83f-45e8-c1ea-422f49e26a3e",
        "colab": {
          "base_uri": "https://localhost:8080/",
          "height": 34
        }
      },
      "source": [
        "import numpy as np\n",
        "\n",
        "av=np.array([1,2,3])\n",
        "bv=np.array([5,-6,-7])\n",
        "\n",
        "ip=np.dot(av,bv)\n",
        "print(ip)"
      ],
      "execution_count": 0,
      "outputs": [
        {
          "output_type": "stream",
          "text": [
            "-28\n"
          ],
          "name": "stdout"
        }
      ]
    },
    {
      "cell_type": "markdown",
      "metadata": {
        "id": "RS7zGjWSE1xb",
        "colab_type": "text"
      },
      "source": [
        "Memo  \n",
        "np.dot()関数：内積計算を行う"
      ]
    },
    {
      "cell_type": "markdown",
      "metadata": {
        "id": "K4jDY3TGFaXM",
        "colab_type": "text"
      },
      "source": [
        "2.6.23"
      ]
    },
    {
      "cell_type": "code",
      "metadata": {
        "id": "F-WZMXF0FeXr",
        "colab_type": "code",
        "colab": {
          "base_uri": "https://localhost:8080/",
          "height": 136
        },
        "outputId": "1287298d-6ec4-4e26-b7d1-24b2eaa1c9ce"
      },
      "source": [
        "import numpy as np\n",
        "a=np.array([[1,2,3],[4,5,6],[6,7,8],[9,10,11]])  #４行３列\n",
        "b=np.array([[2,3,4,5],[5,6,7,8],[0,1,2,3]])        #３行４列\n",
        "\n",
        "c=np.dot(a,b)\n",
        "d=np.dot(b,a)\n",
        "print(c)\n",
        "print(d)"
      ],
      "execution_count": 2,
      "outputs": [
        {
          "output_type": "stream",
          "text": [
            "[[ 12  18  24  30]\n",
            " [ 33  48  63  78]\n",
            " [ 47  68  89 110]\n",
            " [ 68  98 128 158]]\n",
            "[[ 83  97 111]\n",
            " [143 169 195]\n",
            " [ 43  49  55]]\n"
          ],
          "name": "stdout"
        }
      ]
    },
    {
      "cell_type": "markdown",
      "metadata": {
        "id": "P-dQ91M7IcaR",
        "colab_type": "text"
      },
      "source": [
        "Memo  \n",
        "行列の積を計算する際にもnp.dot()関数を用いる"
      ]
    },
    {
      "cell_type": "markdown",
      "metadata": {
        "id": "yl6YqT5wI-0B",
        "colab_type": "text"
      },
      "source": [
        "2.6.24"
      ]
    },
    {
      "cell_type": "code",
      "metadata": {
        "id": "U4fboOaYJBv6",
        "colab_type": "code",
        "colab": {
          "base_uri": "https://localhost:8080/",
          "height": 136
        },
        "outputId": "518b4cb7-bd40-43fc-ec6b-be58c98c7242"
      },
      "source": [
        "import numpy as np\n",
        "\n",
        "a=np.array([[1,2,3],[4,5,6],[6,7,8],[9,10,11]])  #４行３列\n",
        "print(a)\n",
        "\n",
        "at=a.T\n",
        "print(at)"
      ],
      "execution_count": 3,
      "outputs": [
        {
          "output_type": "stream",
          "text": [
            "[[ 1  2  3]\n",
            " [ 4  5  6]\n",
            " [ 6  7  8]\n",
            " [ 9 10 11]]\n",
            "[[ 1  4  6  9]\n",
            " [ 2  5  7 10]\n",
            " [ 3  6  8 11]]\n"
          ],
          "name": "stdout"
        }
      ]
    },
    {
      "cell_type": "markdown",
      "metadata": {
        "id": "GSBXLLPsJYlw",
        "colab_type": "text"
      },
      "source": [
        "Memo  \n",
        "行列の転置には.Tを使う"
      ]
    },
    {
      "cell_type": "markdown",
      "metadata": {
        "id": "VXZqn6lbJj9B",
        "colab_type": "text"
      },
      "source": [
        "2.6.25"
      ]
    },
    {
      "cell_type": "code",
      "metadata": {
        "id": "eIQcfaysJnTM",
        "colab_type": "code",
        "colab": {
          "base_uri": "https://localhost:8080/",
          "height": 51
        },
        "outputId": "3ce04e7b-af34-49cb-bfe0-d8b35ebbbbf7"
      },
      "source": [
        "import numpy as np\n",
        "\n",
        "a=np.array([[1,2],[3,4]])  #２行２列\n",
        "b=np.array([-1,-2])\n",
        "\n",
        "c=np.dot(a,b)\n",
        "print(c)\n",
        "\n",
        "d=np.dot(b,a)\n",
        "print(d)"
      ],
      "execution_count": 4,
      "outputs": [
        {
          "output_type": "stream",
          "text": [
            "[ -5 -11]\n",
            "[ -7 -10]\n"
          ],
          "name": "stdout"
        }
      ]
    },
    {
      "cell_type": "markdown",
      "metadata": {
        "id": "bPXsgC2NKOmw",
        "colab_type": "text"
      },
      "source": [
        "2.6.26"
      ]
    },
    {
      "cell_type": "code",
      "metadata": {
        "id": "FKQ7HeRuKXRP",
        "colab_type": "code",
        "colab": {}
      },
      "source": [
        "%matplotlib inline\n",
        "import matplotlib.pyplot as plt"
      ],
      "execution_count": 0,
      "outputs": []
    },
    {
      "cell_type": "markdown",
      "metadata": {
        "id": "nVZkPuOgKlLJ",
        "colab_type": "text"
      },
      "source": [
        "Memo  \n",
        "Matplotlib:データの可視化に用いられ、グラフの描画が簡単に行える"
      ]
    },
    {
      "cell_type": "markdown",
      "metadata": {
        "id": "OPvmR4NwK6ML",
        "colab_type": "text"
      },
      "source": [
        "2.6.27"
      ]
    },
    {
      "cell_type": "code",
      "metadata": {
        "id": "2Usqvu3RK_Vf",
        "colab_type": "code",
        "colab": {
          "base_uri": "https://localhost:8080/",
          "height": 34
        },
        "outputId": "94333fc8-c15a-459f-8298-2161495f54c5"
      },
      "source": [
        "import matplotlib.pyplot as plt\n",
        "fig=plt.figure()\n"
      ],
      "execution_count": 6,
      "outputs": [
        {
          "output_type": "display_data",
          "data": {
            "text/plain": [
              "<Figure size 432x288 with 0 Axes>"
            ]
          },
          "metadata": {
            "tags": []
          }
        }
      ]
    },
    {
      "cell_type": "markdown",
      "metadata": {
        "id": "VPeyD-NfLN80",
        "colab_type": "text"
      },
      "source": [
        "Memo  \n",
        "matplotlibでは、まずfigureオブジェクトを作成する  \n",
        "figureオブジェクトが生成されると何も描かれていないウィンドウが作成される\n"
      ]
    },
    {
      "cell_type": "markdown",
      "metadata": {
        "id": "-FE4cI2rLJ6p",
        "colab_type": "text"
      },
      "source": [
        "2.6.28"
      ]
    },
    {
      "cell_type": "code",
      "metadata": {
        "id": "c2iApuh5Lup1",
        "colab_type": "code",
        "colab": {
          "base_uri": "https://localhost:8080/",
          "height": 269
        },
        "outputId": "c2cfd173-cae5-404a-e91c-1de088ab4ec2"
      },
      "source": [
        "import matplotlib.pyplot as plt\n",
        "fig=plt.figure()\n",
        "ax1=fig.add_subplot(1,1,1)\n",
        "# ax1=fig.add_subplot(111)"
      ],
      "execution_count": 7,
      "outputs": [
        {
          "output_type": "display_data",
          "data": {
            "image/png": "[encoded data removed]",
            "text/plain": [
              "<Figure size 432x288 with 1 Axes>"
            ]
          },
          "metadata": {
            "tags": [],
            "needs_background": "light"
          }
        }
      ]
    },
    {
      "cell_type": "markdown",
      "metadata": {
        "id": "R5NamfXhMHbF",
        "colab_type": "text"
      },
      "source": [
        "Memo  \n",
        "figureオブジェクトの上にグラフを作っていく  \n",
        "グラフは複数作ることができ、add_subplot()メソッドを使ってグラフを書く領域を確保する"
      ]
    },
    {
      "cell_type": "markdown",
      "metadata": {
        "id": "MHxdgc_EMszf",
        "colab_type": "text"
      },
      "source": [
        "2.6.29"
      ]
    },
    {
      "cell_type": "code",
      "metadata": {
        "id": "XX_egnm1MwqR",
        "colab_type": "code",
        "colab": {
          "base_uri": "https://localhost:8080/",
          "height": 295
        },
        "outputId": "4412407e-c77e-4d95-85ab-a812e2614d13"
      },
      "source": [
        "import numpy as np\n",
        "import matplotlib.pyplot as plt\n",
        "#数値データの作成\n",
        "x=np.arange(0,8,0.1)\n",
        "y1=np.cos(x)\n",
        "y2=np.sin(x)\n",
        "#グラフの描画\n",
        "fig=plt.figure()\n",
        "ax1=fig.add_subplot(1,1,1)\n",
        "ax1.plot(x,y1, label='cos')\n",
        "ax1.plot(x,y2, linestyle='dashed',label='sin')\n",
        "ax1.set_xlabel(\"X\")\n",
        "ax1.set_ylabel(\"Y\")\n",
        "ax1.set_xlim(0,10)\n",
        "ax1.set_ylim(-1,1)\n",
        "ax1.set_title(\"test figure\")\n",
        "ax1.legend()\n",
        "fig.show()"
      ],
      "execution_count": 11,
      "outputs": [
        {
          "output_type": "display_data",
          "data": {
            "image/png": "[encoded data removed]",
            "text/plain": [
              "<Figure size 432x288 with 1 Axes>"
            ]
          },
          "metadata": {
            "tags": [],
            "needs_background": "light"
          }
        }
      ]
    },
    {
      "cell_type": "markdown",
      "metadata": {
        "id": "khEZKBbgOanN",
        "colab_type": "text"
      },
      "source": [
        "Memo  \n",
        ">**help(plt.plot())**:plot関数の詳細を調べることができる  \n",
        "'"
      ]
    },
    {
      "cell_type": "code",
      "metadata": {
        "id": "vNlADG4tTU28",
        "colab_type": "code",
        "colab": {
          "base_uri": "https://localhost:8080/",
          "height": 252
        },
        "outputId": "588fc9f3-abea-4dbf-bdd6-dfaa0bda1e31"
      },
      "source": [
        "import matplotlib.pyplot as plt\n",
        "import pandas as pd\n",
        "print(\"表. plot()の引数\")\n",
        "plt_data = [\n",
        "            ['x, y', 'x軸, y軸の値を指定'],\n",
        "            ['linewidth', '線の太さ(pt)'],\n",
        "            ['linestyle', \"'solid', 'dashed', 'dashdot', 'dotted', 'None'を指定できる\"],\n",
        "            ['color', '色指定'],\n",
        "            ['label', 'ラベル用テキストの指定'],\n",
        "            ['marker', \"マーカーの形を指定. '.', 'o', 'v'. '^', '<', '>', '*', 'x' 等が指定できる\"]\n",
        "            ]\n",
        "df = pd.DataFrame(plt_data, columns=['引数', '説明'])\n",
        "df"
      ],
      "execution_count": 12,
      "outputs": [
        {
          "output_type": "stream",
          "text": [
            "表. plot()の引数\n"
          ],
          "name": "stdout"
        },
        {
          "output_type": "execute_result",
          "data": {
            "text/html": [
              "<div>\n",
              "<style scoped>\n",
              "    .dataframe tbody tr th:only-of-type {\n",
              "        vertical-align: middle;\n",
              "    }\n",
              "\n",
              "    .dataframe tbody tr th {\n",
              "        vertical-align: top;\n",
              "    }\n",
              "\n",
              "    .dataframe thead th {\n",
              "        text-align: right;\n",
              "    }\n",
              "</style>\n",
              "<table border=\"1\" class=\"dataframe\">\n",
              "  <thead>\n",
              "    <tr style=\"text-align: right;\">\n",
              "      <th></th>\n",
              "      <th>引数</th>\n",
              "      <th>説明</th>\n",
              "    </tr>\n",
              "  </thead>\n",
              "  <tbody>\n",
              "    <tr>\n",
              "      <th>0</th>\n",
              "      <td>x, y</td>\n",
              "      <td>x軸, y軸の値を指定</td>\n",
              "    </tr>\n",
              "    <tr>\n",
              "      <th>1</th>\n",
              "      <td>linewidth</td>\n",
              "      <td>線の太さ(pt)</td>\n",
              "    </tr>\n",
              "    <tr>\n",
              "      <th>2</th>\n",
              "      <td>linestyle</td>\n",
              "      <td>'solid', 'dashed', 'dashdot', 'dotted', 'None'...</td>\n",
              "    </tr>\n",
              "    <tr>\n",
              "      <th>3</th>\n",
              "      <td>color</td>\n",
              "      <td>色指定</td>\n",
              "    </tr>\n",
              "    <tr>\n",
              "      <th>4</th>\n",
              "      <td>label</td>\n",
              "      <td>ラベル用テキストの指定</td>\n",
              "    </tr>\n",
              "    <tr>\n",
              "      <th>5</th>\n",
              "      <td>marker</td>\n",
              "      <td>マーカーの形を指定. '.', 'o', 'v'. '^', '&lt;', '&gt;', '*', ...</td>\n",
              "    </tr>\n",
              "  </tbody>\n",
              "</table>\n",
              "</div>"
            ],
            "text/plain": [
              "          引数                                                 説明\n",
              "0       x, y                                        x軸, y軸の値を指定\n",
              "1  linewidth                                           線の太さ(pt)\n",
              "2  linestyle  'solid', 'dashed', 'dashdot', 'dotted', 'None'...\n",
              "3      color                                                色指定\n",
              "4      label                                        ラベル用テキストの指定\n",
              "5     marker  マーカーの形を指定. '.', 'o', 'v'. '^', '<', '>', '*', ..."
            ]
          },
          "metadata": {
            "tags": []
          },
          "execution_count": 12
        }
      ]
    },
    {
      "cell_type": "markdown",
      "metadata": {
        "id": "nJiXSUqkTV-9",
        "colab_type": "text"
      },
      "source": [
        "2.6.30"
      ]
    },
    {
      "cell_type": "code",
      "metadata": {
        "id": "M7W35naDTkPn",
        "colab_type": "code",
        "colab": {
          "base_uri": "https://localhost:8080/",
          "height": 265
        },
        "outputId": "524078ab-efad-4c13-8a56-ab1fce4ee3d6"
      },
      "source": [
        "import numpy as np\n",
        "import matplotlib.pyplot as plt\n",
        "x=np.arange(0,5,0.1)\n",
        "y=np.arange(0,5,0.1)+np.random.randn(50)\n",
        "fig=plt.figure()\n",
        "ax1=fig.add_subplot(1,1,1)\n",
        "ax1.scatter(x,y,color='red')\n",
        "fig.show()"
      ],
      "execution_count": 14,
      "outputs": [
        {
          "output_type": "display_data",
          "data": {
            "image/png": "[encoded data removed]",
            "text/plain": [
              "<Figure size 432x288 with 1 Axes>"
            ]
          },
          "metadata": {
            "tags": [],
            "needs_background": "light"
          }
        }
      ]
    },
    {
      "cell_type": "markdown",
      "metadata": {
        "id": "NSv03SHUUKR8",
        "colab_type": "text"
      },
      "source": [
        "Memo  \n",
        "散布図はscatter()メソッドを使って描くことができる"
      ]
    },
    {
      "cell_type": "markdown",
      "metadata": {
        "id": "MI1gwqddUsL1",
        "colab_type": "text"
      },
      "source": [
        "2.6.31"
      ]
    },
    {
      "cell_type": "code",
      "metadata": {
        "id": "-A16qJufUwPH",
        "colab_type": "code",
        "colab": {
          "base_uri": "https://localhost:8080/",
          "height": 265
        },
        "outputId": "987687bf-ba96-4fa3-ac25-a0033b732880"
      },
      "source": [
        "import numpy as np\n",
        "import matplotlib.pyplot as plt\n",
        "# 数値データの作成\n",
        "x = np.arange(0, 8, 0.1)\n",
        "y1 = 3*np.cos(x) - 5\n",
        "y2 = 2*np.sin(x)\n",
        "# Figureの作成\n",
        "fig = plt.figure()\n",
        "# グラフの描画(1)\n",
        "ax1 = fig.add_subplot(1,2,1)\n",
        "ax1.plot(x, y1, color='green')\n",
        "# グラフの描画(2)\n",
        "ax2 = fig.add_subplot(1,2,2)\n",
        "ax2.plot(x, y2, color='cyan')\n",
        "fig.show()"
      ],
      "execution_count": 15,
      "outputs": [
        {
          "output_type": "display_data",
          "data": {
            "image/png": "[encoded data removed]",
            "text/plain": [
              "<Figure size 432x288 with 2 Axes>"
            ]
          },
          "metadata": {
            "tags": [],
            "needs_background": "light"
          }
        }
      ]
    },
    {
      "cell_type": "markdown",
      "metadata": {
        "id": "0pPi8CJ-U54c",
        "colab_type": "text"
      },
      "source": [
        "2.6.32"
      ]
    },
    {
      "cell_type": "code",
      "metadata": {
        "id": "ieBTZa81VV7y",
        "colab_type": "code",
        "colab": {
          "base_uri": "https://localhost:8080/",
          "height": 269
        },
        "outputId": "d0c72571-84ca-411a-a221-441d7ebbba24"
      },
      "source": [
        "import numpy as np\n",
        "import matplotlib.pyplot as plt\n",
        "#数値データの作成\n",
        "x=np.arange(0,8,0.1)\n",
        "y1=3*np.cos(x)-5\n",
        "y2=2*np.sin(x)\n",
        "#Figureの作成\n",
        "fig=plt.figure()\n",
        "#グラフの描画1\n",
        "ax1=fig.add_subplot(1,2,1)\n",
        "ax1.plot(x,y1,color=\"green\")\n",
        "ax1.set_ylim(-8,2)\n",
        "#グラフの描画2\n",
        "ax2=fig.add_subplot(1,2,2,sharey=ax1)\n",
        "ax2.plot(x,y2,color=\"cyan\")\n",
        "fig.show()"
      ],
      "execution_count": 17,
      "outputs": [
        {
          "output_type": "display_data",
          "data": {
            "image/png": "[encoded data removed]",
            "text/plain": [
              "<Figure size 432x288 with 2 Axes>"
            ]
          },
          "metadata": {
            "tags": [],
            "needs_background": "light"
          }
        }
      ]
    },
    {
      "cell_type": "markdown",
      "metadata": {
        "id": "9GtQe0xGWrNc",
        "colab_type": "text"
      },
      "source": [
        "2.6.33"
      ]
    },
    {
      "cell_type": "code",
      "metadata": {
        "id": "k09lEBPAW3DI",
        "colab_type": "code",
        "colab": {
          "base_uri": "https://localhost:8080/",
          "height": 279
        },
        "outputId": "d11a5dd3-399f-4d07-dbf2-b66faea4dbe2"
      },
      "source": [
        "import numpy as np\n",
        "import matplotlib.pyplot as plt\n",
        "#数値データの作成\n",
        "x=np.arange(0,8,0.1)\n",
        "y1=1.0/np.exp(x)\n",
        "y2=5.0/(1+np.exp(-x))-1\n",
        "#Figureの作成\n",
        "fig=plt.figure()\n",
        "#グラフの描画1\n",
        "ax1=fig.add_subplot(1,1,1)\n",
        "ax1.plot(x,y1,color=\"green\",label='loss')\n",
        "ax1.set_ylabel('loss')\n",
        "ax1.set_xlabel('epoch')\n",
        "#グラフの描画2\n",
        "ax2=ax1.twinx()\n",
        "ax2.plot(x,y2,color=\"cyan\",label='acc')\n",
        "ax2.set_ylabel('acc')\n",
        "fig.show()"
      ],
      "execution_count": 18,
      "outputs": [
        {
          "output_type": "display_data",
          "data": {
            "image/png": "[encoded data removed]",
            "text/plain": [
              "<Figure size 432x288 with 2 Axes>"
            ]
          },
          "metadata": {
            "tags": [],
            "needs_background": "light"
          }
        }
      ]
    },
    {
      "cell_type": "markdown",
      "metadata": {
        "id": "yksC8nSsYGy6",
        "colab_type": "text"
      },
      "source": [
        "Memo  \n",
        "ax.twist()メソッド：Ⅹ座標を共有する"
      ]
    },
    {
      "cell_type": "markdown",
      "metadata": {
        "id": "LE0TlVhbYioB",
        "colab_type": "text"
      },
      "source": [
        "2.6.34"
      ]
    },
    {
      "cell_type": "code",
      "metadata": {
        "id": "4UqPVDScYkdC",
        "colab_type": "code",
        "colab": {}
      },
      "source": [
        ""
      ],
      "execution_count": 0,
      "outputs": []
    }
  ]
}