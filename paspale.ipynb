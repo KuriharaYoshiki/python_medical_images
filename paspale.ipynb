{
  "nbformat": 4,
  "nbformat_minor": 0,
  "metadata": {
    "colab": {
      "name": "paspale.ipynb",
      "provenance": [],
      "collapsed_sections": [],
      "include_colab_link": true
    },
    "kernelspec": {
      "name": "python3",
      "display_name": "Python 3"
    }
  },
  "cells": [
    {
      "cell_type": "markdown",
      "metadata": {
        "id": "view-in-github",
        "colab_type": "text"
      },
      "source": [
        "<a href=\"https://colab.research.google.com/github/KuriharaYoshiki/python_medical_images/blob/master/paspale.ipynb\" target=\"_parent\"><img src=\"https://colab.research.google.com/assets/colab-badge.svg\" alt=\"Open In Colab\"/></a>"
      ]
    },
    {
      "cell_type": "markdown",
      "metadata": {
        "id": "1V6n6ZW5EFxv",
        "colab_type": "text"
      },
      "source": [
        "## Pythonプログラムの基本を学ぶ。\n"
      ]
    },
    {
      "cell_type": "markdown",
      "metadata": {
        "id": "UYqqewWhIOM8",
        "colab_type": "text"
      },
      "source": [
        "### 2.1 データ型\n"
      ]
    },
    {
      "cell_type": "markdown",
      "metadata": {
        "id": "UQba_zaSHHmn",
        "colab_type": "text"
      },
      "source": [
        "2.1.1"
      ]
    },
    {
      "cell_type": "code",
      "metadata": {
        "id": "p5RkXp2hIqvp",
        "colab_type": "code",
        "outputId": "dc8739d5-30a2-4c50-9e2c-0ea46302761c",
        "colab": {
          "base_uri": "https://localhost:8080/",
          "height": 34
        }
      },
      "source": [
        "print(type(10))"
      ],
      "execution_count": 0,
      "outputs": [
        {
          "output_type": "stream",
          "text": [
            "<class 'int'>\n"
          ],
          "name": "stdout"
        }
      ]
    },
    {
      "cell_type": "markdown",
      "metadata": {
        "id": "RmEkhCGhIrd6",
        "colab_type": "text"
      },
      "source": [
        "2.1.2"
      ]
    },
    {
      "cell_type": "code",
      "metadata": {
        "id": "2fcbh0JUI1DM",
        "colab_type": "code",
        "outputId": "1b12c5fc-635d-463a-9530-e88113a5497c",
        "colab": {
          "base_uri": "https://localhost:8080/",
          "height": 34
        }
      },
      "source": [
        "print(type(\"foo\"))"
      ],
      "execution_count": 0,
      "outputs": [
        {
          "output_type": "stream",
          "text": [
            "<class 'str'>\n"
          ],
          "name": "stdout"
        }
      ]
    },
    {
      "cell_type": "markdown",
      "metadata": {
        "id": "PFxyk9J-JtzN",
        "colab_type": "text"
      },
      "source": [
        "2.1.3"
      ]
    },
    {
      "cell_type": "code",
      "metadata": {
        "id": "e2LuUMoVI5nM",
        "colab_type": "code",
        "outputId": "f057d529-67d2-4cb1-abc1-9af363c77dcd",
        "colab": {
          "base_uri": "https://localhost:8080/",
          "height": 68
        }
      },
      "source": [
        "print(type(-5))    # 整数\n",
        "print(type(2.73))  # 浮動小数点\n",
        "print(type(-5.0))\n"
      ],
      "execution_count": 0,
      "outputs": [
        {
          "output_type": "stream",
          "text": [
            "<class 'int'>\n",
            "<class 'float'>\n",
            "<class 'float'>\n"
          ],
          "name": "stdout"
        }
      ]
    },
    {
      "cell_type": "markdown",
      "metadata": {
        "id": "jISTYvk_KKO6",
        "colab_type": "text"
      },
      "source": [
        "2.1.4"
      ]
    },
    {
      "cell_type": "code",
      "metadata": {
        "id": "9WeTzT0iKVou",
        "colab_type": "code",
        "outputId": "9c6267d3-844e-49d4-85ae-36ca15c44e49",
        "colab": {
          "base_uri": "https://localhost:8080/",
          "height": 119
        }
      },
      "source": [
        "print(type(5+4+10))\n",
        "print(type(5+4.0+10))\n",
        "print(type(4.3/2))\n",
        "print(type(4/2))\n",
        "print(type(5//2))\n",
        "print(type(5%2))"
      ],
      "execution_count": 0,
      "outputs": [
        {
          "output_type": "stream",
          "text": [
            "<class 'int'>\n",
            "<class 'float'>\n",
            "<class 'float'>\n",
            "<class 'float'>\n",
            "<class 'int'>\n",
            "<class 'int'>\n"
          ],
          "name": "stdout"
        }
      ]
    },
    {
      "cell_type": "markdown",
      "metadata": {
        "id": "lB_fNJ8SKtm0",
        "colab_type": "text"
      },
      "source": [
        "2.1.5"
      ]
    },
    {
      "cell_type": "code",
      "metadata": {
        "id": "7qMQPfZmLmOg",
        "colab_type": "code",
        "outputId": "388f220c-2d66-416f-9f7e-7e7ed106e789",
        "colab": {
          "base_uri": "https://localhost:8080/",
          "height": 102
        }
      },
      "source": [
        "print(5+4+10)\n",
        "print(5+4.0+10)\n",
        "print(4.3/2)\n",
        "print(4/2)\n",
        "print(5//2)"
      ],
      "execution_count": 0,
      "outputs": [
        {
          "output_type": "stream",
          "text": [
            "19\n",
            "19.0\n",
            "2.15\n",
            "2.0\n",
            "2\n"
          ],
          "name": "stdout"
        }
      ]
    },
    {
      "cell_type": "markdown",
      "metadata": {
        "id": "Mt0Gjd6PMN5-",
        "colab_type": "text"
      },
      "source": [
        "2.1.6"
      ]
    },
    {
      "cell_type": "code",
      "metadata": {
        "id": "0GwGmpUCMlaT",
        "colab_type": "code",
        "outputId": "2154faff-f662-4fe9-8d1b-b4c91330382b",
        "colab": {
          "base_uri": "https://localhost:8080/",
          "height": 68
        }
      },
      "source": [
        "print(5/2)\n",
        "print(6.3/2)\n",
        "print(8/3.0)"
      ],
      "execution_count": 0,
      "outputs": [
        {
          "output_type": "stream",
          "text": [
            "2.5\n",
            "3.15\n",
            "2.6666666666666665\n"
          ],
          "name": "stdout"
        }
      ]
    },
    {
      "cell_type": "markdown",
      "metadata": {
        "id": "6_-f8rXFMtlt",
        "colab_type": "text"
      },
      "source": [
        "2.1.7"
      ]
    },
    {
      "cell_type": "code",
      "metadata": {
        "id": "1ZK9WdSPM2w5",
        "colab_type": "code",
        "outputId": "18dd46c3-d827-4955-b448-76162e0e45b7",
        "colab": {
          "base_uri": "https://localhost:8080/",
          "height": 68
        }
      },
      "source": [
        "print(5//2)\n",
        "print(6.3//2)\n",
        "print(8//3.0)"
      ],
      "execution_count": 0,
      "outputs": [
        {
          "output_type": "stream",
          "text": [
            "2\n",
            "3.0\n",
            "2.0\n"
          ],
          "name": "stdout"
        }
      ]
    },
    {
      "cell_type": "markdown",
      "metadata": {
        "id": "rd79Qc4hyRwr",
        "colab_type": "text"
      },
      "source": [
        "2.1.8"
      ]
    },
    {
      "cell_type": "code",
      "metadata": {
        "id": "GN00ROPfyY8s",
        "colab_type": "code",
        "outputId": "0474e604-f6e0-483a-fd17-0738ae99e7f7",
        "colab": {
          "base_uri": "https://localhost:8080/",
          "height": 68
        }
      },
      "source": [
        "print(type(\"foo\"))\n",
        "print(type('foo'))\n",
        "print(type(\"\"\"hogehoge\n",
        "fugafuga\n",
        "barbar\n",
        "booboo\"\"\"))"
      ],
      "execution_count": 0,
      "outputs": [
        {
          "output_type": "stream",
          "text": [
            "<class 'str'>\n",
            "<class 'str'>\n",
            "<class 'str'>\n"
          ],
          "name": "stdout"
        }
      ]
    },
    {
      "cell_type": "markdown",
      "metadata": {
        "id": "zneO4ZrvzKP8",
        "colab_type": "text"
      },
      "source": [
        "2.1.9"
      ]
    },
    {
      "cell_type": "code",
      "metadata": {
        "id": "iZPMtcIl0Hx_",
        "colab_type": "code",
        "outputId": "9181f2f1-f3f5-45e7-a0f3-3cf2242b1f79",
        "colab": {
          "base_uri": "https://localhost:8080/",
          "height": 34
        }
      },
      "source": [
        "print(\"Alice\"+\" in \"+\"Wonderland\")"
      ],
      "execution_count": 0,
      "outputs": [
        {
          "output_type": "stream",
          "text": [
            "Alice in Wonderland\n"
          ],
          "name": "stdout"
        }
      ]
    },
    {
      "cell_type": "markdown",
      "metadata": {
        "id": "a7suHe7G0U3K",
        "colab_type": "text"
      },
      "source": [
        "2.1.10"
      ]
    },
    {
      "cell_type": "code",
      "metadata": {
        "id": "PO1ZmKVu0c2O",
        "colab_type": "code",
        "colab": {}
      },
      "source": [
        "print(\"I am \"+20+\"years old.\")"
      ],
      "execution_count": 0,
      "outputs": []
    },
    {
      "cell_type": "markdown",
      "metadata": {
        "id": "ys7zWRpD0nXb",
        "colab_type": "text"
      },
      "source": [
        "Memo  \n",
        "\"+\" でint型とstr型はつなぐことができない"
      ]
    },
    {
      "cell_type": "markdown",
      "metadata": {
        "id": "nohziTd61O-A",
        "colab_type": "text"
      },
      "source": [
        "2.1.11"
      ]
    },
    {
      "cell_type": "code",
      "metadata": {
        "id": "dU4-mAKO1VHV",
        "colab_type": "code",
        "outputId": "9a77fd63-bc99-4bba-c643-0c649636f79b",
        "colab": {
          "base_uri": "https://localhost:8080/",
          "height": 34
        }
      },
      "source": [
        "print(\"I am \"+str(20)+\" years old.\")"
      ],
      "execution_count": 9,
      "outputs": [
        {
          "output_type": "stream",
          "text": [
            "I am 20 years old.\n"
          ],
          "name": "stdout"
        }
      ]
    },
    {
      "cell_type": "markdown",
      "metadata": {
        "id": "LjIbE4-paz6p",
        "colab_type": "text"
      },
      "source": [
        "###2.2 変数"
      ]
    },
    {
      "cell_type": "markdown",
      "metadata": {
        "id": "odHnSgky1faX",
        "colab_type": "text"
      },
      "source": [
        "2.2.1"
      ]
    },
    {
      "cell_type": "code",
      "metadata": {
        "id": "n6YwahaJ1jsS",
        "colab_type": "code",
        "outputId": "b077acd1-8cfa-40a8-c6f5-13994531c35c",
        "colab": {
          "base_uri": "https://localhost:8080/",
          "height": 34
        }
      },
      "source": [
        "a=10\n",
        "b=a+10\n",
        "print(b)"
      ],
      "execution_count": 0,
      "outputs": [
        {
          "output_type": "stream",
          "text": [
            "20\n"
          ],
          "name": "stdout"
        }
      ]
    },
    {
      "cell_type": "markdown",
      "metadata": {
        "id": "wfkgDw4B1wo6",
        "colab_type": "text"
      },
      "source": [
        "2.2.2"
      ]
    },
    {
      "cell_type": "code",
      "metadata": {
        "id": "X1P4CBJO11eV",
        "colab_type": "code",
        "colab": {}
      },
      "source": [
        "No.19=10 #エラーとなる"
      ],
      "execution_count": 0,
      "outputs": []
    },
    {
      "cell_type": "markdown",
      "metadata": {
        "id": "T0kHafmg2DLP",
        "colab_type": "text"
      },
      "source": [
        "2.2.3"
      ]
    },
    {
      "cell_type": "code",
      "metadata": {
        "id": "U8bxv5Y52I5m",
        "colab_type": "code",
        "colab": {}
      },
      "source": [
        "1a=10 #これもエラー"
      ],
      "execution_count": 0,
      "outputs": []
    },
    {
      "cell_type": "markdown",
      "metadata": {
        "id": "Ojn1pwTD2PEa",
        "colab_type": "text"
      },
      "source": [
        "2.2.4"
      ]
    },
    {
      "cell_type": "code",
      "metadata": {
        "id": "cN6tQyGz2XDE",
        "colab_type": "code",
        "outputId": "8cbbf7cf-b183-45ab-8acc-fdeefa4ad310",
        "colab": {
          "base_uri": "https://localhost:8080/",
          "height": 54
        }
      },
      "source": [
        "import keyword\n",
        "print(keyword.kwlist)"
      ],
      "execution_count": 0,
      "outputs": [
        {
          "output_type": "stream",
          "text": [
            "['False', 'None', 'True', 'and', 'as', 'assert', 'break', 'class', 'continue', 'def', 'del', 'elif', 'else', 'except', 'finally', 'for', 'from', 'global', 'if', 'import', 'in', 'is', 'lambda', 'nonlocal', 'not', 'or', 'pass', 'raise', 'return', 'try', 'while', 'with', 'yield']\n"
          ],
          "name": "stdout"
        }
      ]
    },
    {
      "cell_type": "markdown",
      "metadata": {
        "id": "MFK7TOcM2iwo",
        "colab_type": "text"
      },
      "source": [
        "2.2.5"
      ]
    },
    {
      "cell_type": "code",
      "metadata": {
        "id": "F5KGIQYs2n6A",
        "colab_type": "code",
        "outputId": "e9ec96e9-58a0-44f9-b488-85f9eb4a44d8",
        "colab": {
          "base_uri": "https://localhost:8080/",
          "height": 34
        }
      },
      "source": [
        "a=10\n",
        "a=a-3\n",
        "print(a)"
      ],
      "execution_count": 0,
      "outputs": [
        {
          "output_type": "stream",
          "text": [
            "7\n"
          ],
          "name": "stdout"
        }
      ]
    },
    {
      "cell_type": "markdown",
      "metadata": {
        "id": "UTVDCKFY21xD",
        "colab_type": "text"
      },
      "source": [
        "Memo  \n",
        "\"=\" は「等号」ではなく「代入」"
      ]
    },
    {
      "cell_type": "markdown",
      "metadata": {
        "id": "5lfQEZHQ3E9z",
        "colab_type": "text"
      },
      "source": [
        "2.2.6"
      ]
    },
    {
      "cell_type": "code",
      "metadata": {
        "id": "3c39CkSp3LHw",
        "colab_type": "code",
        "outputId": "28b0f4ee-e41b-43b7-e194-b2143c300877",
        "colab": {
          "base_uri": "https://localhost:8080/",
          "height": 34
        }
      },
      "source": [
        "a=10\n",
        "a-=3\n",
        "print(a)"
      ],
      "execution_count": 0,
      "outputs": [
        {
          "output_type": "stream",
          "text": [
            "7\n"
          ],
          "name": "stdout"
        }
      ]
    },
    {
      "cell_type": "markdown",
      "metadata": {
        "id": "WCg8Spjf3Px8",
        "colab_type": "text"
      },
      "source": [
        "2.2.7"
      ]
    },
    {
      "cell_type": "code",
      "metadata": {
        "id": "YJdLAr6V3T1w",
        "colab_type": "code",
        "outputId": "34fad2cd-3164-44f8-ccba-4cafe6ee038e",
        "colab": {
          "base_uri": "https://localhost:8080/",
          "height": 34
        }
      },
      "source": [
        "a=10\n",
        "a*=2      # a=a*2と同じ意味\n",
        "print(a)"
      ],
      "execution_count": 0,
      "outputs": [
        {
          "output_type": "stream",
          "text": [
            "20\n"
          ],
          "name": "stdout"
        }
      ]
    },
    {
      "cell_type": "markdown",
      "metadata": {
        "id": "BpJ05kwk3Zx5",
        "colab_type": "text"
      },
      "source": [
        "2.2.8"
      ]
    },
    {
      "cell_type": "code",
      "metadata": {
        "id": "w7GSxoYb3mf7",
        "colab_type": "code",
        "outputId": "0011abeb-4f8f-47d2-f5ae-fc9706a13d24",
        "colab": {
          "base_uri": "https://localhost:8080/",
          "height": 34
        }
      },
      "source": [
        "green_apple=100\n",
        "summer_orange=500\n",
        "sales_tax=0.1\n",
        "price=int((green_apple*5+summer_orange*2)*(1.0+sales_tax))\n",
        "print(price)"
      ],
      "execution_count": 0,
      "outputs": [
        {
          "output_type": "stream",
          "text": [
            "1650\n"
          ],
          "name": "stdout"
        }
      ]
    },
    {
      "cell_type": "markdown",
      "metadata": {
        "id": "tYqUYD9ibIb4",
        "colab_type": "text"
      },
      "source": [
        "###2.3 データ構造"
      ]
    },
    {
      "cell_type": "markdown",
      "metadata": {
        "id": "-dzVLfYr3xoR",
        "colab_type": "text"
      },
      "source": [
        "2.3.1"
      ]
    },
    {
      "cell_type": "code",
      "metadata": {
        "id": "sJthFPbv4JZK",
        "colab_type": "code",
        "colab": {}
      },
      "source": [
        "p1=10000    #1月分\n",
        "p2=20000    #2月分\n",
        "p3=100000   #3月分\n",
        "p4=1000     #4月分\n",
        "p5=200000   #5月分"
      ],
      "execution_count": 0,
      "outputs": []
    },
    {
      "cell_type": "markdown",
      "metadata": {
        "id": "hEnYeqk04lAB",
        "colab_type": "text"
      },
      "source": [
        "2.3.2"
      ]
    },
    {
      "cell_type": "code",
      "metadata": {
        "id": "BR4m5h_x4nvv",
        "colab_type": "code",
        "outputId": "ba9e5546-b7ab-45a2-f740-c61025ef585d",
        "colab": {
          "base_uri": "https://localhost:8080/",
          "height": 34
        }
      },
      "source": [
        "prices=[10000,20000,100000,1000,200000]\n",
        "print(type(prices))"
      ],
      "execution_count": 0,
      "outputs": [
        {
          "output_type": "stream",
          "text": [
            "<class 'list'>\n"
          ],
          "name": "stdout"
        }
      ]
    },
    {
      "cell_type": "markdown",
      "metadata": {
        "id": "kqQtm_NW42jD",
        "colab_type": "text"
      },
      "source": [
        "2.3.3"
      ]
    },
    {
      "cell_type": "code",
      "metadata": {
        "id": "Y8jtnyk0494a",
        "colab_type": "code",
        "outputId": "c31f2dbf-8e02-4270-f0df-9f65104b4fcf",
        "colab": {
          "base_uri": "https://localhost:8080/",
          "height": 68
        }
      },
      "source": [
        "print(prices[0])\n",
        "print(prices[4])\n",
        "print(type(prices[0]))"
      ],
      "execution_count": 0,
      "outputs": [
        {
          "output_type": "stream",
          "text": [
            "10000\n",
            "200000\n",
            "<class 'int'>\n"
          ],
          "name": "stdout"
        }
      ]
    },
    {
      "cell_type": "markdown",
      "metadata": {
        "id": "Qp6UeiM85Let",
        "colab_type": "text"
      },
      "source": [
        "Memo  \n",
        "リストのインデックスは0から始まる"
      ]
    },
    {
      "cell_type": "markdown",
      "metadata": {
        "id": "a36RYnA85UyS",
        "colab_type": "text"
      },
      "source": [
        "2.3.4"
      ]
    },
    {
      "cell_type": "code",
      "metadata": {
        "id": "G97PuYYt5hyl",
        "colab_type": "code",
        "outputId": "3d7e8e46-28c8-4f59-d329-f8acd1ebfd04",
        "colab": {
          "base_uri": "https://localhost:8080/",
          "height": 68
        }
      },
      "source": [
        "print(prices[0])\n",
        "prices[0]=20\n",
        "print(prices[0])\n",
        "print(prices)"
      ],
      "execution_count": 0,
      "outputs": [
        {
          "output_type": "stream",
          "text": [
            "10000\n",
            "20\n",
            "[20, 20000, 100000, 1000, 200000]\n"
          ],
          "name": "stdout"
        }
      ]
    },
    {
      "cell_type": "markdown",
      "metadata": {
        "id": "YYYt_YSK5xzS",
        "colab_type": "text"
      },
      "source": [
        "2.3.5"
      ]
    },
    {
      "cell_type": "code",
      "metadata": {
        "id": "i-v6pCOS51lJ",
        "colab_type": "code",
        "outputId": "91255b2c-14b9-4821-c2e3-8c607de39552",
        "colab": {
          "base_uri": "https://localhost:8080/",
          "height": 34
        }
      },
      "source": [
        "print(len(prices))"
      ],
      "execution_count": 0,
      "outputs": [
        {
          "output_type": "stream",
          "text": [
            "5\n"
          ],
          "name": "stdout"
        }
      ]
    },
    {
      "cell_type": "markdown",
      "metadata": {
        "id": "eCcxdML0562I",
        "colab_type": "text"
      },
      "source": [
        "Memo  \n",
        "len()関数でリストの要素数が取り出せる"
      ]
    },
    {
      "cell_type": "markdown",
      "metadata": {
        "id": "Q9SwRL-S6Lkr",
        "colab_type": "text"
      },
      "source": [
        "2.3.6"
      ]
    },
    {
      "cell_type": "code",
      "metadata": {
        "id": "p5CR-rA76O94",
        "colab_type": "code",
        "outputId": "922f7144-96d9-4af3-c9ed-a4556336a727",
        "colab": {
          "base_uri": "https://localhost:8080/",
          "height": 85
        }
      },
      "source": [
        "string=\"a new stereophonic sound spectacular\"\n",
        "slist=string.split(\" \")\n",
        "print(string)\n",
        "print(slist)\n",
        "print(type(string))\n",
        "print(type(slist))"
      ],
      "execution_count": 0,
      "outputs": [
        {
          "output_type": "stream",
          "text": [
            "a new stereophonic sound spectacular\n",
            "['a', 'new', 'stereophonic', 'sound', 'spectacular']\n",
            "<class 'str'>\n",
            "<class 'list'>\n"
          ],
          "name": "stdout"
        }
      ]
    },
    {
      "cell_type": "markdown",
      "metadata": {
        "id": "4pyhXnCb6z7M",
        "colab_type": "text"
      },
      "source": [
        "2.3.7"
      ]
    },
    {
      "cell_type": "code",
      "metadata": {
        "id": "CwR9QTaRA69C",
        "colab_type": "code",
        "outputId": "bedbd82d-3d7d-4952-9155-225748b7a3f7",
        "colab": {
          "base_uri": "https://localhost:8080/",
          "height": 34
        }
      },
      "source": [
        "slist=['a','new','stereophonic','sound','spectacular']\n",
        "string2=\" \".join(slist)\n",
        "print(string2)"
      ],
      "execution_count": 0,
      "outputs": [
        {
          "output_type": "stream",
          "text": [
            "a new stereophonic sound spectacular\n"
          ],
          "name": "stdout"
        }
      ]
    },
    {
      "cell_type": "markdown",
      "metadata": {
        "id": "f61Zax18BYSD",
        "colab_type": "text"
      },
      "source": [
        "Memo  \n",
        "join()メソッド：文字列のリストを結合して一つの文字列にする  \n",
        "\" \".join(string) の形をとる"
      ]
    },
    {
      "cell_type": "markdown",
      "metadata": {
        "id": "ttl2fsmYB5A5",
        "colab_type": "text"
      },
      "source": [
        "2.3.8"
      ]
    },
    {
      "cell_type": "code",
      "metadata": {
        "id": "zSz3qKjTB9Z6",
        "colab_type": "code",
        "outputId": "79714efc-0484-48d9-e46a-880b5005d1de",
        "colab": {
          "base_uri": "https://localhost:8080/",
          "height": 51
        }
      },
      "source": [
        "string=\"a new stereophonic sound spectacular\"\n",
        "srep=string.replace('s','S')\n",
        "print(srep)\n",
        "print(string)"
      ],
      "execution_count": 0,
      "outputs": [
        {
          "output_type": "stream",
          "text": [
            "a new Stereophonic Sound Spectacular\n",
            "a new stereophonic sound spectacular\n"
          ],
          "name": "stdout"
        }
      ]
    },
    {
      "cell_type": "markdown",
      "metadata": {
        "id": "YF8FekdgCWdL",
        "colab_type": "text"
      },
      "source": [
        "Memo  \n",
        "replace()メソッド：文字列の置換\n",
        "                   元の文字列は変化させない\n"
      ]
    },
    {
      "cell_type": "markdown",
      "metadata": {
        "id": "SLPxuu-dCqUI",
        "colab_type": "text"
      },
      "source": [
        "2.3.9"
      ]
    },
    {
      "cell_type": "code",
      "metadata": {
        "id": "R1TI49YWC4lq",
        "colab_type": "code",
        "outputId": "15274484-c32f-44b3-bad7-032bd4ae4fdc",
        "colab": {
          "base_uri": "https://localhost:8080/",
          "height": 34
        }
      },
      "source": [
        "string=\"  foo    \"  #両端に空白のある文字列\n",
        "srp=string.strip()\n",
        "print(srp)"
      ],
      "execution_count": 0,
      "outputs": [
        {
          "output_type": "stream",
          "text": [
            "foo\n"
          ],
          "name": "stdout"
        }
      ]
    },
    {
      "cell_type": "markdown",
      "metadata": {
        "id": "Tnx4_0XVDOKo",
        "colab_type": "text"
      },
      "source": [
        "Memo  \n",
        "strip()メソッド ：文字列の空白を削除する  \n",
        "lstrip()メソッド：左側の空白を削除  \n",
        "rstrip()メソッド：右側の空白を削除"
      ]
    },
    {
      "cell_type": "markdown",
      "metadata": {
        "id": "_NZQz1z6Dy1n",
        "colab_type": "text"
      },
      "source": [
        "2.3.10"
      ]
    },
    {
      "cell_type": "code",
      "metadata": {
        "id": "QBphjXkdD2X_",
        "colab_type": "code",
        "outputId": "f934f856-37c8-4c5d-c091-0070f658dc9d",
        "colab": {
          "base_uri": "https://localhost:8080/",
          "height": 68
        }
      },
      "source": [
        "prices=[1000,20000,100000,1000,200000]\n",
        "p1=prices[2:4]　　#リストの3番目(インデックス=2)から4番目(インデックス=3)\n",
        "p2=prices[2:]     #後ろの値を省略するとここから後ろ全部という意味\n",
        "p3=prices[:4]　　 #前の値を省略すると最初からという意味\n",
        "print(p1)\n",
        "print(p2)\n",
        "print(p3)"
      ],
      "execution_count": 0,
      "outputs": [
        {
          "output_type": "stream",
          "text": [
            "[100000, 1000]\n",
            "[100000, 1000, 200000]\n",
            "[1000, 20000, 100000, 1000]\n"
          ],
          "name": "stdout"
        }
      ]
    },
    {
      "cell_type": "markdown",
      "metadata": {
        "id": "KSy-JQHUE_mM",
        "colab_type": "text"
      },
      "source": [
        "Memo  \n",
        "スライス機能：複数の要素にアクセスする  \n",
        "prices[取り出す最初のインデックス値：取り出す最後のインデックス値+1]"
      ]
    },
    {
      "cell_type": "markdown",
      "metadata": {
        "id": "aWC3kYbaGFVG",
        "colab_type": "text"
      },
      "source": [
        "2.3.11"
      ]
    },
    {
      "cell_type": "code",
      "metadata": {
        "id": "xDZeHBc7HnSO",
        "colab_type": "code",
        "colab": {
          "base_uri": "https://localhost:8080/",
          "height": 68
        },
        "outputId": "d73a8dcc-71f4-43ef-b13b-8f8066133d68"
      },
      "source": [
        "prices=[1000,20000,100000,1000,200000]\n",
        "p1=prices[2:4]\n",
        "print(p1)\n",
        "p1[0]=\"hoge\"\n",
        "print(p1)\n",
        "print(prices)"
      ],
      "execution_count": 2,
      "outputs": [
        {
          "output_type": "stream",
          "text": [
            "[100000, 1000]\n",
            "['hoge', 1000]\n",
            "[1000, 20000, 100000, 1000, 200000]\n"
          ],
          "name": "stdout"
        }
      ]
    },
    {
      "cell_type": "code",
      "metadata": {
        "id": "0u-5ykVHItAu",
        "colab_type": "code",
        "colab": {
          "base_uri": "https://localhost:8080/",
          "height": 34
        },
        "outputId": "f47b5b53-d243-40d2-a4ec-144aee4fd287"
      },
      "source": [
        "prices=[10,20000,100000,1000,200000]\n",
        "prices.append(100)\n",
        "print(prices)"
      ],
      "execution_count": 3,
      "outputs": [
        {
          "output_type": "stream",
          "text": [
            "[10, 20000, 100000, 1000, 200000, 100]\n"
          ],
          "name": "stdout"
        }
      ]
    },
    {
      "cell_type": "markdown",
      "metadata": {
        "id": "c5h8R4wRJy8U",
        "colab_type": "text"
      },
      "source": [
        "Memo  \n",
        "append()メソッド：要素をリストに追加"
      ]
    },
    {
      "cell_type": "markdown",
      "metadata": {
        "id": "Ztj_U-iQKeu4",
        "colab_type": "text"
      },
      "source": [
        "Tips \n",
        "- ctrl+M+M→コードセルをテキストセルに変換\n",
        "- ctrl+M+Y→テキストセルをコードセルに変換\n",
        "- 改行したいときはSpace２回クリック→Enter\n",
        "- \\` で囲ってあげるとhoge→`hoge`になる\n"
      ]
    },
    {
      "cell_type": "markdown",
      "metadata": {
        "id": "WbamKq1PLMNC",
        "colab_type": "text"
      },
      "source": [
        "2.3.12"
      ]
    },
    {
      "cell_type": "code",
      "metadata": {
        "id": "qS4O0lteMVvV",
        "colab_type": "code",
        "colab": {
          "base_uri": "https://localhost:8080/",
          "height": 34
        },
        "outputId": "a9c2b981-1bcc-445e-d01f-b9b7a3b7a536"
      },
      "source": [
        "humans=['Alice','Mad Hatter','Queen','King']\n",
        "animals=['Rabbit','Mouse','Puppy','Caterpillar','Cat']\n",
        "chars=humans+animals\n",
        "print(chars)"
      ],
      "execution_count": 5,
      "outputs": [
        {
          "output_type": "stream",
          "text": [
            "['Alice', 'Mad Hatter', 'Queen', 'King', 'Rabbit', 'Mouse', 'Puppy', 'Caterpillar', 'Cat']\n"
          ],
          "name": "stdout"
        }
      ]
    },
    {
      "cell_type": "markdown",
      "metadata": {
        "id": "P1GlPfPeP7sS",
        "colab_type": "text"
      },
      "source": [
        "Memo  \n",
        "リストは+記号で連結できる"
      ]
    },
    {
      "cell_type": "markdown",
      "metadata": {
        "id": "KzmfeM7TQUC6",
        "colab_type": "text"
      },
      "source": [
        "2.3.13"
      ]
    },
    {
      "cell_type": "code",
      "metadata": {
        "id": "RwE-R24LQaE_",
        "colab_type": "code",
        "colab": {
          "base_uri": "https://localhost:8080/",
          "height": 68
        },
        "outputId": "03c891ca-ab37-4b03-da15-b19e9b0ba680"
      },
      "source": [
        "prices=[10,20000,100000,1000,200000]\n",
        "sprices=sorted(prices)\n",
        "print(sprices)\n",
        "print(prices)\n",
        "prices.sort()\n",
        "print(prices)"
      ],
      "execution_count": 6,
      "outputs": [
        {
          "output_type": "stream",
          "text": [
            "[10, 1000, 20000, 100000, 200000]\n",
            "[10, 20000, 100000, 1000, 200000]\n",
            "[10, 1000, 20000, 100000, 200000]\n"
          ],
          "name": "stdout"
        }
      ]
    },
    {
      "cell_type": "markdown",
      "metadata": {
        "id": "lmEjGPhORF1e",
        "colab_type": "text"
      },
      "source": [
        "Memo  \n",
        "sorted()関数:  \n",
        ">小さい順に並び替える  \n",
        ">大きい順に並び替える場合は`sorted(x,reverse=True)`とする"
      ]
    },
    {
      "cell_type": "markdown",
      "metadata": {
        "id": "MWyegg95SB4n",
        "colab_type": "text"
      },
      "source": [
        "Tips  \n",
        "- \\>でインデントを追加する　　\n",
        "- \\ で特殊文字を表示する"
      ]
    },
    {
      "cell_type": "markdown",
      "metadata": {
        "id": "Xrq2l_uIUoxa",
        "colab_type": "text"
      },
      "source": [
        "2.3.14"
      ]
    },
    {
      "cell_type": "code",
      "metadata": {
        "id": "QQ0zkrzmUuCh",
        "colab_type": "code",
        "colab": {
          "base_uri": "https://localhost:8080/",
          "height": 51
        },
        "outputId": "03fa44c6-2d52-4fc6-e79a-b6c4c6621733"
      },
      "source": [
        "humans=['Alice','Mad Hatter','Queen','King']\n",
        "t='Rabbit' in humans\n",
        "print(t)\n",
        "s='Rabbit' not in humans\n",
        "print(s)"
      ],
      "execution_count": 8,
      "outputs": [
        {
          "output_type": "stream",
          "text": [
            "False\n",
            "True\n"
          ],
          "name": "stdout"
        }
      ]
    },
    {
      "cell_type": "markdown",
      "metadata": {
        "id": "BCu7fRzUVOyo",
        "colab_type": "text"
      },
      "source": [
        "Memo  \n",
        "in・not in：リストに値があるかを調べる  \n",
        ">in:リスト内に含まれていれば True  \n",
        ">not in:リスト内に含まれていなければ True\n"
      ]
    },
    {
      "cell_type": "markdown",
      "metadata": {
        "id": "B-Ga2B21VlMS",
        "colab_type": "text"
      },
      "source": [
        "2.3.15"
      ]
    },
    {
      "cell_type": "code",
      "metadata": {
        "id": "UPMm8RV0cAh0",
        "colab_type": "code",
        "colab": {
          "base_uri": "https://localhost:8080/",
          "height": 51
        },
        "outputId": "e875872a-2041-47b5-baae-f37617039736"
      },
      "source": [
        "prices=(1000,20000,100000,1000,200000)\n",
        "print(type(prices))\n",
        "print(prices)"
      ],
      "execution_count": 10,
      "outputs": [
        {
          "output_type": "stream",
          "text": [
            "<class 'tuple'>\n",
            "(1000, 20000, 100000, 1000, 200000)\n"
          ],
          "name": "stdout"
        }
      ]
    },
    {
      "cell_type": "markdown",
      "metadata": {
        "id": "kuqEUnoZchuy",
        "colab_type": "text"
      },
      "source": [
        "Memo  \n",
        "タプル：要素を変更できない　　\n",
        ">タプルは()を使って定義する"
      ]
    },
    {
      "cell_type": "markdown",
      "metadata": {
        "id": "QpUBnMutc6I3",
        "colab_type": "text"
      },
      "source": [
        "2.3.16"
      ]
    },
    {
      "cell_type": "code",
      "metadata": {
        "id": "TFE8q1GRdA8e",
        "colab_type": "code",
        "colab": {}
      },
      "source": [
        "prices=(1000,20000,100000,1000,200000)\n",
        "prices[1]=20  #書き換えようとした\n",
        "print(prices)"
      ],
      "execution_count": 0,
      "outputs": []
    },
    {
      "cell_type": "markdown",
      "metadata": {
        "id": "_YJOTsmpdb_V",
        "colab_type": "text"
      },
      "source": [
        "Memo  \n",
        "[重要] タプルは一度定義すると書き換えることができない"
      ]
    },
    {
      "cell_type": "markdown",
      "metadata": {
        "id": "CBWHjRZ6d63H",
        "colab_type": "text"
      },
      "source": [
        "2.3.17"
      ]
    },
    {
      "cell_type": "code",
      "metadata": {
        "id": "teiXQqOweVRw",
        "colab_type": "code",
        "colab": {
          "base_uri": "https://localhost:8080/",
          "height": 51
        },
        "outputId": "e7c4935e-d1f3-4d0a-fac1-dead253bdf3c"
      },
      "source": [
        "humans=('Alice','Mat Hatter','Queen','king')            #tuple\n",
        "animals=['Rabbit','Mouse','Puppy','Caterpillar','Cat']  #list\n",
        "h=list(humans)\n",
        "print(h)\n",
        "a=tuple(animals)\n",
        "print(a)"
      ],
      "execution_count": 12,
      "outputs": [
        {
          "output_type": "stream",
          "text": [
            "['Alice', 'Mat Hatter', 'Queen', 'king']\n",
            "('Rabbit', 'Mouse', 'Puppy', 'Caterpillar', 'Cat')\n"
          ],
          "name": "stdout"
        }
      ]
    },
    {
      "cell_type": "markdown",
      "metadata": {
        "id": "GS3eWl2PfFvy",
        "colab_type": "text"
      },
      "source": [
        "Memo  \n",
        "list()関数とtuple()関数を使って互いに変換できる  \n",
        "関数の引数はタプルで渡され、関数の戻り値として複数の値を返すときや辞書のキーとして使われる"
      ]
    },
    {
      "cell_type": "code",
      "metadata": {
        "id": "XD-htCujgbEU",
        "colab_type": "code",
        "colab": {}
      },
      "source": [
        ""
      ],
      "execution_count": 0,
      "outputs": []
    }
  ]
}