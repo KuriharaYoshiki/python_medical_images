{
  "nbformat": 4,
  "nbformat_minor": 0,
  "metadata": {
    "colab": {
      "name": "paspale.ipynb",
      "provenance": [],
      "collapsed_sections": []
    },
    "kernelspec": {
      "name": "python3",
      "display_name": "Python 3"
    }
  },
  "cells": [
    {
      "cell_type": "markdown",
      "metadata": {
        "id": "view-in-github",
        "colab_type": "text"
      },
      "source": [
        "<a href=\"https://colab.research.google.com/github/KuriharaYoshiki/python_medical_images/blob/master/paspale.ipynb\" target=\"_parent\"><img src=\"https://colab.research.google.com/assets/colab-badge.svg\" alt=\"Open In Colab\"/></a>"
      ]
    },
    {
      "cell_type": "markdown",
      "metadata": {
        "id": "1V6n6ZW5EFxv",
        "colab_type": "text"
      },
      "source": [
        "## Pythonプログラムの基本を学ぶ。\n"
      ]
    },
    {
      "cell_type": "markdown",
      "metadata": {
        "id": "UYqqewWhIOM8",
        "colab_type": "text"
      },
      "source": [
        "### 2.1 データ型\n"
      ]
    },
    {
      "cell_type": "markdown",
      "metadata": {
        "id": "UQba_zaSHHmn",
        "colab_type": "text"
      },
      "source": [
        "2.1.1"
      ]
    },
    {
      "cell_type": "code",
      "metadata": {
        "id": "p5RkXp2hIqvp",
        "colab_type": "code",
        "outputId": "dc8739d5-30a2-4c50-9e2c-0ea46302761c",
        "colab": {
          "base_uri": "https://localhost:8080/",
          "height": 34
        }
      },
      "source": [
        "print(type(10))"
      ],
      "execution_count": 0,
      "outputs": [
        {
          "output_type": "stream",
          "text": [
            "<class 'int'>\n"
          ],
          "name": "stdout"
        }
      ]
    },
    {
      "cell_type": "markdown",
      "metadata": {
        "id": "RmEkhCGhIrd6",
        "colab_type": "text"
      },
      "source": [
        "2.1.2"
      ]
    },
    {
      "cell_type": "code",
      "metadata": {
        "id": "2fcbh0JUI1DM",
        "colab_type": "code",
        "outputId": "1b12c5fc-635d-463a-9530-e88113a5497c",
        "colab": {
          "base_uri": "https://localhost:8080/",
          "height": 34
        }
      },
      "source": [
        "print(type(\"foo\"))"
      ],
      "execution_count": 0,
      "outputs": [
        {
          "output_type": "stream",
          "text": [
            "<class 'str'>\n"
          ],
          "name": "stdout"
        }
      ]
    },
    {
      "cell_type": "markdown",
      "metadata": {
        "id": "PFxyk9J-JtzN",
        "colab_type": "text"
      },
      "source": [
        "2.1.3"
      ]
    },
    {
      "cell_type": "code",
      "metadata": {
        "id": "e2LuUMoVI5nM",
        "colab_type": "code",
        "outputId": "f057d529-67d2-4cb1-abc1-9af363c77dcd",
        "colab": {
          "base_uri": "https://localhost:8080/",
          "height": 68
        }
      },
      "source": [
        "print(type(-5))    # 整数\n",
        "print(type(2.73))  # 浮動小数点\n",
        "print(type(-5.0))\n"
      ],
      "execution_count": 0,
      "outputs": [
        {
          "output_type": "stream",
          "text": [
            "<class 'int'>\n",
            "<class 'float'>\n",
            "<class 'float'>\n"
          ],
          "name": "stdout"
        }
      ]
    },
    {
      "cell_type": "markdown",
      "metadata": {
        "id": "jISTYvk_KKO6",
        "colab_type": "text"
      },
      "source": [
        "2.1.4"
      ]
    },
    {
      "cell_type": "code",
      "metadata": {
        "id": "9WeTzT0iKVou",
        "colab_type": "code",
        "outputId": "9c6267d3-844e-49d4-85ae-36ca15c44e49",
        "colab": {
          "base_uri": "https://localhost:8080/",
          "height": 119
        }
      },
      "source": [
        "print(type(5+4+10))\n",
        "print(type(5+4.0+10))\n",
        "print(type(4.3/2))\n",
        "print(type(4/2))\n",
        "print(type(5//2))\n",
        "print(type(5%2))"
      ],
      "execution_count": 0,
      "outputs": [
        {
          "output_type": "stream",
          "text": [
            "<class 'int'>\n",
            "<class 'float'>\n",
            "<class 'float'>\n",
            "<class 'float'>\n",
            "<class 'int'>\n",
            "<class 'int'>\n"
          ],
          "name": "stdout"
        }
      ]
    },
    {
      "cell_type": "markdown",
      "metadata": {
        "id": "lB_fNJ8SKtm0",
        "colab_type": "text"
      },
      "source": [
        "2.1.5"
      ]
    },
    {
      "cell_type": "code",
      "metadata": {
        "id": "7qMQPfZmLmOg",
        "colab_type": "code",
        "outputId": "388f220c-2d66-416f-9f7e-7e7ed106e789",
        "colab": {
          "base_uri": "https://localhost:8080/",
          "height": 102
        }
      },
      "source": [
        "print(5+4+10)\n",
        "print(5+4.0+10)\n",
        "print(4.3/2)\n",
        "print(4/2)\n",
        "print(5//2)"
      ],
      "execution_count": 0,
      "outputs": [
        {
          "output_type": "stream",
          "text": [
            "19\n",
            "19.0\n",
            "2.15\n",
            "2.0\n",
            "2\n"
          ],
          "name": "stdout"
        }
      ]
    },
    {
      "cell_type": "markdown",
      "metadata": {
        "id": "Mt0Gjd6PMN5-",
        "colab_type": "text"
      },
      "source": [
        "2.1.6"
      ]
    },
    {
      "cell_type": "code",
      "metadata": {
        "id": "0GwGmpUCMlaT",
        "colab_type": "code",
        "outputId": "2154faff-f662-4fe9-8d1b-b4c91330382b",
        "colab": {
          "base_uri": "https://localhost:8080/",
          "height": 68
        }
      },
      "source": [
        "print(5/2)\n",
        "print(6.3/2)\n",
        "print(8/3.0)"
      ],
      "execution_count": 0,
      "outputs": [
        {
          "output_type": "stream",
          "text": [
            "2.5\n",
            "3.15\n",
            "2.6666666666666665\n"
          ],
          "name": "stdout"
        }
      ]
    },
    {
      "cell_type": "markdown",
      "metadata": {
        "id": "6_-f8rXFMtlt",
        "colab_type": "text"
      },
      "source": [
        "2.1.7"
      ]
    },
    {
      "cell_type": "code",
      "metadata": {
        "id": "1ZK9WdSPM2w5",
        "colab_type": "code",
        "outputId": "18dd46c3-d827-4955-b448-76162e0e45b7",
        "colab": {
          "base_uri": "https://localhost:8080/",
          "height": 68
        }
      },
      "source": [
        "print(5//2)\n",
        "print(6.3//2)\n",
        "print(8//3.0)"
      ],
      "execution_count": 0,
      "outputs": [
        {
          "output_type": "stream",
          "text": [
            "2\n",
            "3.0\n",
            "2.0\n"
          ],
          "name": "stdout"
        }
      ]
    }
  ]
}