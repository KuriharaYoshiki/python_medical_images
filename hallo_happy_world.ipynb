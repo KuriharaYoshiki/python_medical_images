{
  "nbformat": 4,
  "nbformat_minor": 0,
  "metadata": {
    "colab": {
      "name": "hallo happy world.ipynb",
      "provenance": [],
      "toc_visible": true,
      "authorship_tag": "ABX9TyPf4unE/Q5rMTyUcZxoo3bA",
      "include_colab_link": true
    },
    "kernelspec": {
      "name": "python3",
      "display_name": "Python 3"
    }
  },
  "cells": [
    {
      "cell_type": "markdown",
      "metadata": {
        "id": "view-in-github",
        "colab_type": "text"
      },
      "source": [
        "<a href=\"https://colab.research.google.com/github/KuriharaYoshiki/python_medical_images/blob/master/hallo_happy_world.ipynb\" target=\"_parent\"><img src=\"https://colab.research.google.com/assets/colab-badge.svg\" alt=\"Open In Colab\"/></a>"
      ]
    },
    {
      "cell_type": "markdown",
      "metadata": {
        "id": "xq1E1Qvq_BLQ",
        "colab_type": "text"
      },
      "source": [
        "##第４章　医用画像の標準規格DICOMを理解する"
      ]
    },
    {
      "cell_type": "markdown",
      "metadata": {
        "id": "Lk2ZcXFT_eWh",
        "colab_type": "text"
      },
      "source": [
        "###4.1 はじめに"
      ]
    },
    {
      "cell_type": "code",
      "metadata": {
        "id": "furBLccz_j96",
        "colab_type": "code",
        "colab": {
          "base_uri": "https://localhost:8080/",
          "height": 122
        },
        "outputId": "568b0b98-38c4-4d67-bd84-770ab47cc542"
      },
      "source": [
        "from google.colab import drive\n",
        "drive.mount('/content/drive')"
      ],
      "execution_count": null,
      "outputs": [
        {
          "output_type": "stream",
          "text": [
            "Go to this URL in a browser: https://accounts.google.com/o/oauth2/auth?client_id=947318989803-6bn6qk8qdgf4n4g3pfee6491hc0brc4i.apps.googleusercontent.com&redirect_uri=urn%3aietf%3awg%3aoauth%3a2.0%3aoob&response_type=code&scope=email%20https%3a%2f%2fwww.googleapis.com%2fauth%2fdocs.test%20https%3a%2f%2fwww.googleapis.com%2fauth%2fdrive%20https%3a%2f%2fwww.googleapis.com%2fauth%2fdrive.photos.readonly%20https%3a%2f%2fwww.googleapis.com%2fauth%2fpeopleapi.readonly\n",
            "\n",
            "Enter your authorization code:\n",
            "··········\n",
            "Mounted at /content/drive\n"
          ],
          "name": "stdout"
        }
      ]
    },
    {
      "cell_type": "code",
      "metadata": {
        "id": "uQhwyprjAK8p",
        "colab_type": "code",
        "colab": {
          "base_uri": "https://localhost:8080/",
          "height": 122
        },
        "outputId": "c987c8e0-e0a4-43b5-b373-a8e60712f084"
      },
      "source": [
        "!pip install pydicom"
      ],
      "execution_count": null,
      "outputs": [
        {
          "output_type": "stream",
          "text": [
            "Collecting pydicom\n",
            "\u001b[?25l  Downloading https://files.pythonhosted.org/packages/d3/56/342e1f8ce5afe63bf65c23d0b2c1cd5a05600caad1c211c39725d3a4cc56/pydicom-2.0.0-py3-none-any.whl (35.4MB)\n",
            "\u001b[K     |████████████████████████████████| 35.5MB 106kB/s \n",
            "\u001b[?25hInstalling collected packages: pydicom\n",
            "Successfully installed pydicom-2.0.0\n"
          ],
          "name": "stdout"
        }
      ]
    },
    {
      "cell_type": "markdown",
      "metadata": {
        "id": "6Jyq2r8IAbuu",
        "colab_type": "text"
      },
      "source": [
        "Memo  \n",
        "・PydicomのインストールはColaboratoryのインスタンス起動するたびに行う必要がある"
      ]
    },
    {
      "cell_type": "markdown",
      "metadata": {
        "id": "1WsYogskCjci",
        "colab_type": "text"
      },
      "source": [
        "4.1.1\n"
      ]
    },
    {
      "cell_type": "code",
      "metadata": {
        "id": "CuG7NcJ0A6SP",
        "colab_type": "code",
        "colab": {
          "base_uri": "https://localhost:8080/",
          "height": 1000
        },
        "outputId": "edc24952-2c9c-4f78-b4ad-65a03239de8b"
      },
      "source": [
        "import pydicom\n",
        "from matplotlib import pyplot as plt\n",
        "\n",
        "dcmfnm=\"/content/drive/My Drive/DATASET/dataset/ct_dcmdir/Brain01\"\n",
        "\n",
        "ds=pydicom.dcmread(dcmfnm)\n",
        "\n",
        "print(ds)"
      ],
      "execution_count": null,
      "outputs": [
        {
          "output_type": "stream",
          "text": [
            "Dataset.file_meta -------------------------------\n",
            "(0002, 0000) File Meta Information Group Length  UL: 204\n",
            "(0002, 0001) File Meta Information Version       OB: b'\\x00\\x01'\n",
            "(0002, 0002) Media Storage SOP Class UID         UI: CT Image Storage\n",
            "(0002, 0003) Media Storage SOP Instance UID      UI: 1.2.392.200036.9116.2.6.1.16.1613469034.1289543971.629951\n",
            "(0002, 0010) Transfer Syntax UID                 UI: Explicit VR Little Endian\n",
            "(0002, 0012) Implementation Class UID            UI: 1.2.392.200036.9116.2.6.1.100\n",
            "(0002, 0013) Implementation Version Name         SH: 'TM_CT_CMW_V3.00'\n",
            "-------------------------------------------------\n",
            "(0008, 0008) Image Type                          CS: ['ORIGINAL', 'PRIMARY', 'AXIAL']\n",
            "(0008, 0016) SOP Class UID                       UI: CT Image Storage\n",
            "(0008, 0018) SOP Instance UID                    UI: 1.2.392.200036.9116.2.6.1.16.1613469034.1289543971.629951\n",
            "(0008, 0020) Study Date                          DA: '20101112'\n",
            "(0008, 0021) Series Date                         DA: '20101112'\n",
            "(0008, 0022) Acquisition Date                    DA: '20101112'\n",
            "(0008, 0023) Content Date                        DA: '20101112'\n",
            "(0008, 0030) Study Time                          TM: '153820.000'\n",
            "(0008, 0031) Series Time                         TM: '153848.921'\n",
            "(0008, 0032) Acquisition Time                    TM: '153926.300'\n",
            "(0008, 0033) Content Time                        TM: '153926.300'\n",
            "(0008, 0050) Accession Number                    SH: '838'\n",
            "(0008, 0060) Modality                            CS: 'CT'\n",
            "(0008, 0070) Manufacturer                        LO: 'TOSHIBA'\n",
            "(0008, 0080) Institution Name                    LO: 'JOHO HOSPITAL'\n",
            "(0008, 0090) Referring Physician's Name          PN: ''\n",
            "(0008, 1010) Station Name                        SH: 'ID_STATION'\n",
            "(0008, 103e) Series Description                  LO: ',,Axial,8.0,,,'\n",
            "(0008, 1040) Institutional Department Name       LO: 'ID_DEPARTMENT'\n",
            "(0008, 1090) Manufacturer's Model Name           LO: 'Aquilion'\n",
            "(0010, 0010) Patient's Name                      PN: 'Joho^Taro'\n",
            "(0010, 0020) Patient ID                          LO: '12345678'\n",
            "(0010, 0030) Patient's Birth Date                DA: '19570412'\n",
            "(0010, 0040) Patient's Sex                       CS: 'M'\n",
            "(0010, 1010) Patient's Age                       AS: '053Y'\n",
            "(0018, 0015) Body Part Examined                  CS: 'HEAD'\n",
            "(0018, 0022) Scan Options                        CS: 'NORMAL_CT'\n",
            "(0018, 0050) Slice Thickness                     DS: \"8.0\"\n",
            "(0018, 0060) KVP                                 DS: \"120.0\"\n",
            "(0018, 0090) Data Collection Diameter            DS: \"240.0\"\n",
            "(0018, 1000) Device Serial Number                LO: 'GLE09Z3578'\n",
            "(0018, 1020) Software Versions                   LO: 'V3.36JR005'\n",
            "(0018, 1100) Reconstruction Diameter             DS: \"240.0\"\n",
            "(0018, 1120) Gantry/Detector Tilt                DS: \"3.5\"\n",
            "(0018, 1130) Table Height                        DS: \"30.0\"\n",
            "(0018, 1140) Rotation Direction                  CS: 'CW'\n",
            "(0018, 1150) Exposure Time                       IS: \"1500\"\n",
            "(0018, 1151) X-Ray Tube Current                  IS: \"250\"\n",
            "(0018, 1152) Exposure                            IS: \"375\"\n",
            "(0018, 1170) Generator Power                     IS: \"30\"\n",
            "(0018, 1210) Convolution Kernel                  SH: 'FC21'\n",
            "(0018, 5100) Patient Position                    CS: 'HFS'\n",
            "(0018, 9345) CTDIvol                             FD: 93.2\n",
            "(0020, 000d) Study Instance UID                  UI: 1.2.392.200036.9116.2.6.1.16.1613469034.1289543900.390492\n",
            "(0020, 000e) Series Instance UID                 UI: 1.2.392.200036.9116.2.6.1.16.1613469034.1289543929.202106\n",
            "(0020, 0010) Study ID                            SH: '838'\n",
            "(0020, 0011) Series Number                       IS: \"1\"\n",
            "(0020, 0012) Acquisition Number                  IS: \"17\"\n",
            "(0020, 0013) Instance Number                     IS: \"17\"\n",
            "(0020, 0020) Patient Orientation                 CS: ['L', 'P']\n",
            "(0020, 0032) Image Position (Patient)            DS: [-120.000, -119.7761, -462.6741]\n",
            "(0020, 0037) Image Orientation (Patient)         DS: [1.00000, 0.00000, 0.00000, 0.00000, 0.99813, -0.06105]\n",
            "(0020, 0052) Frame of Reference UID              UI: 1.2.392.200036.9116.2.6.1.16.1613469034.1289543900.391302\n",
            "(0020, 1040) Position Reference Indicator        LO: ''\n",
            "(0020, 1041) Slice Location                      DS: \"430.0\"\n",
            "(0028, 0002) Samples per Pixel                   US: 1\n",
            "(0028, 0004) Photometric Interpretation          CS: 'MONOCHROME2'\n",
            "(0028, 0010) Rows                                US: 512\n",
            "(0028, 0011) Columns                             US: 512\n",
            "(0028, 0030) Pixel Spacing                       DS: [0.468, 0.468]\n",
            "(0028, 0100) Bits Allocated                      US: 16\n",
            "(0028, 0101) Bits Stored                         US: 16\n",
            "(0028, 0102) High Bit                            US: 15\n",
            "(0028, 0103) Pixel Representation                US: 1\n",
            "(0028, 1050) Window Center                       DS: \"40.0\"\n",
            "(0028, 1051) Window Width                        DS: \"80.0\"\n",
            "(0028, 1052) Rescale Intercept                   DS: \"0.0\"\n",
            "(0028, 1053) Rescale Slope                       DS: \"1.0\"\n",
            "(0040, 0002) Scheduled Procedure Step Start Date DA: '20101112'\n",
            "(0040, 0003) Scheduled Procedure Step Start Time TM: '153820.000'\n",
            "(0040, 0004) Scheduled Procedure Step End Date   DA: '20101112'\n",
            "(0040, 0005) Scheduled Procedure Step End Time   TM: '160820.000'\n",
            "(0040, 0244) Performed Procedure Step Start Date DA: '20101112'\n",
            "(0040, 0245) Performed Procedure Step Start Time TM: '153820.000'\n",
            "(0040, 0253) Performed Procedure Step ID         SH: '839'\n",
            "(7005, 0010) Private Creator                     LO: 'TOSHIBA_MEC_CT3'\n",
            "(7005, 1008) [Detector Slice Thickness in mm]    DS: \"2.0\"\n",
            "(7005, 1009) [Number of Detector rows to Reconst LO: '0000001111000000'\n",
            "(7005, 100b) [Filter]                            SH: 'ORG'\n",
            "(7005, 100d) [Organ]                             SH: 'HEAD'\n",
            "(7005, 100e) [File Type Remarks]                 SH: 'IMG'\n",
            "(7005, 100f) [Direction]                         SH: 'HF'\n",
            "(7005, 1012) [Position]                          SH: 'SU'\n",
            "(7005, 1013) [Expert Plan No.]                   US: 1\n",
            "(7005, 1016) [Volume UID]                        UI: 1.2.392.200036.9116.2.6.1.16.1613469034.1289543971.630824\n",
            "(7005, 1017) [Total Frame Count in the Volume]   US: 1\n",
            "(7005, 1018) [Frame No.]                         US: 1\n",
            "(7005, 1019) [Frame Sort Key]                    UL: 1642763\n",
            "(7005, 101a) [Frame Sort Order]                  US: 0\n",
            "(7005, 101b) [Convolution Kernel]                SH: 'FC21'\n",
            "(7005, 101d) [Reconstruction Number]             UL: 1\n",
            "(7005, 101e) [Raw Data Number]                   UL: 0\n",
            "(7005, 101f) [Volume Number]                     LO: '00'\n",
            "(7005, 1020) [Local Series Number]               UL: 1\n",
            "(7005, 1024) [The Acquisition Date of NRA]       DA: '20101111'\n",
            "(7005, 1030) [Main Modality in Study]            CS: 'CT'\n",
            "(7005, 1040) [DLP Dose Length Product]           FD: 74.6\n",
            "(7fe0, 0010) Pixel Data                          OW: Array of 524288 elements\n"
          ],
          "name": "stdout"
        }
      ]
    },
    {
      "cell_type": "markdown",
      "metadata": {
        "id": "q1SZq7O0BmbZ",
        "colab_type": "text"
      },
      "source": [
        "Memo  \n",
        "・前の4桁：グループ番号  \n",
        "・後の4桁：エレメント番号"
      ]
    },
    {
      "cell_type": "markdown",
      "metadata": {
        "id": "GGbZNPAYCauS",
        "colab_type": "text"
      },
      "source": [
        "4.1.2"
      ]
    },
    {
      "cell_type": "code",
      "metadata": {
        "id": "gTXw1tplDTBc",
        "colab_type": "code",
        "colab": {
          "base_uri": "https://localhost:8080/",
          "height": 85
        },
        "outputId": "feb05728-1a9b-44ef-a40f-9c62d583562a"
      },
      "source": [
        "pn=ds.PatientName\n",
        "wc=ds.WindowCenter\n",
        "ww=ds.WindowWidth\n",
        "img=ds.pixel_array\n",
        "print(\"PatientName:\",pn)\n",
        "print(\"wc=\",wc)\n",
        "print(\"ww=\",ww)\n",
        "print(type(img))"
      ],
      "execution_count": null,
      "outputs": [
        {
          "output_type": "stream",
          "text": [
            "PatientName: Joho^Taro\n",
            "wc= 40\n",
            "ww= 80\n",
            "<class 'numpy.ndarray'>\n"
          ],
          "name": "stdout"
        }
      ]
    },
    {
      "cell_type": "markdown",
      "metadata": {
        "id": "DkBNryhJD74t",
        "colab_type": "text"
      },
      "source": [
        "Memo  \n",
        "・キーワードには空白を含まないこと"
      ]
    },
    {
      "cell_type": "markdown",
      "metadata": {
        "id": "oc0459zNEJe8",
        "colab_type": "text"
      },
      "source": [
        "4.1.3"
      ]
    },
    {
      "cell_type": "code",
      "metadata": {
        "id": "GPHxxEKEEMwc",
        "colab_type": "code",
        "colab": {
          "base_uri": "https://localhost:8080/",
          "height": 303
        },
        "outputId": "dea8b069-8ed2-4faa-9f01-478c6524fa25"
      },
      "source": [
        "max=wc+ww/2\n",
        "min=wc-ww/2\n",
        "print(\"max=\",max)\n",
        "print(\"min=\",min)\n",
        "\n",
        "plt.imshow(img,cmap='gray',vmax=max,vmin=min)\n",
        "plt.show()"
      ],
      "execution_count": null,
      "outputs": [
        {
          "output_type": "stream",
          "text": [
            "max= 80.0\n",
            "min= 0.0\n"
          ],
          "name": "stdout"
        },
        {
          "output_type": "display_data",
          "data": {
            "image/png": "[encoded data removed]",
            "text/plain": [
              "<Figure size 432x288 with 1 Axes>"
            ]
          },
          "metadata": {
            "tags": [],
            "needs_background": "light"
          }
        }
      ]
    },
    {
      "cell_type": "markdown",
      "metadata": {
        "id": "gTkGMBNBEtQY",
        "colab_type": "text"
      },
      "source": [
        "###4.2 DICOMとPydicom"
      ]
    },
    {
      "cell_type": "markdown",
      "metadata": {
        "id": "p2_ezoouSvdV",
        "colab_type": "text"
      },
      "source": [
        "Memo  \n",
        "・VR(Value Representation)  \n",
        "　値表現という  \n",
        "　VF(Value Field)に格納されている情報の形式や長さを2文字  \n",
        "　(2バイト)のコードで表現  \n",
        "・VL(Value Length)  \n",
        "　VFに記載されている情報の長さが記述されている  \n",
        "・IOD(Information Object Definition)  \n",
        "　データエレメントの構成はモダリティごとに必要な情報の集合に  \n",
        "　より組み合わされる  \n",
        "・SOPインスタンスUIDの変更はリスクを伴うことを十分に認識  \n",
        "\n"
      ]
    },
    {
      "cell_type": "markdown",
      "metadata": {
        "id": "v9g83mHJX_Nd",
        "colab_type": "text"
      },
      "source": [
        "4.2.1"
      ]
    },
    {
      "cell_type": "code",
      "metadata": {
        "id": "GMaWbzxQYAmu",
        "colab_type": "code",
        "colab": {
          "base_uri": "https://localhost:8080/",
          "height": 102
        },
        "outputId": "b1ec3005-f3a9-4407-a185-c8a1849c1ef3"
      },
      "source": [
        "import os\n",
        "import pydicom\n",
        "from pydicom.tag import Tag\n",
        "\n",
        "dcmfnm=\"/content/drive/My Drive/DATASET/dataset/ct_dcmdir/Brain01\"\n",
        "ds=pydicom.dcmread(dcmfnm)\n",
        "\n",
        "print(\"SOP Instance UID   :\",Tag(\"SOPInstanceUID\"), ds.SOPInstanceUID)\n",
        "print(\"Study Date         :\",Tag(\"StudyDate\"),      ds.StudyDate)\n",
        "print(\"Study Time         :\",Tag(\"StudyTime\"),      ds.StudyTime)\n",
        "print(\"アクセッション番号 :\",Tag(\"AccessionNumber\"),ds.AccessionNumber)\n",
        "print(\"画像診断装置       :\",Tag(\"Modality\"),       ds.Modality)"
      ],
      "execution_count": null,
      "outputs": [
        {
          "output_type": "stream",
          "text": [
            "SOP Instance UID   : (0008, 0018) 1.2.392.200036.9116.2.6.1.16.1613469034.1289543971.629951\n",
            "Study Date         : (0008, 0020) 20101112\n",
            "Study Time         : (0008, 0030) 153820.000\n",
            "アクセッション番号 : (0008, 0050) 838\n",
            "画像診断装置       : (0008, 0060) CT\n"
          ],
          "name": "stdout"
        }
      ]
    },
    {
      "cell_type": "markdown",
      "metadata": {
        "id": "EGPvXRgLaxaq",
        "colab_type": "text"
      },
      "source": [
        "4.2.2"
      ]
    },
    {
      "cell_type": "code",
      "metadata": {
        "id": "Zf5orp6jcPuA",
        "colab_type": "code",
        "colab": {
          "base_uri": "https://localhost:8080/",
          "height": 102
        },
        "outputId": "297bbdc4-5d50-4589-a541-bf85f28a0fe7"
      },
      "source": [
        "print(\"患者名         :\",Tag(\"PatientName\"),ds.PatientName)\n",
        "print(\"患者ID         :\",Tag(\"PatientID\"),ds.PatientID)\n",
        "print(\"検査部位       :\",Tag(\"BodyPartExamined\"),ds.BodyPartExamined)\n",
        "print(\"スライス厚     :\",Tag(\"SliceThickness\"),ds.SliceThickness)\n",
        "print(\"画像再構成関数 :\",Tag(\"ConvolutionKernel\"),ds.ConvolutionKernel)"
      ],
      "execution_count": null,
      "outputs": [
        {
          "output_type": "stream",
          "text": [
            "患者名         : (0010, 0010) Joho^Taro\n",
            "患者ID         : (0010, 0020) 12345678\n",
            "検査部位       : (0018, 0015) HEAD\n",
            "スライス厚     : (0018, 0050) 8.0\n",
            "画像再構成関数 : (0018, 1210) FC21\n"
          ],
          "name": "stdout"
        }
      ]
    },
    {
      "cell_type": "markdown",
      "metadata": {
        "id": "VhJvldyCdZEb",
        "colab_type": "text"
      },
      "source": [
        "4.2.3\n"
      ]
    },
    {
      "cell_type": "code",
      "metadata": {
        "id": "Ixu-qn4Ud3jy",
        "colab_type": "code",
        "colab": {
          "base_uri": "https://localhost:8080/",
          "height": 136
        },
        "outputId": "6619900b-077a-4529-98c4-ec92ce1dfd20"
      },
      "source": [
        "print(\"Study Instance UID      :\",Tag(\"StudyInstanceUID\"),ds.StudyInstanceUID)\n",
        "print(\"Series Instance UID     :\",Tag(\"SeriesInstanceUID\"),ds.SeriesInstanceUID)\n",
        "print(\"Series Number           :\",Tag(\"SeriesNumber\"),ds.SeriesNumber)\n",
        "print(\"Image Position(Patient) :\",Tag(\"ImagePositionPatient\"),ds.ImagePositionPatient)\n",
        "print(\"Acquisition Number      :\",Tag(\"AcquisitionNumber\"),ds.AcquisitionNumber)\n",
        "print(\"Instance Number         :\",Tag(\"InstanceNumber\"),ds.InstanceNumber)\n",
        "print(\"Slice Location          :\",Tag(\"SliceLocation\"),ds.SliceLocation)"
      ],
      "execution_count": null,
      "outputs": [
        {
          "output_type": "stream",
          "text": [
            "Study Instance UID      : (0020, 000d) 1.2.392.200036.9116.2.6.1.16.1613469034.1289543900.390492\n",
            "Series Instance UID     : (0020, 000e) 1.2.392.200036.9116.2.6.1.16.1613469034.1289543929.202106\n",
            "Series Number           : (0020, 0011) 1\n",
            "Image Position(Patient) : (0020, 0032) [-120.000, -119.7761, -462.6741]\n",
            "Acquisition Number      : (0020, 0012) 17\n",
            "Instance Number         : (0020, 0013) 17\n",
            "Slice Location          : (0020, 1041) +430.00\n"
          ],
          "name": "stdout"
        }
      ]
    },
    {
      "cell_type": "markdown",
      "metadata": {
        "id": "GvScPwxngRaX",
        "colab_type": "text"
      },
      "source": [
        "4.2.4"
      ]
    },
    {
      "cell_type": "code",
      "metadata": {
        "id": "VI_bVIK_gY-J",
        "colab_type": "code",
        "colab": {
          "base_uri": "https://localhost:8080/",
          "height": 221
        },
        "outputId": "a2c2c301-5909-4de9-866f-9c4efe820662"
      },
      "source": [
        "print(\"光度測定解釈         :\",Tag(\"PhotometricInterpretation\"),ds.PhotometricInterpretation)\n",
        "print(\"画像の行列(高さ)     :\",Tag(\"Rows\"),ds.Rows)\n",
        "print(\"画像の列数(幅)       :\",Tag(\"Columns\"),ds.Columns)\n",
        "print(\"画素間隔             :\",Tag(\"PixelSpacing\"),ds.PixelSpacing)\n",
        "print(\"Bits Allocated       :\",Tag(\"BitsAllocated\"),ds.BitsAllocated)\n",
        "print(\"Bits Stored          :\",Tag(\"BitsStored\"),ds.BitsStored)\n",
        "print(\"High Bit             :\",Tag(\"HighBit\"),ds.HighBit)\n",
        "print(\"Pixel Representation :\",Tag(\"PixelRepresentation\"),ds.PixelRepresentation)\n",
        "print(\"Window Center        :\",Tag(\"WindowCenter\"),ds.WindowCenter)\n",
        "print(\"Window Width         :\",Tag(\"WindowWidth\"),ds.WindowWidth)\n",
        "print(\"Rescale Intercept    :\",Tag(\"RescaleIntercept\"),ds.RescaleIntercept)\n",
        "print(\"Rescale Slope        :\",Tag(\"RescaleSlope\"),ds.RescaleSlope)"
      ],
      "execution_count": null,
      "outputs": [
        {
          "output_type": "stream",
          "text": [
            "光度測定解釈         : (0028, 0004) MONOCHROME2\n",
            "画像の行列(高さ)     : (0028, 0010) 512\n",
            "画像の列数(幅)       : (0028, 0011) 512\n",
            "画素間隔             : (0028, 0030) [0.468, 0.468]\n",
            "Bits Allocated       : (0028, 0100) 16\n",
            "Bits Stored          : (0028, 0101) 16\n",
            "High Bit             : (0028, 0102) 15\n",
            "Pixel Representation : (0028, 0103) 1\n",
            "Window Center        : (0028, 1050) 40\n",
            "Window Width         : (0028, 1051) 80\n",
            "Rescale Intercept    : (0028, 1052) 0\n",
            "Rescale Slope        : (0028, 1053) 1\n"
          ],
          "name": "stdout"
        }
      ]
    },
    {
      "cell_type": "markdown",
      "metadata": {
        "id": "w2z9y1qXk1Ia",
        "colab_type": "text"
      },
      "source": [
        "###4.3 2つのDICOM画像のデータエレメントを比較する"
      ]
    },
    {
      "cell_type": "markdown",
      "metadata": {
        "id": "FOqopyTynhSA",
        "colab_type": "text"
      },
      "source": [
        "4.3.1\n"
      ]
    },
    {
      "cell_type": "code",
      "metadata": {
        "id": "6py_jBM0njoA",
        "colab_type": "code",
        "colab": {
          "base_uri": "https://localhost:8080/",
          "height": 1000
        },
        "outputId": "a906716d-244d-4075-d725-2b25bde8ada8"
      },
      "source": [
        "import pydicom\n",
        "\n",
        "fnm1=\"/content/drive/My Drive/DATASET/dataset/ct_dcmdir/Brain01\"\n",
        "fnm2=\"/content/drive/My Drive/DATASET/dataset/ct_dcmdir/Lung01\"\n",
        "\n",
        "ds1=pydicom.dcmread(fnm1)\n",
        "print(ds1)"
      ],
      "execution_count": null,
      "outputs": [
        {
          "output_type": "stream",
          "text": [
            "Dataset.file_meta -------------------------------\n",
            "(0002, 0000) File Meta Information Group Length  UL: 204\n",
            "(0002, 0001) File Meta Information Version       OB: b'\\x00\\x01'\n",
            "(0002, 0002) Media Storage SOP Class UID         UI: CT Image Storage\n",
            "(0002, 0003) Media Storage SOP Instance UID      UI: 1.2.392.200036.9116.2.6.1.16.1613469034.1289543971.629951\n",
            "(0002, 0010) Transfer Syntax UID                 UI: Explicit VR Little Endian\n",
            "(0002, 0012) Implementation Class UID            UI: 1.2.392.200036.9116.2.6.1.100\n",
            "(0002, 0013) Implementation Version Name         SH: 'TM_CT_CMW_V3.00'\n",
            "-------------------------------------------------\n",
            "(0008, 0008) Image Type                          CS: ['ORIGINAL', 'PRIMARY', 'AXIAL']\n",
            "(0008, 0016) SOP Class UID                       UI: CT Image Storage\n",
            "(0008, 0018) SOP Instance UID                    UI: 1.2.392.200036.9116.2.6.1.16.1613469034.1289543971.629951\n",
            "(0008, 0020) Study Date                          DA: '20101112'\n",
            "(0008, 0021) Series Date                         DA: '20101112'\n",
            "(0008, 0022) Acquisition Date                    DA: '20101112'\n",
            "(0008, 0023) Content Date                        DA: '20101112'\n",
            "(0008, 0030) Study Time                          TM: '153820.000'\n",
            "(0008, 0031) Series Time                         TM: '153848.921'\n",
            "(0008, 0032) Acquisition Time                    TM: '153926.300'\n",
            "(0008, 0033) Content Time                        TM: '153926.300'\n",
            "(0008, 0050) Accession Number                    SH: '838'\n",
            "(0008, 0060) Modality                            CS: 'CT'\n",
            "(0008, 0070) Manufacturer                        LO: 'TOSHIBA'\n",
            "(0008, 0080) Institution Name                    LO: 'JOHO HOSPITAL'\n",
            "(0008, 0090) Referring Physician's Name          PN: ''\n",
            "(0008, 1010) Station Name                        SH: 'ID_STATION'\n",
            "(0008, 103e) Series Description                  LO: ',,Axial,8.0,,,'\n",
            "(0008, 1040) Institutional Department Name       LO: 'ID_DEPARTMENT'\n",
            "(0008, 1090) Manufacturer's Model Name           LO: 'Aquilion'\n",
            "(0010, 0010) Patient's Name                      PN: 'Joho^Taro'\n",
            "(0010, 0020) Patient ID                          LO: '12345678'\n",
            "(0010, 0030) Patient's Birth Date                DA: '19570412'\n",
            "(0010, 0040) Patient's Sex                       CS: 'M'\n",
            "(0010, 1010) Patient's Age                       AS: '053Y'\n",
            "(0018, 0015) Body Part Examined                  CS: 'HEAD'\n",
            "(0018, 0022) Scan Options                        CS: 'NORMAL_CT'\n",
            "(0018, 0050) Slice Thickness                     DS: \"8.0\"\n",
            "(0018, 0060) KVP                                 DS: \"120.0\"\n",
            "(0018, 0090) Data Collection Diameter            DS: \"240.0\"\n",
            "(0018, 1000) Device Serial Number                LO: 'GLE09Z3578'\n",
            "(0018, 1020) Software Versions                   LO: 'V3.36JR005'\n",
            "(0018, 1100) Reconstruction Diameter             DS: \"240.0\"\n",
            "(0018, 1120) Gantry/Detector Tilt                DS: \"3.5\"\n",
            "(0018, 1130) Table Height                        DS: \"30.0\"\n",
            "(0018, 1140) Rotation Direction                  CS: 'CW'\n",
            "(0018, 1150) Exposure Time                       IS: \"1500\"\n",
            "(0018, 1151) X-Ray Tube Current                  IS: \"250\"\n",
            "(0018, 1152) Exposure                            IS: \"375\"\n",
            "(0018, 1170) Generator Power                     IS: \"30\"\n",
            "(0018, 1210) Convolution Kernel                  SH: 'FC21'\n",
            "(0018, 5100) Patient Position                    CS: 'HFS'\n",
            "(0018, 9345) CTDIvol                             FD: 93.2\n",
            "(0020, 000d) Study Instance UID                  UI: 1.2.392.200036.9116.2.6.1.16.1613469034.1289543900.390492\n",
            "(0020, 000e) Series Instance UID                 UI: 1.2.392.200036.9116.2.6.1.16.1613469034.1289543929.202106\n",
            "(0020, 0010) Study ID                            SH: '838'\n",
            "(0020, 0011) Series Number                       IS: \"1\"\n",
            "(0020, 0012) Acquisition Number                  IS: \"17\"\n",
            "(0020, 0013) Instance Number                     IS: \"17\"\n",
            "(0020, 0020) Patient Orientation                 CS: ['L', 'P']\n",
            "(0020, 0032) Image Position (Patient)            DS: [-120.000, -119.7761, -462.6741]\n",
            "(0020, 0037) Image Orientation (Patient)         DS: [1.00000, 0.00000, 0.00000, 0.00000, 0.99813, -0.06105]\n",
            "(0020, 0052) Frame of Reference UID              UI: 1.2.392.200036.9116.2.6.1.16.1613469034.1289543900.391302\n",
            "(0020, 1040) Position Reference Indicator        LO: ''\n",
            "(0020, 1041) Slice Location                      DS: \"430.0\"\n",
            "(0028, 0002) Samples per Pixel                   US: 1\n",
            "(0028, 0004) Photometric Interpretation          CS: 'MONOCHROME2'\n",
            "(0028, 0010) Rows                                US: 512\n",
            "(0028, 0011) Columns                             US: 512\n",
            "(0028, 0030) Pixel Spacing                       DS: [0.468, 0.468]\n",
            "(0028, 0100) Bits Allocated                      US: 16\n",
            "(0028, 0101) Bits Stored                         US: 16\n",
            "(0028, 0102) High Bit                            US: 15\n",
            "(0028, 0103) Pixel Representation                US: 1\n",
            "(0028, 1050) Window Center                       DS: \"40.0\"\n",
            "(0028, 1051) Window Width                        DS: \"80.0\"\n",
            "(0028, 1052) Rescale Intercept                   DS: \"0.0\"\n",
            "(0028, 1053) Rescale Slope                       DS: \"1.0\"\n",
            "(0040, 0002) Scheduled Procedure Step Start Date DA: '20101112'\n",
            "(0040, 0003) Scheduled Procedure Step Start Time TM: '153820.000'\n",
            "(0040, 0004) Scheduled Procedure Step End Date   DA: '20101112'\n",
            "(0040, 0005) Scheduled Procedure Step End Time   TM: '160820.000'\n",
            "(0040, 0244) Performed Procedure Step Start Date DA: '20101112'\n",
            "(0040, 0245) Performed Procedure Step Start Time TM: '153820.000'\n",
            "(0040, 0253) Performed Procedure Step ID         SH: '839'\n",
            "(7005, 0010) Private Creator                     LO: 'TOSHIBA_MEC_CT3'\n",
            "(7005, 1008) [Detector Slice Thickness in mm]    DS: \"2.0\"\n",
            "(7005, 1009) [Number of Detector rows to Reconst LO: '0000001111000000'\n",
            "(7005, 100b) [Filter]                            SH: 'ORG'\n",
            "(7005, 100d) [Organ]                             SH: 'HEAD'\n",
            "(7005, 100e) [File Type Remarks]                 SH: 'IMG'\n",
            "(7005, 100f) [Direction]                         SH: 'HF'\n",
            "(7005, 1012) [Position]                          SH: 'SU'\n",
            "(7005, 1013) [Expert Plan No.]                   US: 1\n",
            "(7005, 1016) [Volume UID]                        UI: 1.2.392.200036.9116.2.6.1.16.1613469034.1289543971.630824\n",
            "(7005, 1017) [Total Frame Count in the Volume]   US: 1\n",
            "(7005, 1018) [Frame No.]                         US: 1\n",
            "(7005, 1019) [Frame Sort Key]                    UL: 1642763\n",
            "(7005, 101a) [Frame Sort Order]                  US: 0\n",
            "(7005, 101b) [Convolution Kernel]                SH: 'FC21'\n",
            "(7005, 101d) [Reconstruction Number]             UL: 1\n",
            "(7005, 101e) [Raw Data Number]                   UL: 0\n",
            "(7005, 101f) [Volume Number]                     LO: '00'\n",
            "(7005, 1020) [Local Series Number]               UL: 1\n",
            "(7005, 1024) [The Acquisition Date of NRA]       DA: '20101111'\n",
            "(7005, 1030) [Main Modality in Study]            CS: 'CT'\n",
            "(7005, 1040) [DLP Dose Length Product]           FD: 74.6\n",
            "(7fe0, 0010) Pixel Data                          OW: Array of 524288 elements\n"
          ],
          "name": "stdout"
        }
      ]
    },
    {
      "cell_type": "markdown",
      "metadata": {
        "id": "antyVXmaodXB",
        "colab_type": "text"
      },
      "source": [
        "4.3.2"
      ]
    },
    {
      "cell_type": "code",
      "metadata": {
        "id": "kmAv6P1DokhU",
        "colab_type": "code",
        "colab": {
          "base_uri": "https://localhost:8080/",
          "height": 1000
        },
        "outputId": "20cdce59-81c4-4e1f-fcb1-e4a82a4fc841"
      },
      "source": [
        "allTag=[]\n",
        "for i,tag in enumerate(ds1):\n",
        "  tg=str(tag) #DataElement->String\n",
        "  print(i,\">1>tag type=\",type(tag))\n",
        "  print(\"   -->tg type=\",type(tg))\n",
        "  grpelm=tg[:12]\n",
        "  print(\"\\t>>>>#\",i,\":\",grpelm)\n",
        "  allTag+=[grpelm]\n",
        "print(\">1>len=\",len(allTag))\n",
        "print(allTag)"
      ],
      "execution_count": null,
      "outputs": [
        {
          "output_type": "stream",
          "text": [
            "0 >1>tag type= <class 'pydicom.dataelem.DataElement'>\n",
            "   -->tg type= <class 'str'>\n",
            "\t>>>># 0 : (0008, 0008)\n",
            "1 >1>tag type= <class 'pydicom.dataelem.DataElement'>\n",
            "   -->tg type= <class 'str'>\n",
            "\t>>>># 1 : (0008, 0016)\n",
            "2 >1>tag type= <class 'pydicom.dataelem.DataElement'>\n",
            "   -->tg type= <class 'str'>\n",
            "\t>>>># 2 : (0008, 0018)\n",
            "3 >1>tag type= <class 'pydicom.dataelem.DataElement'>\n",
            "   -->tg type= <class 'str'>\n",
            "\t>>>># 3 : (0008, 0020)\n",
            "4 >1>tag type= <class 'pydicom.dataelem.DataElement'>\n",
            "   -->tg type= <class 'str'>\n",
            "\t>>>># 4 : (0008, 0021)\n",
            "5 >1>tag type= <class 'pydicom.dataelem.DataElement'>\n",
            "   -->tg type= <class 'str'>\n",
            "\t>>>># 5 : (0008, 0022)\n",
            "6 >1>tag type= <class 'pydicom.dataelem.DataElement'>\n",
            "   -->tg type= <class 'str'>\n",
            "\t>>>># 6 : (0008, 0023)\n",
            "7 >1>tag type= <class 'pydicom.dataelem.DataElement'>\n",
            "   -->tg type= <class 'str'>\n",
            "\t>>>># 7 : (0008, 0030)\n",
            "8 >1>tag type= <class 'pydicom.dataelem.DataElement'>\n",
            "   -->tg type= <class 'str'>\n",
            "\t>>>># 8 : (0008, 0031)\n",
            "9 >1>tag type= <class 'pydicom.dataelem.DataElement'>\n",
            "   -->tg type= <class 'str'>\n",
            "\t>>>># 9 : (0008, 0032)\n",
            "10 >1>tag type= <class 'pydicom.dataelem.DataElement'>\n",
            "   -->tg type= <class 'str'>\n",
            "\t>>>># 10 : (0008, 0033)\n",
            "11 >1>tag type= <class 'pydicom.dataelem.DataElement'>\n",
            "   -->tg type= <class 'str'>\n",
            "\t>>>># 11 : (0008, 0050)\n",
            "12 >1>tag type= <class 'pydicom.dataelem.DataElement'>\n",
            "   -->tg type= <class 'str'>\n",
            "\t>>>># 12 : (0008, 0060)\n",
            "13 >1>tag type= <class 'pydicom.dataelem.DataElement'>\n",
            "   -->tg type= <class 'str'>\n",
            "\t>>>># 13 : (0008, 0070)\n",
            "14 >1>tag type= <class 'pydicom.dataelem.DataElement'>\n",
            "   -->tg type= <class 'str'>\n",
            "\t>>>># 14 : (0008, 0080)\n",
            "15 >1>tag type= <class 'pydicom.dataelem.DataElement'>\n",
            "   -->tg type= <class 'str'>\n",
            "\t>>>># 15 : (0008, 0090)\n",
            "16 >1>tag type= <class 'pydicom.dataelem.DataElement'>\n",
            "   -->tg type= <class 'str'>\n",
            "\t>>>># 16 : (0008, 1010)\n",
            "17 >1>tag type= <class 'pydicom.dataelem.DataElement'>\n",
            "   -->tg type= <class 'str'>\n",
            "\t>>>># 17 : (0008, 103e)\n",
            "18 >1>tag type= <class 'pydicom.dataelem.DataElement'>\n",
            "   -->tg type= <class 'str'>\n",
            "\t>>>># 18 : (0008, 1040)\n",
            "19 >1>tag type= <class 'pydicom.dataelem.DataElement'>\n",
            "   -->tg type= <class 'str'>\n",
            "\t>>>># 19 : (0008, 1090)\n",
            "20 >1>tag type= <class 'pydicom.dataelem.DataElement'>\n",
            "   -->tg type= <class 'str'>\n",
            "\t>>>># 20 : (0010, 0010)\n",
            "21 >1>tag type= <class 'pydicom.dataelem.DataElement'>\n",
            "   -->tg type= <class 'str'>\n",
            "\t>>>># 21 : (0010, 0020)\n",
            "22 >1>tag type= <class 'pydicom.dataelem.DataElement'>\n",
            "   -->tg type= <class 'str'>\n",
            "\t>>>># 22 : (0010, 0030)\n",
            "23 >1>tag type= <class 'pydicom.dataelem.DataElement'>\n",
            "   -->tg type= <class 'str'>\n",
            "\t>>>># 23 : (0010, 0040)\n",
            "24 >1>tag type= <class 'pydicom.dataelem.DataElement'>\n",
            "   -->tg type= <class 'str'>\n",
            "\t>>>># 24 : (0010, 1010)\n",
            "25 >1>tag type= <class 'pydicom.dataelem.DataElement'>\n",
            "   -->tg type= <class 'str'>\n",
            "\t>>>># 25 : (0018, 0015)\n",
            "26 >1>tag type= <class 'pydicom.dataelem.DataElement'>\n",
            "   -->tg type= <class 'str'>\n",
            "\t>>>># 26 : (0018, 0022)\n",
            "27 >1>tag type= <class 'pydicom.dataelem.DataElement'>\n",
            "   -->tg type= <class 'str'>\n",
            "\t>>>># 27 : (0018, 0050)\n",
            "28 >1>tag type= <class 'pydicom.dataelem.DataElement'>\n",
            "   -->tg type= <class 'str'>\n",
            "\t>>>># 28 : (0018, 0060)\n",
            "29 >1>tag type= <class 'pydicom.dataelem.DataElement'>\n",
            "   -->tg type= <class 'str'>\n",
            "\t>>>># 29 : (0018, 0090)\n",
            "30 >1>tag type= <class 'pydicom.dataelem.DataElement'>\n",
            "   -->tg type= <class 'str'>\n",
            "\t>>>># 30 : (0018, 1000)\n",
            "31 >1>tag type= <class 'pydicom.dataelem.DataElement'>\n",
            "   -->tg type= <class 'str'>\n",
            "\t>>>># 31 : (0018, 1020)\n",
            "32 >1>tag type= <class 'pydicom.dataelem.DataElement'>\n",
            "   -->tg type= <class 'str'>\n",
            "\t>>>># 32 : (0018, 1100)\n",
            "33 >1>tag type= <class 'pydicom.dataelem.DataElement'>\n",
            "   -->tg type= <class 'str'>\n",
            "\t>>>># 33 : (0018, 1120)\n",
            "34 >1>tag type= <class 'pydicom.dataelem.DataElement'>\n",
            "   -->tg type= <class 'str'>\n",
            "\t>>>># 34 : (0018, 1130)\n",
            "35 >1>tag type= <class 'pydicom.dataelem.DataElement'>\n",
            "   -->tg type= <class 'str'>\n",
            "\t>>>># 35 : (0018, 1140)\n",
            "36 >1>tag type= <class 'pydicom.dataelem.DataElement'>\n",
            "   -->tg type= <class 'str'>\n",
            "\t>>>># 36 : (0018, 1150)\n",
            "37 >1>tag type= <class 'pydicom.dataelem.DataElement'>\n",
            "   -->tg type= <class 'str'>\n",
            "\t>>>># 37 : (0018, 1151)\n",
            "38 >1>tag type= <class 'pydicom.dataelem.DataElement'>\n",
            "   -->tg type= <class 'str'>\n",
            "\t>>>># 38 : (0018, 1152)\n",
            "39 >1>tag type= <class 'pydicom.dataelem.DataElement'>\n",
            "   -->tg type= <class 'str'>\n",
            "\t>>>># 39 : (0018, 1170)\n",
            "40 >1>tag type= <class 'pydicom.dataelem.DataElement'>\n",
            "   -->tg type= <class 'str'>\n",
            "\t>>>># 40 : (0018, 1210)\n",
            "41 >1>tag type= <class 'pydicom.dataelem.DataElement'>\n",
            "   -->tg type= <class 'str'>\n",
            "\t>>>># 41 : (0018, 5100)\n",
            "42 >1>tag type= <class 'pydicom.dataelem.DataElement'>\n",
            "   -->tg type= <class 'str'>\n",
            "\t>>>># 42 : (0018, 9345)\n",
            "43 >1>tag type= <class 'pydicom.dataelem.DataElement'>\n",
            "   -->tg type= <class 'str'>\n",
            "\t>>>># 43 : (0020, 000d)\n",
            "44 >1>tag type= <class 'pydicom.dataelem.DataElement'>\n",
            "   -->tg type= <class 'str'>\n",
            "\t>>>># 44 : (0020, 000e)\n",
            "45 >1>tag type= <class 'pydicom.dataelem.DataElement'>\n",
            "   -->tg type= <class 'str'>\n",
            "\t>>>># 45 : (0020, 0010)\n",
            "46 >1>tag type= <class 'pydicom.dataelem.DataElement'>\n",
            "   -->tg type= <class 'str'>\n",
            "\t>>>># 46 : (0020, 0011)\n",
            "47 >1>tag type= <class 'pydicom.dataelem.DataElement'>\n",
            "   -->tg type= <class 'str'>\n",
            "\t>>>># 47 : (0020, 0012)\n",
            "48 >1>tag type= <class 'pydicom.dataelem.DataElement'>\n",
            "   -->tg type= <class 'str'>\n",
            "\t>>>># 48 : (0020, 0013)\n",
            "49 >1>tag type= <class 'pydicom.dataelem.DataElement'>\n",
            "   -->tg type= <class 'str'>\n",
            "\t>>>># 49 : (0020, 0020)\n",
            "50 >1>tag type= <class 'pydicom.dataelem.DataElement'>\n",
            "   -->tg type= <class 'str'>\n",
            "\t>>>># 50 : (0020, 0032)\n",
            "51 >1>tag type= <class 'pydicom.dataelem.DataElement'>\n",
            "   -->tg type= <class 'str'>\n",
            "\t>>>># 51 : (0020, 0037)\n",
            "52 >1>tag type= <class 'pydicom.dataelem.DataElement'>\n",
            "   -->tg type= <class 'str'>\n",
            "\t>>>># 52 : (0020, 0052)\n",
            "53 >1>tag type= <class 'pydicom.dataelem.DataElement'>\n",
            "   -->tg type= <class 'str'>\n",
            "\t>>>># 53 : (0020, 1040)\n",
            "54 >1>tag type= <class 'pydicom.dataelem.DataElement'>\n",
            "   -->tg type= <class 'str'>\n",
            "\t>>>># 54 : (0020, 1041)\n",
            "55 >1>tag type= <class 'pydicom.dataelem.DataElement'>\n",
            "   -->tg type= <class 'str'>\n",
            "\t>>>># 55 : (0028, 0002)\n",
            "56 >1>tag type= <class 'pydicom.dataelem.DataElement'>\n",
            "   -->tg type= <class 'str'>\n",
            "\t>>>># 56 : (0028, 0004)\n",
            "57 >1>tag type= <class 'pydicom.dataelem.DataElement'>\n",
            "   -->tg type= <class 'str'>\n",
            "\t>>>># 57 : (0028, 0010)\n",
            "58 >1>tag type= <class 'pydicom.dataelem.DataElement'>\n",
            "   -->tg type= <class 'str'>\n",
            "\t>>>># 58 : (0028, 0011)\n",
            "59 >1>tag type= <class 'pydicom.dataelem.DataElement'>\n",
            "   -->tg type= <class 'str'>\n",
            "\t>>>># 59 : (0028, 0030)\n",
            "60 >1>tag type= <class 'pydicom.dataelem.DataElement'>\n",
            "   -->tg type= <class 'str'>\n",
            "\t>>>># 60 : (0028, 0100)\n",
            "61 >1>tag type= <class 'pydicom.dataelem.DataElement'>\n",
            "   -->tg type= <class 'str'>\n",
            "\t>>>># 61 : (0028, 0101)\n",
            "62 >1>tag type= <class 'pydicom.dataelem.DataElement'>\n",
            "   -->tg type= <class 'str'>\n",
            "\t>>>># 62 : (0028, 0102)\n",
            "63 >1>tag type= <class 'pydicom.dataelem.DataElement'>\n",
            "   -->tg type= <class 'str'>\n",
            "\t>>>># 63 : (0028, 0103)\n",
            "64 >1>tag type= <class 'pydicom.dataelem.DataElement'>\n",
            "   -->tg type= <class 'str'>\n",
            "\t>>>># 64 : (0028, 1050)\n",
            "65 >1>tag type= <class 'pydicom.dataelem.DataElement'>\n",
            "   -->tg type= <class 'str'>\n",
            "\t>>>># 65 : (0028, 1051)\n",
            "66 >1>tag type= <class 'pydicom.dataelem.DataElement'>\n",
            "   -->tg type= <class 'str'>\n",
            "\t>>>># 66 : (0028, 1052)\n",
            "67 >1>tag type= <class 'pydicom.dataelem.DataElement'>\n",
            "   -->tg type= <class 'str'>\n",
            "\t>>>># 67 : (0028, 1053)\n",
            "68 >1>tag type= <class 'pydicom.dataelem.DataElement'>\n",
            "   -->tg type= <class 'str'>\n",
            "\t>>>># 68 : (0040, 0002)\n",
            "69 >1>tag type= <class 'pydicom.dataelem.DataElement'>\n",
            "   -->tg type= <class 'str'>\n",
            "\t>>>># 69 : (0040, 0003)\n",
            "70 >1>tag type= <class 'pydicom.dataelem.DataElement'>\n",
            "   -->tg type= <class 'str'>\n",
            "\t>>>># 70 : (0040, 0004)\n",
            "71 >1>tag type= <class 'pydicom.dataelem.DataElement'>\n",
            "   -->tg type= <class 'str'>\n",
            "\t>>>># 71 : (0040, 0005)\n",
            "72 >1>tag type= <class 'pydicom.dataelem.DataElement'>\n",
            "   -->tg type= <class 'str'>\n",
            "\t>>>># 72 : (0040, 0244)\n",
            "73 >1>tag type= <class 'pydicom.dataelem.DataElement'>\n",
            "   -->tg type= <class 'str'>\n",
            "\t>>>># 73 : (0040, 0245)\n",
            "74 >1>tag type= <class 'pydicom.dataelem.DataElement'>\n",
            "   -->tg type= <class 'str'>\n",
            "\t>>>># 74 : (0040, 0253)\n",
            "75 >1>tag type= <class 'pydicom.dataelem.DataElement'>\n",
            "   -->tg type= <class 'str'>\n",
            "\t>>>># 75 : (7005, 0010)\n",
            "76 >1>tag type= <class 'pydicom.dataelem.DataElement'>\n",
            "   -->tg type= <class 'str'>\n",
            "\t>>>># 76 : (7005, 1008)\n",
            "77 >1>tag type= <class 'pydicom.dataelem.DataElement'>\n",
            "   -->tg type= <class 'str'>\n",
            "\t>>>># 77 : (7005, 1009)\n",
            "78 >1>tag type= <class 'pydicom.dataelem.DataElement'>\n",
            "   -->tg type= <class 'str'>\n",
            "\t>>>># 78 : (7005, 100b)\n",
            "79 >1>tag type= <class 'pydicom.dataelem.DataElement'>\n",
            "   -->tg type= <class 'str'>\n",
            "\t>>>># 79 : (7005, 100d)\n",
            "80 >1>tag type= <class 'pydicom.dataelem.DataElement'>\n",
            "   -->tg type= <class 'str'>\n",
            "\t>>>># 80 : (7005, 100e)\n",
            "81 >1>tag type= <class 'pydicom.dataelem.DataElement'>\n",
            "   -->tg type= <class 'str'>\n",
            "\t>>>># 81 : (7005, 100f)\n",
            "82 >1>tag type= <class 'pydicom.dataelem.DataElement'>\n",
            "   -->tg type= <class 'str'>\n",
            "\t>>>># 82 : (7005, 1012)\n",
            "83 >1>tag type= <class 'pydicom.dataelem.DataElement'>\n",
            "   -->tg type= <class 'str'>\n",
            "\t>>>># 83 : (7005, 1013)\n",
            "84 >1>tag type= <class 'pydicom.dataelem.DataElement'>\n",
            "   -->tg type= <class 'str'>\n",
            "\t>>>># 84 : (7005, 1016)\n",
            "85 >1>tag type= <class 'pydicom.dataelem.DataElement'>\n",
            "   -->tg type= <class 'str'>\n",
            "\t>>>># 85 : (7005, 1017)\n",
            "86 >1>tag type= <class 'pydicom.dataelem.DataElement'>\n",
            "   -->tg type= <class 'str'>\n",
            "\t>>>># 86 : (7005, 1018)\n",
            "87 >1>tag type= <class 'pydicom.dataelem.DataElement'>\n",
            "   -->tg type= <class 'str'>\n",
            "\t>>>># 87 : (7005, 1019)\n",
            "88 >1>tag type= <class 'pydicom.dataelem.DataElement'>\n",
            "   -->tg type= <class 'str'>\n",
            "\t>>>># 88 : (7005, 101a)\n",
            "89 >1>tag type= <class 'pydicom.dataelem.DataElement'>\n",
            "   -->tg type= <class 'str'>\n",
            "\t>>>># 89 : (7005, 101b)\n",
            "90 >1>tag type= <class 'pydicom.dataelem.DataElement'>\n",
            "   -->tg type= <class 'str'>\n",
            "\t>>>># 90 : (7005, 101d)\n",
            "91 >1>tag type= <class 'pydicom.dataelem.DataElement'>\n",
            "   -->tg type= <class 'str'>\n",
            "\t>>>># 91 : (7005, 101e)\n",
            "92 >1>tag type= <class 'pydicom.dataelem.DataElement'>\n",
            "   -->tg type= <class 'str'>\n",
            "\t>>>># 92 : (7005, 101f)\n",
            "93 >1>tag type= <class 'pydicom.dataelem.DataElement'>\n",
            "   -->tg type= <class 'str'>\n",
            "\t>>>># 93 : (7005, 1020)\n",
            "94 >1>tag type= <class 'pydicom.dataelem.DataElement'>\n",
            "   -->tg type= <class 'str'>\n",
            "\t>>>># 94 : (7005, 1024)\n",
            "95 >1>tag type= <class 'pydicom.dataelem.DataElement'>\n",
            "   -->tg type= <class 'str'>\n",
            "\t>>>># 95 : (7005, 1030)\n",
            "96 >1>tag type= <class 'pydicom.dataelem.DataElement'>\n",
            "   -->tg type= <class 'str'>\n",
            "\t>>>># 96 : (7005, 1040)\n",
            "97 >1>tag type= <class 'pydicom.dataelem.DataElement'>\n",
            "   -->tg type= <class 'str'>\n",
            "\t>>>># 97 : (7fe0, 0010)\n",
            ">1>len= 98\n",
            "['(0008, 0008)', '(0008, 0016)', '(0008, 0018)', '(0008, 0020)', '(0008, 0021)', '(0008, 0022)', '(0008, 0023)', '(0008, 0030)', '(0008, 0031)', '(0008, 0032)', '(0008, 0033)', '(0008, 0050)', '(0008, 0060)', '(0008, 0070)', '(0008, 0080)', '(0008, 0090)', '(0008, 1010)', '(0008, 103e)', '(0008, 1040)', '(0008, 1090)', '(0010, 0010)', '(0010, 0020)', '(0010, 0030)', '(0010, 0040)', '(0010, 1010)', '(0018, 0015)', '(0018, 0022)', '(0018, 0050)', '(0018, 0060)', '(0018, 0090)', '(0018, 1000)', '(0018, 1020)', '(0018, 1100)', '(0018, 1120)', '(0018, 1130)', '(0018, 1140)', '(0018, 1150)', '(0018, 1151)', '(0018, 1152)', '(0018, 1170)', '(0018, 1210)', '(0018, 5100)', '(0018, 9345)', '(0020, 000d)', '(0020, 000e)', '(0020, 0010)', '(0020, 0011)', '(0020, 0012)', '(0020, 0013)', '(0020, 0020)', '(0020, 0032)', '(0020, 0037)', '(0020, 0052)', '(0020, 1040)', '(0020, 1041)', '(0028, 0002)', '(0028, 0004)', '(0028, 0010)', '(0028, 0011)', '(0028, 0030)', '(0028, 0100)', '(0028, 0101)', '(0028, 0102)', '(0028, 0103)', '(0028, 1050)', '(0028, 1051)', '(0028, 1052)', '(0028, 1053)', '(0040, 0002)', '(0040, 0003)', '(0040, 0004)', '(0040, 0005)', '(0040, 0244)', '(0040, 0245)', '(0040, 0253)', '(7005, 0010)', '(7005, 1008)', '(7005, 1009)', '(7005, 100b)', '(7005, 100d)', '(7005, 100e)', '(7005, 100f)', '(7005, 1012)', '(7005, 1013)', '(7005, 1016)', '(7005, 1017)', '(7005, 1018)', '(7005, 1019)', '(7005, 101a)', '(7005, 101b)', '(7005, 101d)', '(7005, 101e)', '(7005, 101f)', '(7005, 1020)', '(7005, 1024)', '(7005, 1030)', '(7005, 1040)', '(7fe0, 0010)']\n"
          ],
          "name": "stdout"
        }
      ]
    },
    {
      "cell_type": "markdown",
      "metadata": {
        "id": "vW-elZTEphsC",
        "colab_type": "text"
      },
      "source": [
        "4.3.3"
      ]
    },
    {
      "cell_type": "code",
      "metadata": {
        "id": "yuMdtpThqqcf",
        "colab_type": "code",
        "colab": {
          "base_uri": "https://localhost:8080/",
          "height": 207
        },
        "outputId": "e69b20a4-893f-4375-d1e6-ada0d9e93887"
      },
      "source": [
        "ds2=pydicom.dcmread(fnm2)\n",
        "for i,tag in enumerate(ds2):\n",
        "  tg=str(tag)\n",
        "  grpelm=tg[:12]\n",
        "  #print(\">2>#\",i,\":\",grpelm)\n",
        "  if grpelm not in allTag:\n",
        "    print(\">2>\",grpelm)\n",
        "    allTag+=[grpelm]\n",
        "print(allTag)\n",
        "print(\">2>len=\",len(allTag))"
      ],
      "execution_count": null,
      "outputs": [
        {
          "output_type": "stream",
          "text": [
            ">2> (0018, 1160)\n",
            ">2> (0018, 9323)\n",
            ">2> (0018, 9324)\n",
            ">2> (7005, 1007)\n",
            ">2> (7005, 100a)\n",
            ">2> (7005, 1021)\n",
            ">2> (7005, 1022)\n",
            ">2> (7005, 1023)\n",
            "['(0008, 0008)', '(0008, 0016)', '(0008, 0018)', '(0008, 0020)', '(0008, 0021)', '(0008, 0022)', '(0008, 0023)', '(0008, 0030)', '(0008, 0031)', '(0008, 0032)', '(0008, 0033)', '(0008, 0050)', '(0008, 0060)', '(0008, 0070)', '(0008, 0080)', '(0008, 0090)', '(0008, 1010)', '(0008, 103e)', '(0008, 1040)', '(0008, 1090)', '(0010, 0010)', '(0010, 0020)', '(0010, 0030)', '(0010, 0040)', '(0010, 1010)', '(0018, 0015)', '(0018, 0022)', '(0018, 0050)', '(0018, 0060)', '(0018, 0090)', '(0018, 1000)', '(0018, 1020)', '(0018, 1100)', '(0018, 1120)', '(0018, 1130)', '(0018, 1140)', '(0018, 1150)', '(0018, 1151)', '(0018, 1152)', '(0018, 1170)', '(0018, 1210)', '(0018, 5100)', '(0018, 9345)', '(0020, 000d)', '(0020, 000e)', '(0020, 0010)', '(0020, 0011)', '(0020, 0012)', '(0020, 0013)', '(0020, 0020)', '(0020, 0032)', '(0020, 0037)', '(0020, 0052)', '(0020, 1040)', '(0020, 1041)', '(0028, 0002)', '(0028, 0004)', '(0028, 0010)', '(0028, 0011)', '(0028, 0030)', '(0028, 0100)', '(0028, 0101)', '(0028, 0102)', '(0028, 0103)', '(0028, 1050)', '(0028, 1051)', '(0028, 1052)', '(0028, 1053)', '(0040, 0002)', '(0040, 0003)', '(0040, 0004)', '(0040, 0005)', '(0040, 0244)', '(0040, 0245)', '(0040, 0253)', '(7005, 0010)', '(7005, 1008)', '(7005, 1009)', '(7005, 100b)', '(7005, 100d)', '(7005, 100e)', '(7005, 100f)', '(7005, 1012)', '(7005, 1013)', '(7005, 1016)', '(7005, 1017)', '(7005, 1018)', '(7005, 1019)', '(7005, 101a)', '(7005, 101b)', '(7005, 101d)', '(7005, 101e)', '(7005, 101f)', '(7005, 1020)', '(7005, 1024)', '(7005, 1030)', '(7005, 1040)', '(7fe0, 0010)', '(0018, 1160)', '(0018, 9323)', '(0018, 9324)', '(7005, 1007)', '(7005, 100a)', '(7005, 1021)', '(7005, 1022)', '(7005, 1023)']\n",
            ">2>len= 106\n"
          ],
          "name": "stdout"
        }
      ]
    },
    {
      "cell_type": "markdown",
      "metadata": {
        "id": "NpBo0_slrpg8",
        "colab_type": "text"
      },
      "source": [
        "Memo  \n",
        "・データセット(ds)からタグ番号(groupとelement)を指定して値を  \n",
        "　取得するには次のようにする  \n",
        "　ds[group,element].value  "
      ]
    },
    {
      "cell_type": "markdown",
      "metadata": {
        "id": "M82ZaiMxs9Hk",
        "colab_type": "text"
      },
      "source": [
        "4.3.4"
      ]
    },
    {
      "cell_type": "code",
      "metadata": {
        "id": "ZW1GWrR8tRVd",
        "colab_type": "code",
        "colab": {
          "base_uri": "https://localhost:8080/",
          "height": 1000
        },
        "outputId": "8c7f9568-d83d-4026-d628-5b3c0b3fd991"
      },
      "source": [
        "allTag=sorted(allTag)\n",
        "print(\"sort:\",allTag)\n",
        "for tg in allTag:\n",
        "  val1=\"value None\"\n",
        "  val2=\"Value None\"\n",
        "  kywd=\"\"\n",
        "  vr=\"\"\n",
        "  grp=tg[1:5]  #Group\n",
        "  elm=tg[7:11] #Elemnt\n",
        "\n",
        "  if tg in str(ds1):   #もしタグ番号tgがデータセットds1にあれば\n",
        "    val1=ds1[grp,elm].value\n",
        "    kywd=ds1[grp,elm].keyword\n",
        "    vr=ds1[grp,elm].VR\n",
        "  if tg in str(ds2):   #もしタグ番号tgがデータセットds1にあれば\n",
        "    val1=ds2[grp,elm].value\n",
        "    kywd=ds2[grp,elm].keyword\n",
        "    vr=ds2[grp,elm].VR\n",
        "  \n",
        "  if val1==val2:      #もし同じ値があれば\n",
        "    print(\">3>\",grp,elm,vr,kywd,\"\\t Same Value:\",val1)\n",
        "  else:\n",
        "    val1=str(val1)\n",
        "    val2=str(val2)\n",
        "    print(\"\\n>3>\",grp,elm,vr,kywd,\"\\t Not Same Value:\")\n",
        "    print(\"\\tfile1:\",val1[:50])\n",
        "    print(\"\\tfile2:\",val2[:50])\n",
        "    print()\n"
      ],
      "execution_count": null,
      "outputs": [
        {
          "output_type": "stream",
          "text": [
            "sort: ['(0008, 0008)', '(0008, 0016)', '(0008, 0018)', '(0008, 0020)', '(0008, 0021)', '(0008, 0022)', '(0008, 0023)', '(0008, 0030)', '(0008, 0031)', '(0008, 0032)', '(0008, 0033)', '(0008, 0050)', '(0008, 0060)', '(0008, 0070)', '(0008, 0080)', '(0008, 0090)', '(0008, 1010)', '(0008, 103e)', '(0008, 1040)', '(0008, 1090)', '(0010, 0010)', '(0010, 0020)', '(0010, 0030)', '(0010, 0040)', '(0010, 1010)', '(0018, 0015)', '(0018, 0022)', '(0018, 0050)', '(0018, 0060)', '(0018, 0090)', '(0018, 1000)', '(0018, 1020)', '(0018, 1100)', '(0018, 1120)', '(0018, 1130)', '(0018, 1140)', '(0018, 1150)', '(0018, 1151)', '(0018, 1152)', '(0018, 1160)', '(0018, 1170)', '(0018, 1210)', '(0018, 5100)', '(0018, 9323)', '(0018, 9324)', '(0018, 9345)', '(0020, 000d)', '(0020, 000e)', '(0020, 0010)', '(0020, 0011)', '(0020, 0012)', '(0020, 0013)', '(0020, 0020)', '(0020, 0032)', '(0020, 0037)', '(0020, 0052)', '(0020, 1040)', '(0020, 1041)', '(0028, 0002)', '(0028, 0004)', '(0028, 0010)', '(0028, 0011)', '(0028, 0030)', '(0028, 0100)', '(0028, 0101)', '(0028, 0102)', '(0028, 0103)', '(0028, 1050)', '(0028, 1051)', '(0028, 1052)', '(0028, 1053)', '(0040, 0002)', '(0040, 0003)', '(0040, 0004)', '(0040, 0005)', '(0040, 0244)', '(0040, 0245)', '(0040, 0253)', '(7005, 0010)', '(7005, 1007)', '(7005, 1008)', '(7005, 1009)', '(7005, 100a)', '(7005, 100b)', '(7005, 100d)', '(7005, 100e)', '(7005, 100f)', '(7005, 1012)', '(7005, 1013)', '(7005, 1016)', '(7005, 1017)', '(7005, 1018)', '(7005, 1019)', '(7005, 101a)', '(7005, 101b)', '(7005, 101d)', '(7005, 101e)', '(7005, 101f)', '(7005, 1020)', '(7005, 1021)', '(7005, 1022)', '(7005, 1023)', '(7005, 1024)', '(7005, 1030)', '(7005, 1040)', '(7fe0, 0010)']\n",
            "\n",
            ">3> 0008 0008 CS ImageType \t Not Same Value:\n",
            "\tfile1: ['ORIGINAL', 'PRIMARY', 'AXIAL']\n",
            "\tfile2: Value None\n",
            "\n",
            "\n",
            ">3> 0008 0016 UI SOPClassUID \t Not Same Value:\n",
            "\tfile1: 1.2.840.10008.5.1.4.1.1.2\n",
            "\tfile2: Value None\n",
            "\n",
            "\n",
            ">3> 0008 0018 UI SOPInstanceUID \t Not Same Value:\n",
            "\tfile1: 1.2.392.200036.9116.2.6.1.16.1613469034.1289544298\n",
            "\tfile2: Value None\n",
            "\n",
            "\n",
            ">3> 0008 0020 DA StudyDate \t Not Same Value:\n",
            "\tfile1: 20101112\n",
            "\tfile2: Value None\n",
            "\n",
            "\n",
            ">3> 0008 0021 DA SeriesDate \t Not Same Value:\n",
            "\tfile1: 20101112\n",
            "\tfile2: Value None\n",
            "\n",
            "\n",
            ">3> 0008 0022 DA AcquisitionDate \t Not Same Value:\n",
            "\tfile1: 20101112\n",
            "\tfile2: Value None\n",
            "\n",
            "\n",
            ">3> 0008 0023 DA ContentDate \t Not Same Value:\n",
            "\tfile1: 20101112\n",
            "\tfile2: Value None\n",
            "\n",
            "\n",
            ">3> 0008 0030 TM StudyTime \t Not Same Value:\n",
            "\tfile1: 154144.000\n",
            "\tfile2: Value None\n",
            "\n",
            "\n",
            ">3> 0008 0031 TM SeriesTime \t Not Same Value:\n",
            "\tfile1: 154451.250\n",
            "\tfile2: Value None\n",
            "\n",
            "\n",
            ">3> 0008 0032 TM AcquisitionTime \t Not Same Value:\n",
            "\tfile1: 154331.000\n",
            "\tfile2: Value None\n",
            "\n",
            "\n",
            ">3> 0008 0033 TM ContentTime \t Not Same Value:\n",
            "\tfile1: 154333.041\n",
            "\tfile2: Value None\n",
            "\n",
            "\n",
            ">3> 0008 0050 SH AccessionNumber \t Not Same Value:\n",
            "\tfile1: 839\n",
            "\tfile2: Value None\n",
            "\n",
            "\n",
            ">3> 0008 0060 CS Modality \t Not Same Value:\n",
            "\tfile1: CT\n",
            "\tfile2: Value None\n",
            "\n",
            "\n",
            ">3> 0008 0070 LO Manufacturer \t Not Same Value:\n",
            "\tfile1: TOSHIBA\n",
            "\tfile2: Value None\n",
            "\n",
            "\n",
            ">3> 0008 0080 LO InstitutionName \t Not Same Value:\n",
            "\tfile1: JOHO HOSPITAL\n",
            "\tfile2: Value None\n",
            "\n",
            "\n",
            ">3> 0008 0090 PN ReferringPhysicianName \t Not Same Value:\n",
            "\tfile1: \n",
            "\tfile2: Value None\n",
            "\n",
            "\n",
            ">3> 0008 1010 SH StationName \t Not Same Value:\n",
            "\tfile1: ID_STATION\n",
            "\tfile2: Value None\n",
            "\n",
            "\n",
            ">3> 0008 103e LO SeriesDescription \t Not Same Value:\n",
            "\tfile1: ,,Axial,5.0,,,\n",
            "\tfile2: Value None\n",
            "\n",
            "\n",
            ">3> 0008 1040 LO InstitutionalDepartmentName \t Not Same Value:\n",
            "\tfile1: ID_DEPARTMENT\n",
            "\tfile2: Value None\n",
            "\n",
            "\n",
            ">3> 0008 1090 LO ManufacturerModelName \t Not Same Value:\n",
            "\tfile1: Aquilion\n",
            "\tfile2: Value None\n",
            "\n",
            "\n",
            ">3> 0010 0010 PN PatientName \t Not Same Value:\n",
            "\tfile1: Joho^Taro\n",
            "\tfile2: Value None\n",
            "\n",
            "\n",
            ">3> 0010 0020 LO PatientID \t Not Same Value:\n",
            "\tfile1: 12345678\n",
            "\tfile2: Value None\n",
            "\n",
            "\n",
            ">3> 0010 0030 DA PatientBirthDate \t Not Same Value:\n",
            "\tfile1: 19570412\n",
            "\tfile2: Value None\n",
            "\n",
            "\n",
            ">3> 0010 0040 CS PatientSex \t Not Same Value:\n",
            "\tfile1: M\n",
            "\tfile2: Value None\n",
            "\n",
            "\n",
            ">3> 0010 1010 AS PatientAge \t Not Same Value:\n",
            "\tfile1: 053Y\n",
            "\tfile2: Value None\n",
            "\n",
            "\n",
            ">3> 0018 0015 CS BodyPartExamined \t Not Same Value:\n",
            "\tfile1: CHEST_TO_PELVIS\n",
            "\tfile2: Value None\n",
            "\n",
            "\n",
            ">3> 0018 0022 CS ScanOptions \t Not Same Value:\n",
            "\tfile1: HELICAL_CT\n",
            "\tfile2: Value None\n",
            "\n",
            "\n",
            ">3> 0018 0050 DS SliceThickness \t Not Same Value:\n",
            "\tfile1: 5.0\n",
            "\tfile2: Value None\n",
            "\n",
            "\n",
            ">3> 0018 0060 DS KVP \t Not Same Value:\n",
            "\tfile1: 120\n",
            "\tfile2: Value None\n",
            "\n",
            "\n",
            ">3> 0018 0090 DS DataCollectionDiameter \t Not Same Value:\n",
            "\tfile1: 500.00\n",
            "\tfile2: Value None\n",
            "\n",
            "\n",
            ">3> 0018 1000 LO DeviceSerialNumber \t Not Same Value:\n",
            "\tfile1: GLE09Z3578\n",
            "\tfile2: Value None\n",
            "\n",
            "\n",
            ">3> 0018 1020 LO SoftwareVersions \t Not Same Value:\n",
            "\tfile1: V3.36JR005\n",
            "\tfile2: Value None\n",
            "\n",
            "\n",
            ">3> 0018 1100 DS ReconstructionDiameter \t Not Same Value:\n",
            "\tfile1: 421.875\n",
            "\tfile2: Value None\n",
            "\n",
            "\n",
            ">3> 0018 1120 DS GantryDetectorTilt \t Not Same Value:\n",
            "\tfile1: +0.0\n",
            "\tfile2: Value None\n",
            "\n",
            "\n",
            ">3> 0018 1130 DS TableHeight \t Not Same Value:\n",
            "\tfile1: +96.00\n",
            "\tfile2: Value None\n",
            "\n",
            "\n",
            ">3> 0018 1140 CS RotationDirection \t Not Same Value:\n",
            "\tfile1: CW\n",
            "\tfile2: Value None\n",
            "\n",
            "\n",
            ">3> 0018 1150 IS ExposureTime \t Not Same Value:\n",
            "\tfile1: 500\n",
            "\tfile2: Value None\n",
            "\n",
            "\n",
            ">3> 0018 1151 IS XRayTubeCurrent \t Not Same Value:\n",
            "\tfile1: 181\n",
            "\tfile2: Value None\n",
            "\n",
            "\n",
            ">3> 0018 1152 IS Exposure \t Not Same Value:\n",
            "\tfile1: 90\n",
            "\tfile2: Value None\n",
            "\n",
            "\n",
            ">3> 0018 1160 SH FilterType \t Not Same Value:\n",
            "\tfile1: EC\n",
            "\tfile2: Value None\n",
            "\n",
            "\n",
            ">3> 0018 1170 IS GeneratorPower \t Not Same Value:\n",
            "\tfile1: 21\n",
            "\tfile2: Value None\n",
            "\n",
            "\n",
            ">3> 0018 1210 SH ConvolutionKernel \t Not Same Value:\n",
            "\tfile1: FC52\n",
            "\tfile2: Value None\n",
            "\n",
            "\n",
            ">3> 0018 5100 CS PatientPosition \t Not Same Value:\n",
            "\tfile1: HFS\n",
            "\tfile2: Value None\n",
            "\n",
            "\n",
            ">3> 0018 9323 CS ExposureModulationType \t Not Same Value:\n",
            "\tfile1: 3D\n",
            "\tfile2: Value None\n",
            "\n",
            "\n",
            ">3> 0018 9324 FD EstimatedDoseSaving \t Not Same Value:\n",
            "\tfile1: 0.0\n",
            "\tfile2: Value None\n",
            "\n",
            "\n",
            ">3> 0018 9345 FD CTDIvol \t Not Same Value:\n",
            "\tfile1: 22.7\n",
            "\tfile2: Value None\n",
            "\n",
            "\n",
            ">3> 0020 000d UI StudyInstanceUID \t Not Same Value:\n",
            "\tfile1: 1.2.392.200036.9116.2.6.1.16.1613469034.1289544105\n",
            "\tfile2: Value None\n",
            "\n",
            "\n",
            ">3> 0020 000e UI SeriesInstanceUID \t Not Same Value:\n",
            "\tfile1: 1.2.392.200036.9116.2.6.1.16.1613469034.1289544291\n",
            "\tfile2: Value None\n",
            "\n",
            "\n",
            ">3> 0020 0010 SH StudyID \t Not Same Value:\n",
            "\tfile1: 839\n",
            "\tfile2: Value None\n",
            "\n",
            "\n",
            ">3> 0020 0011 IS SeriesNumber \t Not Same Value:\n",
            "\tfile1: 3\n",
            "\tfile2: Value None\n",
            "\n",
            "\n",
            ">3> 0020 0012 IS AcquisitionNumber \t Not Same Value:\n",
            "\tfile1: 2\n",
            "\tfile2: Value None\n",
            "\n",
            "\n",
            ">3> 0020 0013 IS InstanceNumber \t Not Same Value:\n",
            "\tfile1: 19\n",
            "\tfile2: Value None\n",
            "\n",
            "\n",
            ">3> 0020 0020 CS PatientOrientation \t Not Same Value:\n",
            "\tfile1: ['L', 'P']\n",
            "\tfile2: Value None\n",
            "\n",
            "\n",
            ">3> 0020 0032 DS ImagePositionPatient \t Not Same Value:\n",
            "\tfile1: [-199.218, -210.9375, -789.0000]\n",
            "\tfile2: Value None\n",
            "\n",
            "\n",
            ">3> 0020 0037 DS ImageOrientationPatient \t Not Same Value:\n",
            "\tfile1: [1.00000, 0.00000, 0.00000, 0.00000, 1.00000, 0.00\n",
            "\tfile2: Value None\n",
            "\n",
            "\n",
            ">3> 0020 0052 UI FrameOfReferenceUID \t Not Same Value:\n",
            "\tfile1: 1.2.392.200036.9116.2.6.1.16.1613469034.1289544105\n",
            "\tfile2: Value None\n",
            "\n",
            "\n",
            ">3> 0020 1040 LO PositionReferenceIndicator \t Not Same Value:\n",
            "\tfile1: \n",
            "\tfile2: Value None\n",
            "\n",
            "\n",
            ">3> 0020 1041 DS SliceLocation \t Not Same Value:\n",
            "\tfile1: -90.00\n",
            "\tfile2: Value None\n",
            "\n",
            "\n",
            ">3> 0028 0002 US SamplesPerPixel \t Not Same Value:\n",
            "\tfile1: 1\n",
            "\tfile2: Value None\n",
            "\n",
            "\n",
            ">3> 0028 0004 CS PhotometricInterpretation \t Not Same Value:\n",
            "\tfile1: MONOCHROME2\n",
            "\tfile2: Value None\n",
            "\n",
            "\n",
            ">3> 0028 0010 US Rows \t Not Same Value:\n",
            "\tfile1: 512\n",
            "\tfile2: Value None\n",
            "\n",
            "\n",
            ">3> 0028 0011 US Columns \t Not Same Value:\n",
            "\tfile1: 512\n",
            "\tfile2: Value None\n",
            "\n",
            "\n",
            ">3> 0028 0030 DS PixelSpacing \t Not Same Value:\n",
            "\tfile1: [0.824, 0.824]\n",
            "\tfile2: Value None\n",
            "\n",
            "\n",
            ">3> 0028 0100 US BitsAllocated \t Not Same Value:\n",
            "\tfile1: 16\n",
            "\tfile2: Value None\n",
            "\n",
            "\n",
            ">3> 0028 0101 US BitsStored \t Not Same Value:\n",
            "\tfile1: 16\n",
            "\tfile2: Value None\n",
            "\n",
            "\n",
            ">3> 0028 0102 US HighBit \t Not Same Value:\n",
            "\tfile1: 15\n",
            "\tfile2: Value None\n",
            "\n",
            "\n",
            ">3> 0028 0103 US PixelRepresentation \t Not Same Value:\n",
            "\tfile1: 1\n",
            "\tfile2: Value None\n",
            "\n",
            "\n",
            ">3> 0028 1050 DS WindowCenter \t Not Same Value:\n",
            "\tfile1: -600\n",
            "\tfile2: Value None\n",
            "\n",
            "\n",
            ">3> 0028 1051 DS WindowWidth \t Not Same Value:\n",
            "\tfile1: 1600\n",
            "\tfile2: Value None\n",
            "\n",
            "\n",
            ">3> 0028 1052 DS RescaleIntercept \t Not Same Value:\n",
            "\tfile1: 0\n",
            "\tfile2: Value None\n",
            "\n",
            "\n",
            ">3> 0028 1053 DS RescaleSlope \t Not Same Value:\n",
            "\tfile1: 1\n",
            "\tfile2: Value None\n",
            "\n",
            "\n",
            ">3> 0040 0002 DA ScheduledProcedureStepStartDate \t Not Same Value:\n",
            "\tfile1: 20101112\n",
            "\tfile2: Value None\n",
            "\n",
            "\n",
            ">3> 0040 0003 TM ScheduledProcedureStepStartTime \t Not Same Value:\n",
            "\tfile1: 154144.000\n",
            "\tfile2: Value None\n",
            "\n",
            "\n",
            ">3> 0040 0004 DA ScheduledProcedureStepEndDate \t Not Same Value:\n",
            "\tfile1: 20101112\n",
            "\tfile2: Value None\n",
            "\n",
            "\n",
            ">3> 0040 0005 TM ScheduledProcedureStepEndTime \t Not Same Value:\n",
            "\tfile1: 161144.000\n",
            "\tfile2: Value None\n",
            "\n",
            "\n",
            ">3> 0040 0244 DA PerformedProcedureStepStartDate \t Not Same Value:\n",
            "\tfile1: 20101112\n",
            "\tfile2: Value None\n",
            "\n",
            "\n",
            ">3> 0040 0245 TM PerformedProcedureStepStartTime \t Not Same Value:\n",
            "\tfile1: 154144.000\n",
            "\tfile2: Value None\n",
            "\n",
            "\n",
            ">3> 0040 0253 SH PerformedProcedureStepID \t Not Same Value:\n",
            "\tfile1: 840\n",
            "\tfile2: Value None\n",
            "\n",
            "\n",
            ">3> 7005 0010 LO  \t Not Same Value:\n",
            "\tfile1: TOSHIBA_MEC_CT3\n",
            "\tfile2: Value None\n",
            "\n",
            "\n",
            ">3> 7005 1007 DS  \t Not Same Value:\n",
            "\tfile1: [268, 256]\n",
            "\tfile2: Value None\n",
            "\n",
            "\n",
            ">3> 7005 1008 DS  \t Not Same Value:\n",
            "\tfile1: 2.0\n",
            "\tfile2: Value None\n",
            "\n",
            "\n",
            ">3> 7005 1009 LO  \t Not Same Value:\n",
            "\tfile1: 1111111111111111\n",
            "\tfile2: Value None\n",
            "\n",
            "\n",
            ">3> 7005 100a DS  \t Not Same Value:\n",
            "\tfile1: -30.00\n",
            "\tfile2: Value None\n",
            "\n",
            "\n",
            ">3> 7005 100b SH  \t Not Same Value:\n",
            "\tfile1: ORG\n",
            "\tfile2: Value None\n",
            "\n",
            "\n",
            ">3> 7005 100d SH  \t Not Same Value:\n",
            "\tfile1: CHEST_TO_PELVIS\n",
            "\tfile2: Value None\n",
            "\n",
            "\n",
            ">3> 7005 100e SH  \t Not Same Value:\n",
            "\tfile1: IMG\n",
            "\tfile2: Value None\n",
            "\n",
            "\n",
            ">3> 7005 100f SH  \t Not Same Value:\n",
            "\tfile1: HF\n",
            "\tfile2: Value None\n",
            "\n",
            "\n",
            ">3> 7005 1012 SH  \t Not Same Value:\n",
            "\tfile1: SU\n",
            "\tfile2: Value None\n",
            "\n",
            "\n",
            ">3> 7005 1013 US  \t Not Same Value:\n",
            "\tfile1: 1\n",
            "\tfile2: Value None\n",
            "\n",
            "\n",
            ">3> 7005 1016 UI  \t Not Same Value:\n",
            "\tfile1: 1.2.392.200036.9116.2.6.1.16.1613469034.1289544298\n",
            "\tfile2: Value None\n",
            "\n",
            "\n",
            ">3> 7005 1017 US  \t Not Same Value:\n",
            "\tfile1: 1\n",
            "\tfile2: Value None\n",
            "\n",
            "\n",
            ">3> 7005 1018 US  \t Not Same Value:\n",
            "\tfile1: 1\n",
            "\tfile2: Value None\n",
            "\n",
            "\n",
            ">3> 7005 1019 UL  \t Not Same Value:\n",
            "\tfile1: 1642763\n",
            "\tfile2: Value None\n",
            "\n",
            "\n",
            ">3> 7005 101a US  \t Not Same Value:\n",
            "\tfile1: 0\n",
            "\tfile2: Value None\n",
            "\n",
            "\n",
            ">3> 7005 101b SH  \t Not Same Value:\n",
            "\tfile1: FC52\n",
            "\tfile2: Value None\n",
            "\n",
            "\n",
            ">3> 7005 101d UL  \t Not Same Value:\n",
            "\tfile1: 3\n",
            "\tfile2: Value None\n",
            "\n",
            "\n",
            ">3> 7005 101e UL  \t Not Same Value:\n",
            "\tfile1: 0\n",
            "\tfile2: Value None\n",
            "\n",
            "\n",
            ">3> 7005 101f LO  \t Not Same Value:\n",
            "\tfile1: 00\n",
            "\tfile2: Value None\n",
            "\n",
            "\n",
            ">3> 7005 1020 UL  \t Not Same Value:\n",
            "\tfile1: 4\n",
            "\tfile2: Value None\n",
            "\n",
            "\n",
            ">3> 7005 1021 LO  \t Not Same Value:\n",
            "\tfile1: BOOST\n",
            "\tfile2: Value None\n",
            "\n",
            "\n",
            ">3> 7005 1022 DS  \t Not Same Value:\n",
            "\tfile1: 5.00\n",
            "\tfile2: Value None\n",
            "\n",
            "\n",
            ">3> 7005 1023 DS  \t Not Same Value:\n",
            "\tfile1: 0.938\n",
            "\tfile2: Value None\n",
            "\n",
            "\n",
            ">3> 7005 1024 DA  \t Not Same Value:\n",
            "\tfile1: 20101111\n",
            "\tfile2: Value None\n",
            "\n",
            "\n",
            ">3> 7005 1030 CS  \t Not Same Value:\n",
            "\tfile1: CT\n",
            "\tfile2: Value None\n",
            "\n",
            "\n",
            ">3> 7005 1040 FD  \t Not Same Value:\n",
            "\tfile1: 1596.9\n",
            "\tfile2: Value None\n",
            "\n",
            "\n",
            ">3> 7fe0 0010 OW PixelData \t Not Same Value:\n",
            "\tfile1: b'\\x00\\xf8\\x00\\xf8\\x00\\xf8\\x00\\xf8\\x00\\xf8\\x00\\xf8\n",
            "\tfile2: Value None\n",
            "\n"
          ],
          "name": "stdout"
        }
      ]
    },
    {
      "cell_type": "markdown",
      "metadata": {
        "id": "ZgEehfQgwH0P",
        "colab_type": "text"
      },
      "source": [
        "###4.4 DICOM画像を匿名化する"
      ]
    },
    {
      "cell_type": "markdown",
      "metadata": {
        "id": "ZZ19_Y3J0YZM",
        "colab_type": "text"
      },
      "source": [
        "Memo  \n",
        "・匿名化による値の変更はDICOM違反やデータの改ざんにならな  \n",
        "　いよう十分注意する"
      ]
    },
    {
      "cell_type": "markdown",
      "metadata": {
        "id": "lhgLA-8wwF88",
        "colab_type": "text"
      },
      "source": [
        "4.4.1\n"
      ]
    },
    {
      "cell_type": "code",
      "metadata": {
        "id": "CbZztvqCwTVx",
        "colab_type": "code",
        "colab": {
          "base_uri": "https://localhost:8080/",
          "height": 34
        },
        "outputId": "e3bcc3db-bcf0-403d-f4d7-2ac6a65519ec"
      },
      "source": [
        "import os\n",
        "import pydicom\n",
        "\n",
        "orgdir=\"/content/drive/My Drive/DATASET/dataset/ct_dcmdir/\"\n",
        "dstdir=\"/content/drive/My Drive/result/\"\n",
        "\n",
        "if not os.path.isdir(dstdir):\n",
        "  os.mkdir(dstdir)\n",
        "  print(\"新しくディレクトリ\"+dstdir+\"を作成しました\")\n",
        "else:\n",
        "  print(\"既にディレクトリ\"+dstdir+\"は存在します\")"
      ],
      "execution_count": null,
      "outputs": [
        {
          "output_type": "stream",
          "text": [
            "既にディレクトリ/content/drive/My Drive/result/は存在します\n"
          ],
          "name": "stdout"
        }
      ]
    },
    {
      "cell_type": "markdown",
      "metadata": {
        "id": "MNg7-Y0rxcG2",
        "colab_type": "text"
      },
      "source": [
        "4.4.2"
      ]
    },
    {
      "cell_type": "code",
      "metadata": {
        "id": "Utfgx6BMxrZQ",
        "colab_type": "code",
        "colab": {
          "base_uri": "https://localhost:8080/",
          "height": 51
        },
        "outputId": "97c6d606-ead1-4de8-f59d-0b58a537ae6e"
      },
      "source": [
        "anonyInfo=[[\"00100010\",\"no name\"],\n",
        "           [\"00100020\",\"no ptid\"],]\n",
        "print(anonyInfo)\n",
        "files=os.listdir(orgdir)\n",
        "print(files)"
      ],
      "execution_count": null,
      "outputs": [
        {
          "output_type": "stream",
          "text": [
            "[['00100010', 'no name'], ['00100020', 'no ptid']]\n",
            "['Brain02', 'Abdomen03', 'Brain01', 'Abdomen01', 'Abdomen02', 'Lung03', 'Lung02', 'Lung01']\n"
          ],
          "name": "stdout"
        }
      ]
    },
    {
      "cell_type": "markdown",
      "metadata": {
        "id": "ZByjY0ttyLLC",
        "colab_type": "text"
      },
      "source": [
        "Memo  \n",
        "・データセット(ds)のタグ番号(tag_number)のデータエレメント  \n",
        "　の値を新しい値(new_value)に変更する際は次のように行う  \n",
        "　ds[tag_number].value=new_value"
      ]
    },
    {
      "cell_type": "markdown",
      "metadata": {
        "id": "awkbxGlHzVpZ",
        "colab_type": "text"
      },
      "source": [
        "4.4.3"
      ]
    },
    {
      "cell_type": "code",
      "metadata": {
        "id": "BoRsFInjzXXq",
        "colab_type": "code",
        "colab": {
          "base_uri": "https://localhost:8080/",
          "height": 1000
        },
        "outputId": "dc3283c5-d710-45d4-d7bf-842bd1f8ef4c"
      },
      "source": [
        "for i,fnm in enumerate(files):\n",
        "  path=orgdir+fnm\n",
        "  ds=pydicom.dcmread(path)\n",
        "  for j,info in enumerate(anonyInfo):\n",
        "    tag=info[0]\n",
        "    print(tag)\n",
        "    val=info[1]\n",
        "    print(val)\n",
        "    print(\">>1>>\",i,j,tag,fnm)\n",
        "    print(\">>2>>\",ds[tag])\n",
        "    ds[tag].value=val\n",
        "    print(\">>3>>\",ds[tag])\n",
        "  savefnm=dstdir+\"anony.\"+fnm \n",
        "  pydicom.dcmwrite(savefnm,ds)"
      ],
      "execution_count": null,
      "outputs": [
        {
          "output_type": "stream",
          "text": [
            "00100010\n",
            "no name\n",
            ">>1>> 0 0 00100010 Brain02\n",
            ">>2>> (0010, 0010) Patient's Name                      PN: 'Joho^Taro'\n",
            ">>3>> (0010, 0010) Patient's Name                      PN: 'no name'\n",
            "00100020\n",
            "no ptid\n",
            ">>1>> 0 1 00100020 Brain02\n",
            ">>2>> (0010, 0020) Patient ID                          LO: '12345678'\n",
            ">>3>> (0010, 0020) Patient ID                          LO: 'no ptid'\n",
            "00100010\n",
            "no name\n",
            ">>1>> 1 0 00100010 Abdomen03\n",
            ">>2>> (0010, 0010) Patient's Name                      PN: 'Joho^Taro'\n",
            ">>3>> (0010, 0010) Patient's Name                      PN: 'no name'\n",
            "00100020\n",
            "no ptid\n",
            ">>1>> 1 1 00100020 Abdomen03\n",
            ">>2>> (0010, 0020) Patient ID                          LO: '12345678'\n",
            ">>3>> (0010, 0020) Patient ID                          LO: 'no ptid'\n",
            "00100010\n",
            "no name\n",
            ">>1>> 2 0 00100010 Brain01\n",
            ">>2>> (0010, 0010) Patient's Name                      PN: 'Joho^Taro'\n",
            ">>3>> (0010, 0010) Patient's Name                      PN: 'no name'\n",
            "00100020\n",
            "no ptid\n",
            ">>1>> 2 1 00100020 Brain01\n",
            ">>2>> (0010, 0020) Patient ID                          LO: '12345678'\n",
            ">>3>> (0010, 0020) Patient ID                          LO: 'no ptid'\n",
            "00100010\n",
            "no name\n",
            ">>1>> 3 0 00100010 Abdomen01\n",
            ">>2>> (0010, 0010) Patient's Name                      PN: 'Joho^Taro'\n",
            ">>3>> (0010, 0010) Patient's Name                      PN: 'no name'\n",
            "00100020\n",
            "no ptid\n",
            ">>1>> 3 1 00100020 Abdomen01\n",
            ">>2>> (0010, 0020) Patient ID                          LO: '12345678'\n",
            ">>3>> (0010, 0020) Patient ID                          LO: 'no ptid'\n",
            "00100010\n",
            "no name\n",
            ">>1>> 4 0 00100010 Abdomen02\n",
            ">>2>> (0010, 0010) Patient's Name                      PN: 'Joho^Taro'\n",
            ">>3>> (0010, 0010) Patient's Name                      PN: 'no name'\n",
            "00100020\n",
            "no ptid\n",
            ">>1>> 4 1 00100020 Abdomen02\n",
            ">>2>> (0010, 0020) Patient ID                          LO: '12345678'\n",
            ">>3>> (0010, 0020) Patient ID                          LO: 'no ptid'\n",
            "00100010\n",
            "no name\n",
            ">>1>> 5 0 00100010 Lung03\n",
            ">>2>> (0010, 0010) Patient's Name                      PN: 'Joho^Taro'\n",
            ">>3>> (0010, 0010) Patient's Name                      PN: 'no name'\n",
            "00100020\n",
            "no ptid\n",
            ">>1>> 5 1 00100020 Lung03\n",
            ">>2>> (0010, 0020) Patient ID                          LO: '12345678'\n",
            ">>3>> (0010, 0020) Patient ID                          LO: 'no ptid'\n",
            "00100010\n",
            "no name\n",
            ">>1>> 6 0 00100010 Lung02\n",
            ">>2>> (0010, 0010) Patient's Name                      PN: 'Joho^Taro'\n",
            ">>3>> (0010, 0010) Patient's Name                      PN: 'no name'\n",
            "00100020\n",
            "no ptid\n",
            ">>1>> 6 1 00100020 Lung02\n",
            ">>2>> (0010, 0020) Patient ID                          LO: '12345678'\n",
            ">>3>> (0010, 0020) Patient ID                          LO: 'no ptid'\n",
            "00100010\n",
            "no name\n",
            ">>1>> 7 0 00100010 Lung01\n",
            ">>2>> (0010, 0010) Patient's Name                      PN: 'Joho^Taro'\n",
            ">>3>> (0010, 0010) Patient's Name                      PN: 'no name'\n",
            "00100020\n",
            "no ptid\n",
            ">>1>> 7 1 00100020 Lung01\n",
            ">>2>> (0010, 0020) Patient ID                          LO: '12345678'\n",
            ">>3>> (0010, 0020) Patient ID                          LO: 'no ptid'\n"
          ],
          "name": "stdout"
        }
      ]
    },
    {
      "cell_type": "code",
      "metadata": {
        "id": "xpmLCWk-5MyR",
        "colab_type": "code",
        "colab": {
          "base_uri": "https://localhost:8080/",
          "height": 1000
        },
        "outputId": "94391603-9f6c-414e-a0a9-40d4411b7af7"
      },
      "source": [
        "brain=\"/content/drive/My Drive/result/anony.Brain01\"\n",
        "\n",
        "ds=pydicom.dcmread(brain)\n",
        "print(ds)\n",
        "wc=ds.WindowCenter\n",
        "ww=ds.WindowWidth\n",
        "img=ds.pixel_array\n",
        "max=wc+ww/2\n",
        "min=wc-ww/2\n",
        "plt.imshow(img,cmap=\"gray\",vmax=max,vmin=min)\n",
        "plt.show()"
      ],
      "execution_count": null,
      "outputs": [
        {
          "output_type": "stream",
          "text": [
            "Dataset.file_meta -------------------------------\n",
            "(0002, 0000) File Meta Information Group Length  UL: 204\n",
            "(0002, 0001) File Meta Information Version       OB: b'\\x00\\x01'\n",
            "(0002, 0002) Media Storage SOP Class UID         UI: CT Image Storage\n",
            "(0002, 0003) Media Storage SOP Instance UID      UI: 1.2.392.200036.9116.2.6.1.16.1613469034.1289543971.629951\n",
            "(0002, 0010) Transfer Syntax UID                 UI: Explicit VR Little Endian\n",
            "(0002, 0012) Implementation Class UID            UI: 1.2.392.200036.9116.2.6.1.100\n",
            "(0002, 0013) Implementation Version Name         SH: 'TM_CT_CMW_V3.00'\n",
            "-------------------------------------------------\n",
            "(0008, 0008) Image Type                          CS: ['ORIGINAL', 'PRIMARY', 'AXIAL']\n",
            "(0008, 0016) SOP Class UID                       UI: CT Image Storage\n",
            "(0008, 0018) SOP Instance UID                    UI: 1.2.392.200036.9116.2.6.1.16.1613469034.1289543971.629951\n",
            "(0008, 0020) Study Date                          DA: '20101112'\n",
            "(0008, 0021) Series Date                         DA: '20101112'\n",
            "(0008, 0022) Acquisition Date                    DA: '20101112'\n",
            "(0008, 0023) Content Date                        DA: '20101112'\n",
            "(0008, 0030) Study Time                          TM: '153820.000'\n",
            "(0008, 0031) Series Time                         TM: '153848.921'\n",
            "(0008, 0032) Acquisition Time                    TM: '153926.300'\n",
            "(0008, 0033) Content Time                        TM: '153926.300'\n",
            "(0008, 0050) Accession Number                    SH: '838'\n",
            "(0008, 0060) Modality                            CS: 'CT'\n",
            "(0008, 0070) Manufacturer                        LO: 'TOSHIBA'\n",
            "(0008, 0080) Institution Name                    LO: 'JOHO HOSPITAL'\n",
            "(0008, 0090) Referring Physician's Name          PN: ''\n",
            "(0008, 1010) Station Name                        SH: 'ID_STATION'\n",
            "(0008, 103e) Series Description                  LO: ',,Axial,8.0,,,'\n",
            "(0008, 1040) Institutional Department Name       LO: 'ID_DEPARTMENT'\n",
            "(0008, 1090) Manufacturer's Model Name           LO: 'Aquilion'\n",
            "(0010, 0010) Patient's Name                      PN: 'no name'\n",
            "(0010, 0020) Patient ID                          LO: 'no ptid'\n",
            "(0010, 0030) Patient's Birth Date                DA: '19570412'\n",
            "(0010, 0040) Patient's Sex                       CS: 'M'\n",
            "(0010, 1010) Patient's Age                       AS: '053Y'\n",
            "(0018, 0015) Body Part Examined                  CS: 'HEAD'\n",
            "(0018, 0022) Scan Options                        CS: 'NORMAL_CT'\n",
            "(0018, 0050) Slice Thickness                     DS: \"8.0\"\n",
            "(0018, 0060) KVP                                 DS: \"120.0\"\n",
            "(0018, 0090) Data Collection Diameter            DS: \"240.0\"\n",
            "(0018, 1000) Device Serial Number                LO: 'GLE09Z3578'\n",
            "(0018, 1020) Software Versions                   LO: 'V3.36JR005'\n",
            "(0018, 1100) Reconstruction Diameter             DS: \"240.0\"\n",
            "(0018, 1120) Gantry/Detector Tilt                DS: \"3.5\"\n",
            "(0018, 1130) Table Height                        DS: \"30.0\"\n",
            "(0018, 1140) Rotation Direction                  CS: 'CW'\n",
            "(0018, 1150) Exposure Time                       IS: \"1500\"\n",
            "(0018, 1151) X-Ray Tube Current                  IS: \"250\"\n",
            "(0018, 1152) Exposure                            IS: \"375\"\n",
            "(0018, 1170) Generator Power                     IS: \"30\"\n",
            "(0018, 1210) Convolution Kernel                  SH: 'FC21'\n",
            "(0018, 5100) Patient Position                    CS: 'HFS'\n",
            "(0018, 9345) CTDIvol                             FD: 93.2\n",
            "(0020, 000d) Study Instance UID                  UI: 1.2.392.200036.9116.2.6.1.16.1613469034.1289543900.390492\n",
            "(0020, 000e) Series Instance UID                 UI: 1.2.392.200036.9116.2.6.1.16.1613469034.1289543929.202106\n",
            "(0020, 0010) Study ID                            SH: '838'\n",
            "(0020, 0011) Series Number                       IS: \"1\"\n",
            "(0020, 0012) Acquisition Number                  IS: \"17\"\n",
            "(0020, 0013) Instance Number                     IS: \"17\"\n",
            "(0020, 0020) Patient Orientation                 CS: ['L', 'P']\n",
            "(0020, 0032) Image Position (Patient)            DS: [-120.000, -119.7761, -462.6741]\n",
            "(0020, 0037) Image Orientation (Patient)         DS: [1.00000, 0.00000, 0.00000, 0.00000, 0.99813, -0.06105]\n",
            "(0020, 0052) Frame of Reference UID              UI: 1.2.392.200036.9116.2.6.1.16.1613469034.1289543900.391302\n",
            "(0020, 1040) Position Reference Indicator        LO: ''\n",
            "(0020, 1041) Slice Location                      DS: \"430.0\"\n",
            "(0028, 0002) Samples per Pixel                   US: 1\n",
            "(0028, 0004) Photometric Interpretation          CS: 'MONOCHROME2'\n",
            "(0028, 0010) Rows                                US: 512\n",
            "(0028, 0011) Columns                             US: 512\n",
            "(0028, 0030) Pixel Spacing                       DS: [0.468, 0.468]\n",
            "(0028, 0100) Bits Allocated                      US: 16\n",
            "(0028, 0101) Bits Stored                         US: 16\n",
            "(0028, 0102) High Bit                            US: 15\n",
            "(0028, 0103) Pixel Representation                US: 1\n",
            "(0028, 1050) Window Center                       DS: \"40.0\"\n",
            "(0028, 1051) Window Width                        DS: \"80.0\"\n",
            "(0028, 1052) Rescale Intercept                   DS: \"0.0\"\n",
            "(0028, 1053) Rescale Slope                       DS: \"1.0\"\n",
            "(0040, 0002) Scheduled Procedure Step Start Date DA: '20101112'\n",
            "(0040, 0003) Scheduled Procedure Step Start Time TM: '153820.000'\n",
            "(0040, 0004) Scheduled Procedure Step End Date   DA: '20101112'\n",
            "(0040, 0005) Scheduled Procedure Step End Time   TM: '160820.000'\n",
            "(0040, 0244) Performed Procedure Step Start Date DA: '20101112'\n",
            "(0040, 0245) Performed Procedure Step Start Time TM: '153820.000'\n",
            "(0040, 0253) Performed Procedure Step ID         SH: '839'\n",
            "(7005, 0010) Private Creator                     LO: 'TOSHIBA_MEC_CT3'\n",
            "(7005, 1008) [Detector Slice Thickness in mm]    DS: \"2.0\"\n",
            "(7005, 1009) [Number of Detector rows to Reconst LO: '0000001111000000'\n",
            "(7005, 100b) [Filter]                            SH: 'ORG'\n",
            "(7005, 100d) [Organ]                             SH: 'HEAD'\n",
            "(7005, 100e) [File Type Remarks]                 SH: 'IMG'\n",
            "(7005, 100f) [Direction]                         SH: 'HF'\n",
            "(7005, 1012) [Position]                          SH: 'SU'\n",
            "(7005, 1013) [Expert Plan No.]                   US: 1\n",
            "(7005, 1016) [Volume UID]                        UI: 1.2.392.200036.9116.2.6.1.16.1613469034.1289543971.630824\n",
            "(7005, 1017) [Total Frame Count in the Volume]   US: 1\n",
            "(7005, 1018) [Frame No.]                         US: 1\n",
            "(7005, 1019) [Frame Sort Key]                    UL: 1642763\n",
            "(7005, 101a) [Frame Sort Order]                  US: 0\n",
            "(7005, 101b) [Convolution Kernel]                SH: 'FC21'\n",
            "(7005, 101d) [Reconstruction Number]             UL: 1\n",
            "(7005, 101e) [Raw Data Number]                   UL: 0\n",
            "(7005, 101f) [Volume Number]                     LO: '00'\n",
            "(7005, 1020) [Local Series Number]               UL: 1\n",
            "(7005, 1024) [The Acquisition Date of NRA]       DA: '20101111'\n",
            "(7005, 1030) [Main Modality in Study]            CS: 'CT'\n",
            "(7005, 1040) [DLP Dose Length Product]           FD: 74.6\n",
            "(7fe0, 0010) Pixel Data                          OW: Array of 524288 elements\n"
          ],
          "name": "stdout"
        },
        {
          "output_type": "display_data",
          "data": {
            "image/png": "[encoded data removed]",
            "text/plain": [
              "<Figure size 432x288 with 1 Axes>"
            ]
          },
          "metadata": {
            "tags": [],
            "needs_background": "light"
          }
        }
      ]
    },
    {
      "cell_type": "markdown",
      "metadata": {
        "id": "Bvi5iq-I0olh",
        "colab_type": "text"
      },
      "source": [
        "###4.5 DICOM画像をPNGに変換する"
      ]
    },
    {
      "cell_type": "markdown",
      "metadata": {
        "id": "nzWegr9Q2iu_",
        "colab_type": "text"
      },
      "source": [
        "4.5.1\n"
      ]
    },
    {
      "cell_type": "code",
      "metadata": {
        "id": "u8kRb_zJD03r",
        "colab_type": "code",
        "colab": {
          "base_uri": "https://localhost:8080/",
          "height": 85
        },
        "outputId": "1fbe79bd-3ab8-4ad4-a177-b7fda48af974"
      },
      "source": [
        "import numpy as np\n",
        "import cv2\n",
        "import pydicom\n",
        "\n",
        "dcmfnm=\"/content/drive/My Drive/DATASET/dataset/ct_dcmdir/Brain01\"\n",
        "\n",
        "ds=pydicom.dcmread(dcmfnm)   #DICOM画像を読み込む\n",
        "#print(ds)\n",
        "wc=ds.WindowCenter           #ウィンドウセンター値に代入\n",
        "ww=ds.WindowWidth            #ウィンドウ幅を代入\n",
        "ri=ds.RescaleIntercept       #リスケール切片\n",
        "rs=ds.RescaleSlope           #リスケール勾配\n",
        "img1=ds.pixel_array           #画素値を代入\n",
        "\n",
        "print(\"Window Center   :\",wc)\n",
        "print(\"Window Width    :\",ww)\n",
        "print(\"RescaleIntercept:\",ri)\n",
        "print(\"RescaleSlope    :\",rs)"
      ],
      "execution_count": null,
      "outputs": [
        {
          "output_type": "stream",
          "text": [
            "Window Center   : 40\n",
            "Window Width    : 80\n",
            "RescaleIntercept: 0\n",
            "RescaleSlope    : 1\n"
          ],
          "name": "stdout"
        }
      ]
    },
    {
      "cell_type": "markdown",
      "metadata": {
        "id": "hXBspa5YHpYH",
        "colab_type": "text"
      },
      "source": [
        "4.5.2"
      ]
    },
    {
      "cell_type": "code",
      "metadata": {
        "id": "L8nEblRoH4pd",
        "colab_type": "code",
        "colab": {
          "base_uri": "https://localhost:8080/",
          "height": 34
        },
        "outputId": "1e0fb566-282b-4830-b596-e28bd7f6c737"
      },
      "source": [
        "#img=img*rs+ri\n",
        "max=wc+ww/2\n",
        "min=wc-ww/2\n",
        "print(\"wc=\",wc,\"ww=\",ww,\"→max=\",max,\"min=\",min)"
      ],
      "execution_count": null,
      "outputs": [
        {
          "output_type": "stream",
          "text": [
            "wc= 40 ww= 80 →max= 80.0 min= 0.0\n"
          ],
          "name": "stdout"
        }
      ]
    },
    {
      "cell_type": "markdown",
      "metadata": {
        "id": "yFaGtCjzIpps",
        "colab_type": "text"
      },
      "source": [
        "4.5.3\n"
      ]
    },
    {
      "cell_type": "code",
      "metadata": {
        "id": "qd3ZlA2eI3ya",
        "colab_type": "code",
        "colab": {
          "base_uri": "https://localhost:8080/",
          "height": 269
        },
        "outputId": "7f6e3a6a-928f-4004-a75e-78eb775c8c03"
      },
      "source": [
        "img2=255*(img1-min)/(max-min)\n",
        "img2=np.clip(img1,0,255)\n",
        "'''\n",
        "for data in img:\n",
        "  print(data)\n",
        "'''\n",
        "cv2.imwrite(\"/content/drive/My Drive/Brain01.png\",img2)\n",
        "\n",
        "plt.imshow(img2,cmap=\"gray\")\n",
        "plt.show()"
      ],
      "execution_count": null,
      "outputs": [
        {
          "output_type": "display_data",
          "data": {
            "image/png": "[encoded data removed]",
            "text/plain": [
              "<Figure size 432x288 with 1 Axes>"
            ]
          },
          "metadata": {
            "tags": [],
            "needs_background": "light"
          }
        }
      ]
    },
    {
      "cell_type": "markdown",
      "metadata": {
        "id": "IqSlZCp6NK_P",
        "colab_type": "text"
      },
      "source": [
        "###4.6 DICOM画像を画像位置でソートする"
      ]
    },
    {
      "cell_type": "markdown",
      "metadata": {
        "id": "GzvQSUxJPip4",
        "colab_type": "text"
      },
      "source": [
        "4.6.1"
      ]
    },
    {
      "cell_type": "code",
      "metadata": {
        "id": "ooM2HwIIPmE4",
        "colab_type": "code",
        "colab": {
          "base_uri": "https://localhost:8080/",
          "height": 153
        },
        "outputId": "9891fc32-abe8-446a-c758-28be2a50f7fa"
      },
      "source": [
        "import os\n",
        "import pydicom\n",
        "\n",
        "dirname=\"/content/drive/My Drive/DATASET/dataset/ct_dcmdir/\"\n",
        "\n",
        "files=os.listdir(dirname)\n",
        "for i,filename in enumerate(files):\n",
        "  d=pydicom.dcmread(dirname+filename)\n",
        "  print(\"Original>>\",i,filename,\"\\t\",d.ImagePositionPatient)"
      ],
      "execution_count": null,
      "outputs": [
        {
          "output_type": "stream",
          "text": [
            "Original>> 0 Brain02 \t [-120.000, -119.7761, -508.6741]\n",
            "Original>> 1 Abdomen03 \t [-199.218, -210.9375, -1024.000]\n",
            "Original>> 2 Brain01 \t [-120.000, -119.7761, -462.6741]\n",
            "Original>> 3 Abdomen01 \t [-199.218, -210.9375, -949.0000]\n",
            "Original>> 4 Abdomen02 \t [-199.218, -210.9375, -954.0000]\n",
            "Original>> 5 Lung03 \t [-199.218, -210.9375, -904.0000]\n",
            "Original>> 6 Lung02 \t [-199.218, -210.9375, -814.0000]\n",
            "Original>> 7 Lung01 \t [-199.218, -210.9375, -789.0000]\n"
          ],
          "name": "stdout"
        }
      ]
    },
    {
      "cell_type": "code",
      "metadata": {
        "id": "B6IAF1nuROVD",
        "colab_type": "code",
        "colab": {
          "base_uri": "https://localhost:8080/",
          "height": 34
        },
        "outputId": "cf74c62e-fdfe-45cb-b3d0-4f2c7d880427"
      },
      "source": [
        "a={\"b\":3,\"c\":1,\"a\":2}\n",
        "sorted(a)"
      ],
      "execution_count": null,
      "outputs": [
        {
          "output_type": "execute_result",
          "data": {
            "text/plain": [
              "['a', 'b', 'c']"
            ]
          },
          "metadata": {
            "tags": []
          },
          "execution_count": 22
        }
      ]
    },
    {
      "cell_type": "code",
      "metadata": {
        "id": "5YSiff1mSmCQ",
        "colab_type": "code",
        "colab": {
          "base_uri": "https://localhost:8080/",
          "height": 34
        },
        "outputId": "51de5ca8-30c6-4ff3-82a0-6bfed11a8a2f"
      },
      "source": [
        "sorted(a.items())"
      ],
      "execution_count": null,
      "outputs": [
        {
          "output_type": "execute_result",
          "data": {
            "text/plain": [
              "[('a', 2), ('b', 3), ('c', 1)]"
            ]
          },
          "metadata": {
            "tags": []
          },
          "execution_count": 23
        }
      ]
    },
    {
      "cell_type": "code",
      "metadata": {
        "id": "3C54hrsASth3",
        "colab_type": "code",
        "colab": {
          "base_uri": "https://localhost:8080/",
          "height": 34
        },
        "outputId": "72b9636b-0508-41da-dea7-e9e036f0dd9a"
      },
      "source": [
        "sorted(a.items(),key=lambda x:x[1])"
      ],
      "execution_count": null,
      "outputs": [
        {
          "output_type": "execute_result",
          "data": {
            "text/plain": [
              "[('c', 1), ('a', 2), ('b', 3)]"
            ]
          },
          "metadata": {
            "tags": []
          },
          "execution_count": 24
        }
      ]
    },
    {
      "cell_type": "markdown",
      "metadata": {
        "id": "uSzcZwI_S5i7",
        "colab_type": "text"
      },
      "source": [
        "4.6.2"
      ]
    },
    {
      "cell_type": "code",
      "metadata": {
        "id": "e1vPFEDUTPPv",
        "colab_type": "code",
        "colab": {
          "base_uri": "https://localhost:8080/",
          "height": 153
        },
        "outputId": "301432ed-0a76-41d3-efdb-014ecafc7c46"
      },
      "source": [
        "filedic={}   #ファイル名とImagePositionを代入する辞書\n",
        "filelist=[]  #ソートされた順でファイル名を代入するリスト\n",
        "\n",
        "for i,filename in enumerate(files):\n",
        "  d=pydicom.dcmread(dirname+filename)\n",
        "  filedic[filename]=d.ImagePositionPatient[2]\n",
        "  print(\"MakeDic>>\",i,filename,\"\\t\",filedic[filename])"
      ],
      "execution_count": null,
      "outputs": [
        {
          "output_type": "stream",
          "text": [
            "MakeDic>> 0 Brain02 \t -508.6741\n",
            "MakeDic>> 1 Abdomen03 \t -1024.000\n",
            "MakeDic>> 2 Brain01 \t -462.6741\n",
            "MakeDic>> 3 Abdomen01 \t -949.0000\n",
            "MakeDic>> 4 Abdomen02 \t -954.0000\n",
            "MakeDic>> 5 Lung03 \t -904.0000\n",
            "MakeDic>> 6 Lung02 \t -814.0000\n",
            "MakeDic>> 7 Lung01 \t -789.0000\n"
          ],
          "name": "stdout"
        }
      ]
    },
    {
      "cell_type": "code",
      "metadata": {
        "id": "yjWi9me8UZV3",
        "colab_type": "code",
        "colab": {
          "base_uri": "https://localhost:8080/",
          "height": 170
        },
        "outputId": "acecc53b-8137-4311-f53f-49071cf96f1b"
      },
      "source": [
        "fileSorted=sorted(filedic.items(),key=lambda x:-x[1])\n",
        "for i,fname_imgPos in enumerate(fileSorted):\n",
        "  filelist.append(fname_imgPos[0])\n",
        "  print(\"Sorted>>\",i,fname_imgPos[0],\"\\t:\",fname_imgPos[1])\n",
        "print(\"Result>>\",filelist)"
      ],
      "execution_count": null,
      "outputs": [
        {
          "output_type": "stream",
          "text": [
            "Sorted>> 0 Brain01 \t: -462.6741\n",
            "Sorted>> 1 Brain02 \t: -508.6741\n",
            "Sorted>> 2 Lung01 \t: -789.0000\n",
            "Sorted>> 3 Lung02 \t: -814.0000\n",
            "Sorted>> 4 Lung03 \t: -904.0000\n",
            "Sorted>> 5 Abdomen01 \t: -949.0000\n",
            "Sorted>> 6 Abdomen02 \t: -954.0000\n",
            "Sorted>> 7 Abdomen03 \t: -1024.000\n",
            "Result>> ['Brain01', 'Brain02', 'Lung01', 'Lung02', 'Lung03', 'Abdomen01', 'Abdomen02', 'Abdomen03']\n"
          ],
          "name": "stdout"
        }
      ]
    },
    {
      "cell_type": "markdown",
      "metadata": {
        "id": "5N6uAe1eVl1W",
        "colab_type": "text"
      },
      "source": [
        "###4.7 DICOM画像をシリーズ毎に整理する"
      ]
    },
    {
      "cell_type": "markdown",
      "metadata": {
        "id": "NKluFHo3hJ7h",
        "colab_type": "text"
      },
      "source": [
        "4.7.1"
      ]
    },
    {
      "cell_type": "code",
      "metadata": {
        "id": "_4tB-igBiEW9",
        "colab_type": "code",
        "colab": {
          "base_uri": "https://localhost:8080/",
          "height": 442
        },
        "outputId": "a36fd7e5-ebfe-4b76-bed6-8639f9028aa1"
      },
      "source": [
        "import os\n",
        "import pydicom\n",
        "\n",
        "dirnm=\"/content/drive/My Drive/DATASET/dataset/ct_dcmdir/\"\n",
        "dstdir=\"/content/drive/My Drive/result\"\n",
        "\n",
        "if not os.path.isdir(dstdir):\n",
        "  os.mkdir(dstdir)\n",
        "  print(\"新しくディレクトリ\"+dstdir+\"を作成しました。\")\n",
        "\n",
        "files=os.listdir(dirnm)\n",
        "print(\">>1>>\",files)\n",
        "\n",
        "for fnm in files:\n",
        "  ds=pydicom.dcmread(dirnm+fnm)\n",
        "  print(\"-\"*50)\n",
        "  print(\"File Name:\",ds.SeriesInstanceUID)\n",
        "  print(\"Seiris No\",ds.SeriesNumber)"
      ],
      "execution_count": 68,
      "outputs": [
        {
          "output_type": "stream",
          "text": [
            ">>1>> ['Brain02', 'Abdomen03', 'Brain01', 'Abdomen01', 'Abdomen02', 'Lung03', 'Lung02', 'Lung01']\n",
            "--------------------------------------------------\n",
            "File Name: 1.2.392.200036.9116.2.6.1.16.1613469034.1289543929.202106\n",
            "Seiris No 1\n",
            "--------------------------------------------------\n",
            "File Name: 1.2.392.200036.9116.2.6.1.16.1613469034.1289544231.883115\n",
            "Seiris No 2\n",
            "--------------------------------------------------\n",
            "File Name: 1.2.392.200036.9116.2.6.1.16.1613469034.1289543929.202106\n",
            "Seiris No 1\n",
            "--------------------------------------------------\n",
            "File Name: 1.2.392.200036.9116.2.6.1.16.1613469034.1289544231.883115\n",
            "Seiris No 2\n",
            "--------------------------------------------------\n",
            "File Name: 1.2.392.200036.9116.2.6.1.16.1613469034.1289544231.883115\n",
            "Seiris No 2\n",
            "--------------------------------------------------\n",
            "File Name: 1.2.392.200036.9116.2.6.1.16.1613469034.1289544291.542320\n",
            "Seiris No 3\n",
            "--------------------------------------------------\n",
            "File Name: 1.2.392.200036.9116.2.6.1.16.1613469034.1289544291.542320\n",
            "Seiris No 3\n",
            "--------------------------------------------------\n",
            "File Name: 1.2.392.200036.9116.2.6.1.16.1613469034.1289544291.542320\n",
            "Seiris No 3\n"
          ],
          "name": "stdout"
        }
      ]
    },
    {
      "cell_type": "markdown",
      "metadata": {
        "id": "-jf538DVkebp",
        "colab_type": "text"
      },
      "source": [
        "4.7.2"
      ]
    },
    {
      "cell_type": "code",
      "metadata": {
        "id": "JRJwST0jk8un",
        "colab_type": "code",
        "colab": {
          "base_uri": "https://localhost:8080/",
          "height": 153
        },
        "outputId": "38a86867-39f1-4553-96ad-d4e60d17ccf2"
      },
      "source": [
        "for fnm in files:\n",
        "  ds=pydicom.dcmread(dirnm+fnm)\n",
        "  subdir=str(ds.SeriesNumber)\n",
        "  #print(subdir)\n",
        "  if not os.path.isdir(dstdir+subdir):\n",
        "    os.mkdir(dstdir+subdir)\n",
        "    print(\"サブディレクトリ\",subdir,\"を作成しました。\")\n",
        "  pydicom.dcmwrite(dstdir+subdir+\"/\"+fnm,ds)\n",
        "  print(\"\\tファイル\",fnm,\"をコピーしました。\")"
      ],
      "execution_count": 74,
      "outputs": [
        {
          "output_type": "stream",
          "text": [
            "\tファイル Brain02 をコピーしました。\n",
            "\tファイル Abdomen03 をコピーしました。\n",
            "\tファイル Brain01 をコピーしました。\n",
            "\tファイル Abdomen01 をコピーしました。\n",
            "\tファイル Abdomen02 をコピーしました。\n",
            "\tファイル Lung03 をコピーしました。\n",
            "\tファイル Lung02 をコピーしました。\n",
            "\tファイル Lung01 をコピーしました。\n"
          ],
          "name": "stdout"
        }
      ]
    },
    {
      "cell_type": "code",
      "metadata": {
        "id": "q20T9Z7om04V",
        "colab_type": "code",
        "colab": {}
      },
      "source": [
        ""
      ],
      "execution_count": 71,
      "outputs": []
    }
  ]
}